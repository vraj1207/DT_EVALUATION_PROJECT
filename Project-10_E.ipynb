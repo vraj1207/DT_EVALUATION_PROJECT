{
 "cells": [
  {
   "cell_type": "markdown",
   "metadata": {},
   "source": [
    "# Project - 10 Agriculture Dataset Project"
   ]
  },
  {
   "cell_type": "markdown",
   "metadata": {},
   "source": [
    "About The Project:-\n",
    "\n",
    "Most important field in any part of the world is agriculture. Food is must for every living thing on the earth and for human\n",
    "it is mostly come from farming,ut a farmer's job is real test of endurance and determination. Once the seeds are sown,he works\n",
    "days and nights to make sure that he cultivates a good harvest at the end of season. A good harvest is ensured by several \n",
    "factors such as availability of water, soil fertility, protecting crops from rodents, timely use of pesticides & other \n",
    "useful chemicals and nature. While a lot of these factors are difficult to control for, the amount and frequency of pesticides\n",
    "is something the farmer can control.I will use machine learning technique to build the model which will predict the outcome of\n",
    "the harvest season, i.e. whether the crop would be healthy (alive), damaged by pesticides or damaged by other reasons."
   ]
  },
  {
   "cell_type": "markdown",
   "metadata": {},
   "source": [
    "About The dataset:-\n",
    "\n",
    "The dataset consist of many features like ID,Estimated_Insects_Count,Crop_Type,Soil_Type,Pesticide_Use_Category\n",
    "Number_Doses_Week,Number_Weeks_Used,Number_Weeks_Quit,Season,Crop_Damage. I will use classification technique to predict the\n",
    "crop damage catrgory.\n",
    "Here are the unique feature present in the dataset:-\n",
    "\n",
    "1. ID -> Unique ID\n",
    "2. Estimated_Insects_Count -> Estimated Insect Count per squaremeter\n",
    "3. Crop_Type -> Category of crop (0,1)\n",
    "4. Soil_Type -> Category of Soil(0,1)\n",
    "5. Pesticide_Use_Category -> Type of presticides uses (1=Never,2=Previously used,3=Currently using)\n",
    "6. Number_Doses_Week -> Number of doses per week\n",
    "7. Number_Weeks_Used -> Number of weeks used\n",
    "8. Number_Weeks_Quit -> Number of weeks quit\n",
    "9. Season -> Season Category(1,2,3)\n",
    "10.Crop_Damage -> Crop damage Category (0=alive,1=Damaage due to other causes,2=Damage due to presticides)\n",
    "\n",
    "After observing dataset i found that most label are present in the dataset so i will use classification techniques to predict\n",
    "the target variable which is Crop_Damage."
   ]
  },
  {
   "cell_type": "code",
   "execution_count": 119,
   "metadata": {},
   "outputs": [],
   "source": [
    "#Importing some important library\n",
    "import pandas as pd"
   ]
  },
  {
   "cell_type": "code",
   "execution_count": 120,
   "metadata": {},
   "outputs": [
    {
     "data": {
      "text/html": [
       "<div>\n",
       "<style scoped>\n",
       "    .dataframe tbody tr th:only-of-type {\n",
       "        vertical-align: middle;\n",
       "    }\n",
       "\n",
       "    .dataframe tbody tr th {\n",
       "        vertical-align: top;\n",
       "    }\n",
       "\n",
       "    .dataframe thead th {\n",
       "        text-align: right;\n",
       "    }\n",
       "</style>\n",
       "<table border=\"1\" class=\"dataframe\">\n",
       "  <thead>\n",
       "    <tr style=\"text-align: right;\">\n",
       "      <th></th>\n",
       "      <th>ID</th>\n",
       "      <th>Estimated_Insects_Count</th>\n",
       "      <th>Crop_Type</th>\n",
       "      <th>Soil_Type</th>\n",
       "      <th>Pesticide_Use_Category</th>\n",
       "      <th>Number_Doses_Week</th>\n",
       "      <th>Number_Weeks_Used</th>\n",
       "      <th>Number_Weeks_Quit</th>\n",
       "      <th>Season</th>\n",
       "      <th>Crop_Damage</th>\n",
       "    </tr>\n",
       "  </thead>\n",
       "  <tbody>\n",
       "    <tr>\n",
       "      <th>0</th>\n",
       "      <td>F00000001</td>\n",
       "      <td>188</td>\n",
       "      <td>1</td>\n",
       "      <td>0</td>\n",
       "      <td>1</td>\n",
       "      <td>0</td>\n",
       "      <td>0.0</td>\n",
       "      <td>0</td>\n",
       "      <td>1</td>\n",
       "      <td>0</td>\n",
       "    </tr>\n",
       "    <tr>\n",
       "      <th>1</th>\n",
       "      <td>F00000003</td>\n",
       "      <td>209</td>\n",
       "      <td>1</td>\n",
       "      <td>0</td>\n",
       "      <td>1</td>\n",
       "      <td>0</td>\n",
       "      <td>0.0</td>\n",
       "      <td>0</td>\n",
       "      <td>2</td>\n",
       "      <td>1</td>\n",
       "    </tr>\n",
       "    <tr>\n",
       "      <th>2</th>\n",
       "      <td>F00000004</td>\n",
       "      <td>257</td>\n",
       "      <td>1</td>\n",
       "      <td>0</td>\n",
       "      <td>1</td>\n",
       "      <td>0</td>\n",
       "      <td>0.0</td>\n",
       "      <td>0</td>\n",
       "      <td>2</td>\n",
       "      <td>1</td>\n",
       "    </tr>\n",
       "    <tr>\n",
       "      <th>3</th>\n",
       "      <td>F00000005</td>\n",
       "      <td>257</td>\n",
       "      <td>1</td>\n",
       "      <td>1</td>\n",
       "      <td>1</td>\n",
       "      <td>0</td>\n",
       "      <td>0.0</td>\n",
       "      <td>0</td>\n",
       "      <td>2</td>\n",
       "      <td>1</td>\n",
       "    </tr>\n",
       "    <tr>\n",
       "      <th>4</th>\n",
       "      <td>F00000006</td>\n",
       "      <td>342</td>\n",
       "      <td>1</td>\n",
       "      <td>0</td>\n",
       "      <td>1</td>\n",
       "      <td>0</td>\n",
       "      <td>0.0</td>\n",
       "      <td>0</td>\n",
       "      <td>2</td>\n",
       "      <td>1</td>\n",
       "    </tr>\n",
       "  </tbody>\n",
       "</table>\n",
       "</div>"
      ],
      "text/plain": [
       "          ID  Estimated_Insects_Count  Crop_Type  Soil_Type  \\\n",
       "0  F00000001                      188          1          0   \n",
       "1  F00000003                      209          1          0   \n",
       "2  F00000004                      257          1          0   \n",
       "3  F00000005                      257          1          1   \n",
       "4  F00000006                      342          1          0   \n",
       "\n",
       "   Pesticide_Use_Category  Number_Doses_Week  Number_Weeks_Used  \\\n",
       "0                       1                  0                0.0   \n",
       "1                       1                  0                0.0   \n",
       "2                       1                  0                0.0   \n",
       "3                       1                  0                0.0   \n",
       "4                       1                  0                0.0   \n",
       "\n",
       "   Number_Weeks_Quit  Season  Crop_Damage  \n",
       "0                  0       1            0  \n",
       "1                  0       2            1  \n",
       "2                  0       2            1  \n",
       "3                  0       2            1  \n",
       "4                  0       2            1  "
      ]
     },
     "execution_count": 120,
     "metadata": {},
     "output_type": "execute_result"
    }
   ],
   "source": [
    "#Importing the dataset into dataframe df for furthure working\n",
    "df = pd.read_csv(\"train_agriculture.csv\")\n",
    "df.head()"
   ]
  },
  {
   "cell_type": "code",
   "execution_count": 121,
   "metadata": {},
   "outputs": [
    {
     "data": {
      "text/plain": [
       "ID                          object\n",
       "Estimated_Insects_Count      int64\n",
       "Crop_Type                    int64\n",
       "Soil_Type                    int64\n",
       "Pesticide_Use_Category       int64\n",
       "Number_Doses_Week            int64\n",
       "Number_Weeks_Used          float64\n",
       "Number_Weeks_Quit            int64\n",
       "Season                       int64\n",
       "Crop_Damage                  int64\n",
       "dtype: object"
      ]
     },
     "execution_count": 121,
     "metadata": {},
     "output_type": "execute_result"
    }
   ],
   "source": [
    "#Checking the datatypes of the columns present in the dataset\n",
    "df.dtypes"
   ]
  },
  {
   "cell_type": "raw",
   "metadata": {},
   "source": [
    "As per above observation we can see that ID is object and rest are int type of data."
   ]
  },
  {
   "cell_type": "markdown",
   "metadata": {},
   "source": [
    "# Exploratory Data Analysis"
   ]
  },
  {
   "cell_type": "code",
   "execution_count": 122,
   "metadata": {},
   "outputs": [
    {
     "data": {
      "text/plain": [
       "(4599, 10)"
      ]
     },
     "execution_count": 122,
     "metadata": {},
     "output_type": "execute_result"
    }
   ],
   "source": [
    "#This will give the shape of the data\n",
    "df.shape"
   ]
  },
  {
   "cell_type": "raw",
   "metadata": {},
   "source": [
    "There are 10 columns and 4599 rows present in the dataset."
   ]
  },
  {
   "cell_type": "code",
   "execution_count": 123,
   "metadata": {},
   "outputs": [
    {
     "name": "stdout",
     "output_type": "stream",
     "text": [
      "<class 'pandas.core.frame.DataFrame'>\n",
      "RangeIndex: 4599 entries, 0 to 4598\n",
      "Data columns (total 10 columns):\n",
      " #   Column                   Non-Null Count  Dtype  \n",
      "---  ------                   --------------  -----  \n",
      " 0   ID                       4599 non-null   object \n",
      " 1   Estimated_Insects_Count  4599 non-null   int64  \n",
      " 2   Crop_Type                4599 non-null   int64  \n",
      " 3   Soil_Type                4599 non-null   int64  \n",
      " 4   Pesticide_Use_Category   4599 non-null   int64  \n",
      " 5   Number_Doses_Week        4599 non-null   int64  \n",
      " 6   Number_Weeks_Used        4157 non-null   float64\n",
      " 7   Number_Weeks_Quit        4599 non-null   int64  \n",
      " 8   Season                   4599 non-null   int64  \n",
      " 9   Crop_Damage              4599 non-null   int64  \n",
      "dtypes: float64(1), int64(8), object(1)\n",
      "memory usage: 359.4+ KB\n"
     ]
    }
   ],
   "source": [
    "#This will give the information of dataset like not null columns,count and also datatype\n",
    "df.info()"
   ]
  },
  {
   "cell_type": "markdown",
   "metadata": {},
   "source": [
    "As per above observation we can see that there 4599 null values present in the dataset in all columns accept of column \n",
    "Number_Weeks_Used as there are 4157 values present so it seems there is missing value present in the dataset."
   ]
  },
  {
   "cell_type": "code",
   "execution_count": 124,
   "metadata": {},
   "outputs": [
    {
     "data": {
      "text/plain": [
       "ID                           0\n",
       "Estimated_Insects_Count      0\n",
       "Crop_Type                    0\n",
       "Soil_Type                    0\n",
       "Pesticide_Use_Category       0\n",
       "Number_Doses_Week            0\n",
       "Number_Weeks_Used          442\n",
       "Number_Weeks_Quit            0\n",
       "Season                       0\n",
       "Crop_Damage                  0\n",
       "dtype: int64"
      ]
     },
     "execution_count": 124,
     "metadata": {},
     "output_type": "execute_result"
    }
   ],
   "source": [
    "#Checking the missing values present in the dataset and there counts columnwise by this method\n",
    "df.isnull().sum()"
   ]
  },
  {
   "cell_type": "raw",
   "metadata": {},
   "source": [
    "Here we can see by above observaation in the column Number_Weeks_Used there are 442 missing value present in the dataset."
   ]
  },
  {
   "cell_type": "code",
   "execution_count": 125,
   "metadata": {},
   "outputs": [],
   "source": [
    "#Treating and missing values by taking average of the column variable\n",
    "df['Number_Weeks_Used'].fillna(df['Number_Weeks_Used'].mean(), inplace=True)"
   ]
  },
  {
   "cell_type": "code",
   "execution_count": 126,
   "metadata": {},
   "outputs": [
    {
     "data": {
      "text/plain": [
       "ID                         0\n",
       "Estimated_Insects_Count    0\n",
       "Crop_Type                  0\n",
       "Soil_Type                  0\n",
       "Pesticide_Use_Category     0\n",
       "Number_Doses_Week          0\n",
       "Number_Weeks_Used          0\n",
       "Number_Weeks_Quit          0\n",
       "Season                     0\n",
       "Crop_Damage                0\n",
       "dtype: int64"
      ]
     },
     "execution_count": 126,
     "metadata": {},
     "output_type": "execute_result"
    }
   ],
   "source": [
    "#Checking again if missing values present in the dataset\n",
    "df.isnull().sum()"
   ]
  },
  {
   "cell_type": "raw",
   "metadata": {},
   "source": [
    "By above observation we can see now that the missing values are taken care of and now there is no missing values present."
   ]
  },
  {
   "cell_type": "code",
   "execution_count": 127,
   "metadata": {},
   "outputs": [
    {
     "data": {
      "text/plain": [
       "Index(['ID', 'Estimated_Insects_Count', 'Crop_Type', 'Soil_Type',\n",
       "       'Pesticide_Use_Category', 'Number_Doses_Week', 'Number_Weeks_Used',\n",
       "       'Number_Weeks_Quit', 'Season', 'Crop_Damage'],\n",
       "      dtype='object')"
      ]
     },
     "execution_count": 127,
     "metadata": {},
     "output_type": "execute_result"
    }
   ],
   "source": [
    "#This will give all columns present in the dataset with full name\n",
    "df.columns"
   ]
  },
  {
   "cell_type": "code",
   "execution_count": 128,
   "metadata": {},
   "outputs": [
    {
     "data": {
      "text/plain": [
       "array([0, 1, 2], dtype=int64)"
      ]
     },
     "execution_count": 128,
     "metadata": {},
     "output_type": "execute_result"
    }
   ],
   "source": [
    "#Checkin the unique values present in the target column\n",
    "df['Crop_Damage'].unique()"
   ]
  },
  {
   "cell_type": "code",
   "execution_count": 129,
   "metadata": {},
   "outputs": [
    {
     "data": {
      "text/plain": [
       "0    3820\n",
       "1     664\n",
       "2     115\n",
       "Name: Crop_Damage, dtype: int64"
      ]
     },
     "execution_count": 129,
     "metadata": {},
     "output_type": "execute_result"
    }
   ],
   "source": [
    "#Checkin the how many values present in the each of label in the target columns\n",
    "df['Crop_Damage'].value_counts()"
   ]
  },
  {
   "cell_type": "raw",
   "metadata": {},
   "source": [
    "Here  we can see that the highest number of existince of alive corp against of rest type."
   ]
  },
  {
   "cell_type": "markdown",
   "metadata": {},
   "source": [
    "# Summary Statistic"
   ]
  },
  {
   "cell_type": "code",
   "execution_count": 130,
   "metadata": {},
   "outputs": [
    {
     "data": {
      "text/html": [
       "<div>\n",
       "<style scoped>\n",
       "    .dataframe tbody tr th:only-of-type {\n",
       "        vertical-align: middle;\n",
       "    }\n",
       "\n",
       "    .dataframe tbody tr th {\n",
       "        vertical-align: top;\n",
       "    }\n",
       "\n",
       "    .dataframe thead th {\n",
       "        text-align: right;\n",
       "    }\n",
       "</style>\n",
       "<table border=\"1\" class=\"dataframe\">\n",
       "  <thead>\n",
       "    <tr style=\"text-align: right;\">\n",
       "      <th></th>\n",
       "      <th>Estimated_Insects_Count</th>\n",
       "      <th>Crop_Type</th>\n",
       "      <th>Soil_Type</th>\n",
       "      <th>Pesticide_Use_Category</th>\n",
       "      <th>Number_Doses_Week</th>\n",
       "      <th>Number_Weeks_Used</th>\n",
       "      <th>Number_Weeks_Quit</th>\n",
       "      <th>Season</th>\n",
       "      <th>Crop_Damage</th>\n",
       "    </tr>\n",
       "  </thead>\n",
       "  <tbody>\n",
       "    <tr>\n",
       "      <th>count</th>\n",
       "      <td>4599.000000</td>\n",
       "      <td>4599.000000</td>\n",
       "      <td>4599.000000</td>\n",
       "      <td>4599.000000</td>\n",
       "      <td>4599.000000</td>\n",
       "      <td>4599.000000</td>\n",
       "      <td>4599.000000</td>\n",
       "      <td>4599.000000</td>\n",
       "      <td>4599.000000</td>\n",
       "    </tr>\n",
       "    <tr>\n",
       "      <th>mean</th>\n",
       "      <td>1363.000435</td>\n",
       "      <td>0.224831</td>\n",
       "      <td>0.476625</td>\n",
       "      <td>2.283540</td>\n",
       "      <td>26.477495</td>\n",
       "      <td>28.891027</td>\n",
       "      <td>9.205479</td>\n",
       "      <td>1.894325</td>\n",
       "      <td>0.194390</td>\n",
       "    </tr>\n",
       "    <tr>\n",
       "      <th>std</th>\n",
       "      <td>814.439120</td>\n",
       "      <td>0.417517</td>\n",
       "      <td>0.499508</td>\n",
       "      <td>0.471978</td>\n",
       "      <td>15.524647</td>\n",
       "      <td>11.965785</td>\n",
       "      <td>9.713253</td>\n",
       "      <td>0.694952</td>\n",
       "      <td>0.454597</td>\n",
       "    </tr>\n",
       "    <tr>\n",
       "      <th>min</th>\n",
       "      <td>150.000000</td>\n",
       "      <td>0.000000</td>\n",
       "      <td>0.000000</td>\n",
       "      <td>1.000000</td>\n",
       "      <td>0.000000</td>\n",
       "      <td>0.000000</td>\n",
       "      <td>0.000000</td>\n",
       "      <td>1.000000</td>\n",
       "      <td>0.000000</td>\n",
       "    </tr>\n",
       "    <tr>\n",
       "      <th>25%</th>\n",
       "      <td>731.000000</td>\n",
       "      <td>0.000000</td>\n",
       "      <td>0.000000</td>\n",
       "      <td>2.000000</td>\n",
       "      <td>15.000000</td>\n",
       "      <td>20.000000</td>\n",
       "      <td>0.000000</td>\n",
       "      <td>1.000000</td>\n",
       "      <td>0.000000</td>\n",
       "    </tr>\n",
       "    <tr>\n",
       "      <th>50%</th>\n",
       "      <td>1212.000000</td>\n",
       "      <td>0.000000</td>\n",
       "      <td>0.000000</td>\n",
       "      <td>2.000000</td>\n",
       "      <td>20.000000</td>\n",
       "      <td>28.891027</td>\n",
       "      <td>7.000000</td>\n",
       "      <td>2.000000</td>\n",
       "      <td>0.000000</td>\n",
       "    </tr>\n",
       "    <tr>\n",
       "      <th>75%</th>\n",
       "      <td>1786.000000</td>\n",
       "      <td>0.000000</td>\n",
       "      <td>1.000000</td>\n",
       "      <td>3.000000</td>\n",
       "      <td>40.000000</td>\n",
       "      <td>36.000000</td>\n",
       "      <td>16.000000</td>\n",
       "      <td>2.000000</td>\n",
       "      <td>0.000000</td>\n",
       "    </tr>\n",
       "    <tr>\n",
       "      <th>max</th>\n",
       "      <td>4097.000000</td>\n",
       "      <td>1.000000</td>\n",
       "      <td>1.000000</td>\n",
       "      <td>3.000000</td>\n",
       "      <td>95.000000</td>\n",
       "      <td>66.000000</td>\n",
       "      <td>47.000000</td>\n",
       "      <td>3.000000</td>\n",
       "      <td>2.000000</td>\n",
       "    </tr>\n",
       "  </tbody>\n",
       "</table>\n",
       "</div>"
      ],
      "text/plain": [
       "       Estimated_Insects_Count    Crop_Type    Soil_Type  \\\n",
       "count              4599.000000  4599.000000  4599.000000   \n",
       "mean               1363.000435     0.224831     0.476625   \n",
       "std                 814.439120     0.417517     0.499508   \n",
       "min                 150.000000     0.000000     0.000000   \n",
       "25%                 731.000000     0.000000     0.000000   \n",
       "50%                1212.000000     0.000000     0.000000   \n",
       "75%                1786.000000     0.000000     1.000000   \n",
       "max                4097.000000     1.000000     1.000000   \n",
       "\n",
       "       Pesticide_Use_Category  Number_Doses_Week  Number_Weeks_Used  \\\n",
       "count             4599.000000        4599.000000        4599.000000   \n",
       "mean                 2.283540          26.477495          28.891027   \n",
       "std                  0.471978          15.524647          11.965785   \n",
       "min                  1.000000           0.000000           0.000000   \n",
       "25%                  2.000000          15.000000          20.000000   \n",
       "50%                  2.000000          20.000000          28.891027   \n",
       "75%                  3.000000          40.000000          36.000000   \n",
       "max                  3.000000          95.000000          66.000000   \n",
       "\n",
       "       Number_Weeks_Quit       Season  Crop_Damage  \n",
       "count        4599.000000  4599.000000  4599.000000  \n",
       "mean            9.205479     1.894325     0.194390  \n",
       "std             9.713253     0.694952     0.454597  \n",
       "min             0.000000     1.000000     0.000000  \n",
       "25%             0.000000     1.000000     0.000000  \n",
       "50%             7.000000     2.000000     0.000000  \n",
       "75%            16.000000     2.000000     0.000000  \n",
       "max            47.000000     3.000000     2.000000  "
      ]
     },
     "execution_count": 130,
     "metadata": {},
     "output_type": "execute_result"
    }
   ],
   "source": [
    "#This will give the stastical information of dataset like mean,STD,max,min etc. I will use the information populated.\n",
    "df.describe()"
   ]
  },
  {
   "cell_type": "markdown",
   "metadata": {},
   "source": [
    "Key Observation:-\n",
    "\n",
    "1. We can see that there is 4599 values vailable across all columns so we can say that there is no missing value present in the\n",
    "   dataset.\n",
    "    \n",
    "2. Standard deviation is very high in the column Estimated_Insects_Counts so data in this columns is spread and range is high.\n",
    "\n",
    "3. STD is also high in columns Number_Does_Week,Number_Does_Used and Number_Weeks_Quit so range is high also in these \n",
    "   columns and data is not normally distributed in thses columns.\n",
    "    \n",
    "4. Mean is higher than median across all columns accept of Season. It means skewness is present in these columns and columns\n",
    "   are right skewed or +e skewed.\n",
    "    \n",
    "5. In season column median  is high than mean so it is left skewed or negative skewed.\n",
    "\n",
    "6. Difference between min and max is high in most of the column which shows high range and spreadness of data.\n",
    "\n",
    "7. Difference between 75 percentile and max is high in columns like Estimated_Insects_Count ,Number_Does_Week,Number_Does_Used\n",
    "   Number_Weeks_Quit . So by this observation we can say that there is outliers present in these columns which will we confirm\n",
    "   after plotting boxplot.\n",
    "   "
   ]
  },
  {
   "cell_type": "markdown",
   "metadata": {},
   "source": [
    "# Data Visulization"
   ]
  },
  {
   "cell_type": "code",
   "execution_count": 131,
   "metadata": {},
   "outputs": [],
   "source": [
    "#Importing some important library to see data in visulization form and finding some observation\n",
    "import matplotlib.pyplot as plt\n",
    "import seaborn as sns\n",
    "import warnings\n",
    "warnings.filterwarnings('ignore')"
   ]
  },
  {
   "cell_type": "code",
   "execution_count": 132,
   "metadata": {},
   "outputs": [
    {
     "data": {
      "text/plain": [
       "<matplotlib.axes._subplots.AxesSubplot at 0x1b4fbef1550>"
      ]
     },
     "execution_count": 132,
     "metadata": {},
     "output_type": "execute_result"
    },
    {
     "data": {
      "image/png": "[encoded data removed]",
      "text/plain": [
       "<Figure size 432x288 with 2 Axes>"
      ]
     },
     "metadata": {
      "needs_background": "light"
     },
     "output_type": "display_data"
    }
   ],
   "source": [
    "#Checking the missing value present in the dataset by plotting graph which make sure that there is no missing value present\n",
    "sns.heatmap(df.isnull())"
   ]
  },
  {
   "cell_type": "raw",
   "metadata": {},
   "source": [
    "By above plot we can see that there is no any gap showing. By this i can confirm  that there is no missing value present."
   ]
  },
  {
   "cell_type": "code",
   "execution_count": 133,
   "metadata": {},
   "outputs": [
    {
     "data": {
      "text/html": [
       "<div>\n",
       "<style scoped>\n",
       "    .dataframe tbody tr th:only-of-type {\n",
       "        vertical-align: middle;\n",
       "    }\n",
       "\n",
       "    .dataframe tbody tr th {\n",
       "        vertical-align: top;\n",
       "    }\n",
       "\n",
       "    .dataframe thead th {\n",
       "        text-align: right;\n",
       "    }\n",
       "</style>\n",
       "<table border=\"1\" class=\"dataframe\">\n",
       "  <thead>\n",
       "    <tr style=\"text-align: right;\">\n",
       "      <th></th>\n",
       "      <th>Estimated_Insects_Count</th>\n",
       "      <th>Crop_Type</th>\n",
       "      <th>Soil_Type</th>\n",
       "      <th>Pesticide_Use_Category</th>\n",
       "      <th>Number_Doses_Week</th>\n",
       "      <th>Number_Weeks_Used</th>\n",
       "      <th>Number_Weeks_Quit</th>\n",
       "      <th>Season</th>\n",
       "      <th>Crop_Damage</th>\n",
       "    </tr>\n",
       "  </thead>\n",
       "  <tbody>\n",
       "    <tr>\n",
       "      <th>Estimated_Insects_Count</th>\n",
       "      <td>1.000000</td>\n",
       "      <td>-0.036911</td>\n",
       "      <td>-0.151796</td>\n",
       "      <td>-0.027111</td>\n",
       "      <td>-0.122509</td>\n",
       "      <td>0.427904</td>\n",
       "      <td>0.246719</td>\n",
       "      <td>-0.009482</td>\n",
       "      <td>0.202312</td>\n",
       "    </tr>\n",
       "    <tr>\n",
       "      <th>Crop_Type</th>\n",
       "      <td>-0.036911</td>\n",
       "      <td>1.000000</td>\n",
       "      <td>-0.175019</td>\n",
       "      <td>0.349662</td>\n",
       "      <td>-0.163832</td>\n",
       "      <td>-0.002128</td>\n",
       "      <td>-0.273475</td>\n",
       "      <td>-0.000549</td>\n",
       "      <td>0.021772</td>\n",
       "    </tr>\n",
       "    <tr>\n",
       "      <th>Soil_Type</th>\n",
       "      <td>-0.151796</td>\n",
       "      <td>-0.175019</td>\n",
       "      <td>1.000000</td>\n",
       "      <td>0.021661</td>\n",
       "      <td>0.050099</td>\n",
       "      <td>-0.093539</td>\n",
       "      <td>-0.034355</td>\n",
       "      <td>0.011052</td>\n",
       "      <td>-0.059481</td>\n",
       "    </tr>\n",
       "    <tr>\n",
       "      <th>Pesticide_Use_Category</th>\n",
       "      <td>-0.027111</td>\n",
       "      <td>0.349662</td>\n",
       "      <td>0.021661</td>\n",
       "      <td>1.000000</td>\n",
       "      <td>-0.005985</td>\n",
       "      <td>0.368106</td>\n",
       "      <td>-0.569467</td>\n",
       "      <td>0.008487</td>\n",
       "      <td>0.199195</td>\n",
       "    </tr>\n",
       "    <tr>\n",
       "      <th>Number_Doses_Week</th>\n",
       "      <td>-0.122509</td>\n",
       "      <td>-0.163832</td>\n",
       "      <td>0.050099</td>\n",
       "      <td>-0.005985</td>\n",
       "      <td>1.000000</td>\n",
       "      <td>0.099705</td>\n",
       "      <td>-0.032381</td>\n",
       "      <td>-0.003768</td>\n",
       "      <td>-0.018363</td>\n",
       "    </tr>\n",
       "    <tr>\n",
       "      <th>Number_Weeks_Used</th>\n",
       "      <td>0.427904</td>\n",
       "      <td>-0.002128</td>\n",
       "      <td>-0.093539</td>\n",
       "      <td>0.368106</td>\n",
       "      <td>0.099705</td>\n",
       "      <td>1.000000</td>\n",
       "      <td>-0.446200</td>\n",
       "      <td>-0.010590</td>\n",
       "      <td>0.231925</td>\n",
       "    </tr>\n",
       "    <tr>\n",
       "      <th>Number_Weeks_Quit</th>\n",
       "      <td>0.246719</td>\n",
       "      <td>-0.273475</td>\n",
       "      <td>-0.034355</td>\n",
       "      <td>-0.569467</td>\n",
       "      <td>-0.032381</td>\n",
       "      <td>-0.446200</td>\n",
       "      <td>1.000000</td>\n",
       "      <td>0.004861</td>\n",
       "      <td>-0.152918</td>\n",
       "    </tr>\n",
       "    <tr>\n",
       "      <th>Season</th>\n",
       "      <td>-0.009482</td>\n",
       "      <td>-0.000549</td>\n",
       "      <td>0.011052</td>\n",
       "      <td>0.008487</td>\n",
       "      <td>-0.003768</td>\n",
       "      <td>-0.010590</td>\n",
       "      <td>0.004861</td>\n",
       "      <td>1.000000</td>\n",
       "      <td>-0.016196</td>\n",
       "    </tr>\n",
       "    <tr>\n",
       "      <th>Crop_Damage</th>\n",
       "      <td>0.202312</td>\n",
       "      <td>0.021772</td>\n",
       "      <td>-0.059481</td>\n",
       "      <td>0.199195</td>\n",
       "      <td>-0.018363</td>\n",
       "      <td>0.231925</td>\n",
       "      <td>-0.152918</td>\n",
       "      <td>-0.016196</td>\n",
       "      <td>1.000000</td>\n",
       "    </tr>\n",
       "  </tbody>\n",
       "</table>\n",
       "</div>"
      ],
      "text/plain": [
       "                         Estimated_Insects_Count  Crop_Type  Soil_Type  \\\n",
       "Estimated_Insects_Count                 1.000000  -0.036911  -0.151796   \n",
       "Crop_Type                              -0.036911   1.000000  -0.175019   \n",
       "Soil_Type                              -0.151796  -0.175019   1.000000   \n",
       "Pesticide_Use_Category                 -0.027111   0.349662   0.021661   \n",
       "Number_Doses_Week                      -0.122509  -0.163832   0.050099   \n",
       "Number_Weeks_Used                       0.427904  -0.002128  -0.093539   \n",
       "Number_Weeks_Quit                       0.246719  -0.273475  -0.034355   \n",
       "Season                                 -0.009482  -0.000549   0.011052   \n",
       "Crop_Damage                             0.202312   0.021772  -0.059481   \n",
       "\n",
       "                         Pesticide_Use_Category  Number_Doses_Week  \\\n",
       "Estimated_Insects_Count               -0.027111          -0.122509   \n",
       "Crop_Type                              0.349662          -0.163832   \n",
       "Soil_Type                              0.021661           0.050099   \n",
       "Pesticide_Use_Category                 1.000000          -0.005985   \n",
       "Number_Doses_Week                     -0.005985           1.000000   \n",
       "Number_Weeks_Used                      0.368106           0.099705   \n",
       "Number_Weeks_Quit                     -0.569467          -0.032381   \n",
       "Season                                 0.008487          -0.003768   \n",
       "Crop_Damage                            0.199195          -0.018363   \n",
       "\n",
       "                         Number_Weeks_Used  Number_Weeks_Quit    Season  \\\n",
       "Estimated_Insects_Count           0.427904           0.246719 -0.009482   \n",
       "Crop_Type                        -0.002128          -0.273475 -0.000549   \n",
       "Soil_Type                        -0.093539          -0.034355  0.011052   \n",
       "Pesticide_Use_Category            0.368106          -0.569467  0.008487   \n",
       "Number_Doses_Week                 0.099705          -0.032381 -0.003768   \n",
       "Number_Weeks_Used                 1.000000          -0.446200 -0.010590   \n",
       "Number_Weeks_Quit                -0.446200           1.000000  0.004861   \n",
       "Season                           -0.010590           0.004861  1.000000   \n",
       "Crop_Damage                       0.231925          -0.152918 -0.016196   \n",
       "\n",
       "                         Crop_Damage  \n",
       "Estimated_Insects_Count     0.202312  \n",
       "Crop_Type                   0.021772  \n",
       "Soil_Type                  -0.059481  \n",
       "Pesticide_Use_Category      0.199195  \n",
       "Number_Doses_Week          -0.018363  \n",
       "Number_Weeks_Used           0.231925  \n",
       "Number_Weeks_Quit          -0.152918  \n",
       "Season                     -0.016196  \n",
       "Crop_Damage                 1.000000  "
      ]
     },
     "execution_count": 133,
     "metadata": {},
     "output_type": "execute_result"
    }
   ],
   "source": [
    "#Checking the corelation of other variables with our target variables\n",
    "dfcor = df.corr()\n",
    "dfcor"
   ]
  },
  {
   "cell_type": "code",
   "execution_count": 134,
   "metadata": {},
   "outputs": [
    {
     "data": {
      "text/plain": [
       "<matplotlib.axes._subplots.AxesSubplot at 0x1b4f9dcab50>"
      ]
     },
     "execution_count": 134,
     "metadata": {},
     "output_type": "execute_result"
    },
    {
     "data": {
      "image/png": "[encoded data removed]",
      "text/plain": [
       "<Figure size 720x576 with 2 Axes>"
      ]
     },
     "metadata": {
      "needs_background": "light"
     },
     "output_type": "display_data"
    }
   ],
   "source": [
    "#See tge corelation in heatmap for better visulization\n",
    "plt.figure(figsize=(10,8))\n",
    "sns.heatmap(dfcor,annot=True ,fmt='.2f')"
   ]
  },
  {
   "cell_type": "markdown",
   "metadata": {},
   "source": [
    "Observation:-\n",
    "    \n",
    "By plotting corelation heatmap we can see that the how other columns is corelated with our target column Crop_Damage_. Below\n",
    "are the insights i get from above corelation heatmap.->\n",
    "\n",
    "1.The columns Estimated_Insects_Counts_ ,Pesticide_Use_Category , Numbers_Weeks_Used,Crop_Type are postive colrelation columns\n",
    "  with my target varible.\n",
    "    \n",
    "2.Soil_Type , Number_Doses_Week,Number_Weeks_Quit and Season are negative corelated with the target varible.\n",
    "\n",
    "3.Highest +ve corelated column = Number_Weeks_Used\n",
    "\n",
    "4.Highest -ve corelated column = Number_Weeks_Quit\n",
    "\n",
    "All columns are participating in corelation with target variables and both -ve and +ve corelation exist."
   ]
  },
  {
   "cell_type": "code",
   "execution_count": 135,
   "metadata": {},
   "outputs": [
    {
     "data": {
      "text/plain": [
       "Text(0.5, 1.0, 'Corelation With target variables')"
      ]
     },
     "execution_count": 135,
     "metadata": {},
     "output_type": "execute_result"
    },
    {
     "data": {
      "image/png": "[encoded data removed]",
      "text/plain": [
       "<Figure size 576x432 with 1 Axes>"
      ]
     },
     "metadata": {
      "needs_background": "light"
     },
     "output_type": "display_data"
    }
   ],
   "source": [
    "#The other way to check corelation and understand the relation with target column in better way\n",
    "plt.figure(figsize=(8,6))\n",
    "df.drop('Crop_Damage',axis=1).corrwith(df['Crop_Damage']).plot(kind='bar',grid=True)\n",
    "plt.xticks(rotation=30)\n",
    "plt.title('Corelation With target variables')"
   ]
  },
  {
   "cell_type": "raw",
   "metadata": {},
   "source": [
    "We can clearly observe the positive and negative corelated columns here.The highest +ve is Number_Weeks_Used and highest -ve\n",
    "Number_Weeks_Quit."
   ]
  },
  {
   "cell_type": "raw",
   "metadata": {},
   "source": [
    "Univariate Analysis"
   ]
  },
  {
   "cell_type": "code",
   "execution_count": 136,
   "metadata": {},
   "outputs": [
    {
     "data": {
      "image/png": "[encoded data removed]",
      "text/plain": [
       "<Figure size 432x288 with 1 Axes>"
      ]
     },
     "metadata": {
      "needs_background": "light"
     },
     "output_type": "display_data"
    }
   ],
   "source": [
    "#Checking how my target variable distributed\n",
    "sns.distplot(df['Crop_Damage'])\n",
    "plt.title(\"Crop_Damage Distribution\")\n",
    "plt.show()"
   ]
  },
  {
   "cell_type": "raw",
   "metadata": {},
   "source": [
    "We can see that distribution is high in 0 which is Alive and then 1(Damaged due to other cause ) and then\n",
    "2(damaged due to pesticides). We can see also the data is not normally distributed."
   ]
  },
  {
   "cell_type": "code",
   "execution_count": 137,
   "metadata": {},
   "outputs": [
    {
     "data": {
      "image/png": "[encoded data removed]",
      "text/plain": [
       "<Figure size 360x360 with 1 Axes>"
      ]
     },
     "metadata": {
      "needs_background": "light"
     },
     "output_type": "display_data"
    }
   ],
   "source": [
    "#Checking count of my target varibles\n",
    "plt.figure(figsize=(5,5))\n",
    "sns.countplot(df['Crop_Damage'])\n",
    "plt.title(\"Distribution:0=Alive,1=Damaged due to other caused,2= damaged due to pesticides\")\n",
    "\n",
    "plt.show()"
   ]
  },
  {
   "cell_type": "raw",
   "metadata": {},
   "source": [
    "We can see here the more data is for alive. However the crop damaged due to other caused is higher than the crop damaged due\n",
    "pesticides."
   ]
  },
  {
   "cell_type": "code",
   "execution_count": 138,
   "metadata": {},
   "outputs": [
    {
     "data": {
      "image/png": "[encoded data removed]",
      "text/plain": [
       "<Figure size 360x360 with 1 Axes>"
      ]
     },
     "metadata": {
      "needs_background": "light"
     },
     "output_type": "display_data"
    }
   ],
   "source": [
    "#Checking count of crop type\n",
    "plt.figure(figsize=(5,5))\n",
    "sns.countplot(df['Crop_Type'])\n",
    "plt.title(\"Crop_Type\")\n",
    "\n",
    "plt.show()"
   ]
  },
  {
   "cell_type": "raw",
   "metadata": {},
   "source": [
    "Crop_Type 0 is present more than 1 in the dataset."
   ]
  },
  {
   "cell_type": "code",
   "execution_count": 139,
   "metadata": {},
   "outputs": [
    {
     "data": {
      "image/png": "[encoded data removed]",
      "text/plain": [
       "<Figure size 360x360 with 1 Axes>"
      ]
     },
     "metadata": {
      "needs_background": "light"
     },
     "output_type": "display_data"
    }
   ],
   "source": [
    "#Checking Count of Soil_Type\n",
    "plt.figure(figsize=(5,5))\n",
    "sns.countplot(df['Soil_Type'])\n",
    "plt.title(\"Soil_Type\")\n",
    "\n",
    "plt.show()"
   ]
  },
  {
   "cell_type": "raw",
   "metadata": {},
   "source": [
    "Soil_Type 0 is present more than 1 in the dataset."
   ]
  },
  {
   "cell_type": "code",
   "execution_count": 140,
   "metadata": {},
   "outputs": [
    {
     "data": {
      "image/png": "[encoded data removed]",
      "text/plain": [
       "<Figure size 432x288 with 1 Axes>"
      ]
     },
     "metadata": {
      "needs_background": "light"
     },
     "output_type": "display_data"
    }
   ],
   "source": [
    "#Distribution of Number_Weeks_Used\n",
    "sns.distplot(df['Number_Weeks_Used'])\n",
    "plt.title(\"Distribution of Number_Weeks_Used\")\n",
    "plt.show()"
   ]
  },
  {
   "cell_type": "raw",
   "metadata": {},
   "source": [
    "Here we can see the most +ve corelaated is not normally distributed. The mostly data is lies between 0 to 60."
   ]
  },
  {
   "cell_type": "code",
   "execution_count": 141,
   "metadata": {},
   "outputs": [
    {
     "data": {
      "image/png": "[encoded data removed]",
      "text/plain": [
       "<Figure size 432x288 with 1 Axes>"
      ]
     },
     "metadata": {
      "needs_background": "light"
     },
     "output_type": "display_data"
    }
   ],
   "source": [
    "#Distribution of Number_Weeks_Quit\n",
    "sns.distplot(df['Number_Weeks_Quit'])\n",
    "plt.title(\"Distribution of Number_Weeks_Quit\")\n",
    "plt.show()"
   ]
  },
  {
   "cell_type": "raw",
   "metadata": {},
   "source": [
    "This is column most -ve corelated column with target. It is also not normally distributed and also we can see that the range\n",
    "is veru high in this column. The data is mostly distributed between 0 and 40."
   ]
  },
  {
   "cell_type": "raw",
   "metadata": {},
   "source": [
    "Bivariate Analysis"
   ]
  },
  {
   "cell_type": "code",
   "execution_count": 142,
   "metadata": {},
   "outputs": [
    {
     "data": {
      "text/plain": [
       "<function matplotlib.pyplot.show(*args, **kw)>"
      ]
     },
     "execution_count": 142,
     "metadata": {},
     "output_type": "execute_result"
    },
    {
     "data": {
      "image/png": "[encoded data removed]",
      "text/plain": [
       "<Figure size 648x216 with 3 Axes>"
      ]
     },
     "metadata": {
      "needs_background": "light"
     },
     "output_type": "display_data"
    }
   ],
   "source": [
    "#Checking the distribution of each crop damaged type\n",
    "facet =sns.FacetGrid(df,col=\"Crop_Damage\")\n",
    "facet.map(sns.distplot,\"Season\")\n",
    "plt.show"
   ]
  },
  {
   "cell_type": "markdown",
   "metadata": {},
   "source": [
    "Here from above observatin we can see the Crop_damage season wise. The Crop is survived and alive high in season 2 then 1 and\n",
    "in season 3 it is very less. Crop damaged by other cause is high in season 2 and then season 1 and lowest in season 3. Crop\n",
    "damaged by pesticides is high in season 2 then season 1 and lowest in season 1."
   ]
  },
  {
   "cell_type": "code",
   "execution_count": 143,
   "metadata": {},
   "outputs": [
    {
     "data": {
      "image/png": "[encoded data removed]",
      "text/plain": [
       "<Figure size 432x288 with 1 Axes>"
      ]
     },
     "metadata": {
      "needs_background": "light"
     },
     "output_type": "display_data"
    },
    {
     "name": "stdout",
     "output_type": "stream",
     "text": [
      "Crop_Type  Crop_Damage\n",
      "0          0              2979\n",
      "           1               498\n",
      "           2                88\n",
      "1          0               841\n",
      "           1               166\n",
      "           2                27\n",
      "Name: Crop_Damage, dtype: int64\n"
     ]
    }
   ],
   "source": [
    "sns.countplot(x=\"Crop_Type\",hue=\"Crop_Damage\",data=df)\n",
    "plt.title(\"Crop damage according to Crop Type\")\n",
    "plt.xlabel(\"0=Alive,1=Crop damage due to other cause,2=crop damage due to pesticides\")\n",
    "plt.ylabel(\"Distribution\")\n",
    "plt.show()\n",
    "\n",
    "print(df.groupby('Crop_Type')['Crop_Damage'].value_counts())"
   ]
  },
  {
   "cell_type": "markdown",
   "metadata": {},
   "source": [
    "As per above observation one answer we can find:-\n",
    "    \n",
    "In Crop_Type 0 ->\n",
    "Maximum values are present of crop is alive with 2979 values.\n",
    "Then crop damage due to other reason with values 498 values.\n",
    "Least crop damage due to pesticides with values 88 values.\n",
    "\n",
    "So by above observation i can say that on the basis of this dataset when coil type is 0 there are maximum chance that crop will\n",
    "not damaged due to any reason.\n",
    "\n",
    "In Crop_Type 1 ->\n",
    "Maximum values are present of crop is alive with 841 values.\n",
    "Then crop damage due to other reason with values 166 values.\n",
    "Least crop damage due to pesticides with values 27 values.\n",
    "\n",
    "So in crop type 1 there is less data present as compare to crop type 0. But the same result here also in coil type 1 the chance of crop is alive higher than it will damage due to other reason and then damage due to pesticides."
   ]
  },
  {
   "cell_type": "code",
   "execution_count": 144,
   "metadata": {},
   "outputs": [
    {
     "data": {
      "image/png": "[encoded data removed]",
      "text/plain": [
       "<Figure size 432x288 with 1 Axes>"
      ]
     },
     "metadata": {
      "needs_background": "light"
     },
     "output_type": "display_data"
    },
    {
     "name": "stdout",
     "output_type": "stream",
     "text": [
      "Soil_Type  Crop_Damage\n",
      "0          0              1947\n",
      "           1               390\n",
      "           2                70\n",
      "1          0              1873\n",
      "           1               274\n",
      "           2                45\n",
      "Name: Crop_Damage, dtype: int64\n"
     ]
    }
   ],
   "source": [
    "sns.countplot(x=\"Soil_Type\",hue=\"Crop_Damage\",data=df)\n",
    "plt.title(\"Crop damage according to Soil Type\")\n",
    "plt.xlabel(\"0=Alive,1=Crop damage due to other cause,2=crop damage due to pesticides\")\n",
    "plt.ylabel(\"Distribution\")\n",
    "plt.show()\n",
    "\n",
    "print(df.groupby('Soil_Type')['Crop_Damage'].value_counts())"
   ]
  },
  {
   "cell_type": "markdown",
   "metadata": {},
   "source": [
    "As per above observation we can see that there is two types of soil present in the dataset.\n",
    "\n",
    "Soil_Type 0 ->\n",
    "in this soil type we can see that there are 1947 times the crop is alive and then 390 values present when crop is damaged\n",
    "due to other cause whereas 70 values present when crop is damage due to pesticides.So we can see that there is maximum values\n",
    "present in the dataset for soil type in the case when the crop is alive as compare to damage.\n",
    "\n",
    "Soil_Type 1:-\n",
    "In this soil type the crop is alive 1873 times and damaged due to other cause 274 times and then damage due to pesticides\n",
    "45 times. So we can see that the same like soil type 1 the crop is alive maximum time when soil type 1.\n"
   ]
  },
  {
   "cell_type": "code",
   "execution_count": 145,
   "metadata": {},
   "outputs": [
    {
     "data": {
      "image/png": "[encoded data removed]",
      "text/plain": [
       "<Figure size 432x288 with 1 Axes>"
      ]
     },
     "metadata": {
      "needs_background": "light"
     },
     "output_type": "display_data"
    },
    {
     "name": "stdout",
     "output_type": "stream",
     "text": [
      "Pesticide_Use_Category  Crop_Damage\n",
      "1                       1                33\n",
      "                        0                 7\n",
      "                        2                 5\n",
      "2                       0              2881\n",
      "                        1               290\n",
      "                        2                34\n",
      "3                       0               932\n",
      "                        1               341\n",
      "                        2                76\n",
      "Name: Crop_Damage, dtype: int64\n"
     ]
    }
   ],
   "source": [
    "#Crop damage vs Pesticide_Use_category\n",
    "sns.countplot(x=\"Pesticide_Use_Category\",hue=\"Crop_Damage\",data=df)\n",
    "plt.title(\"Crop damage according to Pesticide_Use_Category\")\n",
    "plt.xlabel(\"0=Alive,1=Crop damage due to other cause,2=crop damage due to pesticides\")\n",
    "plt.ylabel(\"Pesticide_Use_Category: 1= Never used , 2= Previouly used, 3= Currently Using\")\n",
    "plt.show()\n",
    "\n",
    "print(df.groupby('Pesticide_Use_Category')['Crop_Damage'].value_counts())"
   ]
  },
  {
   "cell_type": "markdown",
   "metadata": {},
   "source": [
    "Here from above observation we can see that there are 3 category in Pesticide_Use_Category.\n",
    "\n",
    "Pesticide_Use_Category (1=Never used)->\n",
    "So in the scenerio where pesticide never used we can see that the crop damage due to other cause with 33 values.Then the crop\n",
    "is alive 7 times and damage due to pesticide 5 times.So we can easily see that no use of pesticide is not good option as maximum\n",
    "time the crop is damaged.\n",
    "\n",
    "Pesticide_Use_Category (2=Previously used)->\n",
    "In the scenerio when pesticide used previouly we can see that there is maximum chances to survive the crop as here crop is alive\n",
    "2881 times and then crop is damage due to other cause 290 times and then crop is damage due to pesticide is very less 34 times\n",
    "only. So this is best option to use pesticide here we can see that.\n",
    "\n",
    "Pesticide_Use_Category (3=Currently Using)->\n",
    "In this scenerio we can see that from above observation there is maximum scenerios when crop is alive which is 932 times. Then\n",
    "crop damage due to other cause 341 times and the crop is damaged due to pesticide is 76 times.So in this option also the chances\n",
    "to survival of crop is very good.\n",
    "\n",
    "By observing all scenerios I can say that the chance to crop survive we must use pesticide.\n",
    "\n"
   ]
  },
  {
   "cell_type": "code",
   "execution_count": 146,
   "metadata": {},
   "outputs": [
    {
     "data": {
      "text/plain": [
       "array([[<matplotlib.axes._subplots.AxesSubplot object at 0x000001B480903A60>,\n",
       "        <matplotlib.axes._subplots.AxesSubplot object at 0x000001B480797A00>,\n",
       "        <matplotlib.axes._subplots.AxesSubplot object at 0x000001B4804EB6D0>],\n",
       "       [<matplotlib.axes._subplots.AxesSubplot object at 0x000001B48029CD30>,\n",
       "        <matplotlib.axes._subplots.AxesSubplot object at 0x000001B4FBE81160>,\n",
       "        <matplotlib.axes._subplots.AxesSubplot object at 0x000001B4FBE637F0>],\n",
       "       [<matplotlib.axes._subplots.AxesSubplot object at 0x000001B4FBE63FA0>,\n",
       "        <matplotlib.axes._subplots.AxesSubplot object at 0x000001B4F3B23070>,\n",
       "        <matplotlib.axes._subplots.AxesSubplot object at 0x000001B4F3A607F0>]],\n",
       "      dtype=object)"
      ]
     },
     "execution_count": 146,
     "metadata": {},
     "output_type": "execute_result"
    },
    {
     "data": {
      "image/png": "[encoded data removed]",
      "text/plain": [
       "<Figure size 1440x1440 with 9 Axes>"
      ]
     },
     "metadata": {
      "needs_background": "light"
     },
     "output_type": "display_data"
    }
   ],
   "source": [
    "#Checking the distribution of all columns by plotting histogram\n",
    "df.hist(edgecolor=\"red\",linewidth=1.5,figsize=(20,20))   \n"
   ]
  },
  {
   "cell_type": "raw",
   "metadata": {},
   "source": [
    "From abobe observationWe can see that in the columns are not normally distributed and skewnees is present in the dataset."
   ]
  },
  {
   "cell_type": "code",
   "execution_count": 147,
   "metadata": {},
   "outputs": [
    {
     "data": {
      "text/plain": [
       "Estimated_Insects_Count    0.911469\n",
       "Crop_Type                  1.318693\n",
       "Soil_Type                  0.093631\n",
       "Pesticide_Use_Category     0.678586\n",
       "Number_Doses_Week          0.945895\n",
       "Number_Weeks_Used          0.278664\n",
       "Number_Weeks_Quit          0.919771\n",
       "Season                     0.144841\n",
       "Crop_Damage                2.306933\n",
       "dtype: float64"
      ]
     },
     "execution_count": 147,
     "metadata": {},
     "output_type": "execute_result"
    }
   ],
   "source": [
    "#Checking skewness\n",
    "df.skew()"
   ]
  },
  {
   "cell_type": "markdown",
   "metadata": {},
   "source": [
    "As per above observation we can see that there is skewness is present in columns like Estimated_Insects_Count,Crop_Type\n",
    "Pesticide_Use_Category,Number_Doses_Week,Number_Weeks_Quit. "
   ]
  },
  {
   "cell_type": "code",
   "execution_count": 148,
   "metadata": {},
   "outputs": [
    {
     "data": {
      "text/html": [
       "<div>\n",
       "<style scoped>\n",
       "    .dataframe tbody tr th:only-of-type {\n",
       "        vertical-align: middle;\n",
       "    }\n",
       "\n",
       "    .dataframe tbody tr th {\n",
       "        vertical-align: top;\n",
       "    }\n",
       "\n",
       "    .dataframe thead th {\n",
       "        text-align: right;\n",
       "    }\n",
       "</style>\n",
       "<table border=\"1\" class=\"dataframe\">\n",
       "  <thead>\n",
       "    <tr style=\"text-align: right;\">\n",
       "      <th></th>\n",
       "      <th>Estimated_Insects_Count</th>\n",
       "      <th>Crop_Type</th>\n",
       "      <th>Soil_Type</th>\n",
       "      <th>Pesticide_Use_Category</th>\n",
       "      <th>Number_Doses_Week</th>\n",
       "      <th>Number_Weeks_Used</th>\n",
       "      <th>Number_Weeks_Quit</th>\n",
       "      <th>Season</th>\n",
       "      <th>Crop_Damage</th>\n",
       "    </tr>\n",
       "  </thead>\n",
       "  <tbody>\n",
       "    <tr>\n",
       "      <th>1040</th>\n",
       "      <td>1385</td>\n",
       "      <td>0</td>\n",
       "      <td>0</td>\n",
       "      <td>2</td>\n",
       "      <td>40</td>\n",
       "      <td>28.0</td>\n",
       "      <td>8</td>\n",
       "      <td>1</td>\n",
       "      <td>0</td>\n",
       "    </tr>\n",
       "  </tbody>\n",
       "</table>\n",
       "</div>"
      ],
      "text/plain": [
       "      Estimated_Insects_Count  Crop_Type  Soil_Type  Pesticide_Use_Category  \\\n",
       "1040                     1385          0          0                       2   \n",
       "\n",
       "      Number_Doses_Week  Number_Weeks_Used  Number_Weeks_Quit  Season  \\\n",
       "1040                 40               28.0                  8       1   \n",
       "\n",
       "      Crop_Damage  \n",
       "1040            0  "
      ]
     },
     "execution_count": 148,
     "metadata": {},
     "output_type": "execute_result"
    }
   ],
   "source": [
    "#Droping columns ID as it is not good useful and impactful for model building\n",
    "df.drop(['ID'],axis=1,inplace=True)\n",
    "df.sample()#Checking the sample data"
   ]
  },
  {
   "cell_type": "raw",
   "metadata": {},
   "source": [
    "Outliers Detection"
   ]
  },
  {
   "cell_type": "code",
   "execution_count": 149,
   "metadata": {},
   "outputs": [
    {
     "data": {
      "text/plain": [
       "<matplotlib.axes._subplots.AxesSubplot at 0x1b4802c2040>"
      ]
     },
     "execution_count": 149,
     "metadata": {},
     "output_type": "execute_result"
    },
    {
     "data": {
      "image/png": "[encoded data removed]",
      "text/plain": [
       "<Figure size 432x288 with 1 Axes>"
      ]
     },
     "metadata": {
      "needs_background": "light"
     },
     "output_type": "display_data"
    }
   ],
   "source": [
    "#Plotting Outliers\n",
    "df['Number_Weeks_Used'].plot.box()"
   ]
  },
  {
   "cell_type": "code",
   "execution_count": 150,
   "metadata": {},
   "outputs": [
    {
     "data": {
      "text/plain": [
       "<matplotlib.axes._subplots.AxesSubplot at 0x1b48038d880>"
      ]
     },
     "execution_count": 150,
     "metadata": {},
     "output_type": "execute_result"
    },
    {
     "data": {
      "image/png": "[encoded data removed]",
      "text/plain": [
       "<Figure size 432x288 with 1 Axes>"
      ]
     },
     "metadata": {
      "needs_background": "light"
     },
     "output_type": "display_data"
    }
   ],
   "source": [
    "#Plotting Outliers\n",
    "df['Number_Weeks_Quit'].plot.box()"
   ]
  },
  {
   "cell_type": "code",
   "execution_count": 151,
   "metadata": {},
   "outputs": [
    {
     "data": {
      "text/plain": [
       "<matplotlib.axes._subplots.AxesSubplot at 0x1b4803e7070>"
      ]
     },
     "execution_count": 151,
     "metadata": {},
     "output_type": "execute_result"
    },
    {
     "data": {
      "image/png": "[encoded data removed]",
      "text/plain": [
       "<Figure size 432x288 with 1 Axes>"
      ]
     },
     "metadata": {
      "needs_background": "light"
     },
     "output_type": "display_data"
    }
   ],
   "source": [
    "#Plotting Outliers\n",
    "df['Number_Doses_Week'].plot.box()"
   ]
  },
  {
   "cell_type": "code",
   "execution_count": 152,
   "metadata": {},
   "outputs": [
    {
     "data": {
      "text/plain": [
       "<matplotlib.axes._subplots.AxesSubplot at 0x1b481800040>"
      ]
     },
     "execution_count": 152,
     "metadata": {},
     "output_type": "execute_result"
    },
    {
     "data": {
      "image/png": "[encoded data removed]",
      "text/plain": [
       "<Figure size 432x288 with 1 Axes>"
      ]
     },
     "metadata": {
      "needs_background": "light"
     },
     "output_type": "display_data"
    }
   ],
   "source": [
    "#Plotting Outliers\n",
    "df['Estimated_Insects_Count'].plot.box()"
   ]
  },
  {
   "cell_type": "raw",
   "metadata": {},
   "source": [
    "From above observation we can see that there is outliers present in these numerical columns."
   ]
  },
  {
   "cell_type": "code",
   "execution_count": 153,
   "metadata": {},
   "outputs": [
    {
     "data": {
      "text/html": [
       "<div>\n",
       "<style scoped>\n",
       "    .dataframe tbody tr th:only-of-type {\n",
       "        vertical-align: middle;\n",
       "    }\n",
       "\n",
       "    .dataframe tbody tr th {\n",
       "        vertical-align: top;\n",
       "    }\n",
       "\n",
       "    .dataframe thead th {\n",
       "        text-align: right;\n",
       "    }\n",
       "</style>\n",
       "<table border=\"1\" class=\"dataframe\">\n",
       "  <thead>\n",
       "    <tr style=\"text-align: right;\">\n",
       "      <th></th>\n",
       "      <th>Estimated_Insects_Count</th>\n",
       "      <th>Crop_Type</th>\n",
       "      <th>Soil_Type</th>\n",
       "      <th>Pesticide_Use_Category</th>\n",
       "      <th>Number_Doses_Week</th>\n",
       "      <th>Number_Weeks_Used</th>\n",
       "      <th>Number_Weeks_Quit</th>\n",
       "      <th>Season</th>\n",
       "      <th>Crop_Damage</th>\n",
       "    </tr>\n",
       "  </thead>\n",
       "  <tbody>\n",
       "    <tr>\n",
       "      <th>0</th>\n",
       "      <td>188</td>\n",
       "      <td>1</td>\n",
       "      <td>0</td>\n",
       "      <td>1</td>\n",
       "      <td>0</td>\n",
       "      <td>0.000000</td>\n",
       "      <td>0</td>\n",
       "      <td>1</td>\n",
       "      <td>0</td>\n",
       "    </tr>\n",
       "    <tr>\n",
       "      <th>1</th>\n",
       "      <td>209</td>\n",
       "      <td>1</td>\n",
       "      <td>0</td>\n",
       "      <td>1</td>\n",
       "      <td>0</td>\n",
       "      <td>0.000000</td>\n",
       "      <td>0</td>\n",
       "      <td>2</td>\n",
       "      <td>1</td>\n",
       "    </tr>\n",
       "    <tr>\n",
       "      <th>2</th>\n",
       "      <td>257</td>\n",
       "      <td>1</td>\n",
       "      <td>0</td>\n",
       "      <td>1</td>\n",
       "      <td>0</td>\n",
       "      <td>0.000000</td>\n",
       "      <td>0</td>\n",
       "      <td>2</td>\n",
       "      <td>1</td>\n",
       "    </tr>\n",
       "    <tr>\n",
       "      <th>3</th>\n",
       "      <td>257</td>\n",
       "      <td>1</td>\n",
       "      <td>1</td>\n",
       "      <td>1</td>\n",
       "      <td>0</td>\n",
       "      <td>0.000000</td>\n",
       "      <td>0</td>\n",
       "      <td>2</td>\n",
       "      <td>1</td>\n",
       "    </tr>\n",
       "    <tr>\n",
       "      <th>4</th>\n",
       "      <td>342</td>\n",
       "      <td>1</td>\n",
       "      <td>0</td>\n",
       "      <td>1</td>\n",
       "      <td>0</td>\n",
       "      <td>0.000000</td>\n",
       "      <td>0</td>\n",
       "      <td>2</td>\n",
       "      <td>1</td>\n",
       "    </tr>\n",
       "    <tr>\n",
       "      <th>...</th>\n",
       "      <td>...</td>\n",
       "      <td>...</td>\n",
       "      <td>...</td>\n",
       "      <td>...</td>\n",
       "      <td>...</td>\n",
       "      <td>...</td>\n",
       "      <td>...</td>\n",
       "      <td>...</td>\n",
       "      <td>...</td>\n",
       "    </tr>\n",
       "    <tr>\n",
       "      <th>4594</th>\n",
       "      <td>2138</td>\n",
       "      <td>0</td>\n",
       "      <td>1</td>\n",
       "      <td>2</td>\n",
       "      <td>20</td>\n",
       "      <td>28.891027</td>\n",
       "      <td>1</td>\n",
       "      <td>1</td>\n",
       "      <td>1</td>\n",
       "    </tr>\n",
       "    <tr>\n",
       "      <th>4595</th>\n",
       "      <td>2139</td>\n",
       "      <td>0</td>\n",
       "      <td>1</td>\n",
       "      <td>2</td>\n",
       "      <td>30</td>\n",
       "      <td>47.000000</td>\n",
       "      <td>2</td>\n",
       "      <td>1</td>\n",
       "      <td>1</td>\n",
       "    </tr>\n",
       "    <tr>\n",
       "      <th>4596</th>\n",
       "      <td>2267</td>\n",
       "      <td>0</td>\n",
       "      <td>1</td>\n",
       "      <td>2</td>\n",
       "      <td>10</td>\n",
       "      <td>7.000000</td>\n",
       "      <td>27</td>\n",
       "      <td>2</td>\n",
       "      <td>0</td>\n",
       "    </tr>\n",
       "    <tr>\n",
       "      <th>4597</th>\n",
       "      <td>2267</td>\n",
       "      <td>0</td>\n",
       "      <td>1</td>\n",
       "      <td>2</td>\n",
       "      <td>10</td>\n",
       "      <td>20.000000</td>\n",
       "      <td>24</td>\n",
       "      <td>2</td>\n",
       "      <td>0</td>\n",
       "    </tr>\n",
       "    <tr>\n",
       "      <th>4598</th>\n",
       "      <td>2267</td>\n",
       "      <td>0</td>\n",
       "      <td>1</td>\n",
       "      <td>2</td>\n",
       "      <td>10</td>\n",
       "      <td>33.000000</td>\n",
       "      <td>17</td>\n",
       "      <td>2</td>\n",
       "      <td>0</td>\n",
       "    </tr>\n",
       "  </tbody>\n",
       "</table>\n",
       "<p>4370 rows × 9 columns</p>\n",
       "</div>"
      ],
      "text/plain": [
       "      Estimated_Insects_Count  Crop_Type  Soil_Type  Pesticide_Use_Category  \\\n",
       "0                         188          1          0                       1   \n",
       "1                         209          1          0                       1   \n",
       "2                         257          1          0                       1   \n",
       "3                         257          1          1                       1   \n",
       "4                         342          1          0                       1   \n",
       "...                       ...        ...        ...                     ...   \n",
       "4594                     2138          0          1                       2   \n",
       "4595                     2139          0          1                       2   \n",
       "4596                     2267          0          1                       2   \n",
       "4597                     2267          0          1                       2   \n",
       "4598                     2267          0          1                       2   \n",
       "\n",
       "      Number_Doses_Week  Number_Weeks_Used  Number_Weeks_Quit  Season  \\\n",
       "0                     0           0.000000                  0       1   \n",
       "1                     0           0.000000                  0       2   \n",
       "2                     0           0.000000                  0       2   \n",
       "3                     0           0.000000                  0       2   \n",
       "4                     0           0.000000                  0       2   \n",
       "...                 ...                ...                ...     ...   \n",
       "4594                 20          28.891027                  1       1   \n",
       "4595                 30          47.000000                  2       1   \n",
       "4596                 10           7.000000                 27       2   \n",
       "4597                 10          20.000000                 24       2   \n",
       "4598                 10          33.000000                 17       2   \n",
       "\n",
       "      Crop_Damage  \n",
       "0               0  \n",
       "1               1  \n",
       "2               1  \n",
       "3               1  \n",
       "4               1  \n",
       "...           ...  \n",
       "4594            1  \n",
       "4595            1  \n",
       "4596            0  \n",
       "4597            0  \n",
       "4598            0  \n",
       "\n",
       "[4370 rows x 9 columns]"
      ]
     },
     "execution_count": 153,
     "metadata": {},
     "output_type": "execute_result"
    }
   ],
   "source": [
    "#Outliers detection by zscore method\n",
    "from scipy.stats import zscore\n",
    "import numpy as np\n",
    "z = np.abs(zscore(df))\n",
    "threshold =3\n",
    "new_df = df[(z<3).all(axis=1)]\n",
    "new_df"
   ]
  },
  {
   "cell_type": "code",
   "execution_count": 154,
   "metadata": {},
   "outputs": [
    {
     "data": {
      "text/plain": [
       "0    3820\n",
       "1     664\n",
       "2     115\n",
       "Name: Crop_Damage, dtype: int64"
      ]
     },
     "execution_count": 154,
     "metadata": {},
     "output_type": "execute_result"
    }
   ],
   "source": [
    "df['Crop_Damage'].value_counts()"
   ]
  },
  {
   "cell_type": "code",
   "execution_count": 155,
   "metadata": {},
   "outputs": [
    {
     "data": {
      "text/plain": [
       "(4599, 9)"
      ]
     },
     "execution_count": 155,
     "metadata": {},
     "output_type": "execute_result"
    }
   ],
   "source": [
    "df.shape"
   ]
  },
  {
   "cell_type": "code",
   "execution_count": 156,
   "metadata": {},
   "outputs": [
    {
     "data": {
      "text/plain": [
       "4.979343335507719"
      ]
     },
     "execution_count": 156,
     "metadata": {},
     "output_type": "execute_result"
    }
   ],
   "source": [
    "#Percentage Loss of data after removing outliers\n",
    "percentage_loss=((4599-4370)/4599)*100\n",
    "percentage_loss"
   ]
  },
  {
   "cell_type": "code",
   "execution_count": 157,
   "metadata": {},
   "outputs": [
    {
     "name": "stdout",
     "output_type": "stream",
     "text": [
      "Estimated_Insects_Count    1055.0\n",
      "Crop_Type                     0.0\n",
      "Soil_Type                     1.0\n",
      "Pesticide_Use_Category        1.0\n",
      "Number_Doses_Week            25.0\n",
      "Number_Weeks_Used            16.0\n",
      "Number_Weeks_Quit            16.0\n",
      "Season                        1.0\n",
      "Crop_Damage                   0.0\n",
      "dtype: float64\n"
     ]
    }
   ],
   "source": [
    "#IQR Method\n",
    "\n",
    "Q1 = df.quantile(0.25)\n",
    "Q3 = df.quantile(0.75)\n",
    "IQR = Q3-Q1\n",
    "print(IQR)"
   ]
  },
  {
   "cell_type": "code",
   "execution_count": 158,
   "metadata": {},
   "outputs": [
    {
     "name": "stdout",
     "output_type": "stream",
     "text": [
      "(2872, 9)\n"
     ]
    }
   ],
   "source": [
    "df_new1 = df[~((df<(Q1-1.5*IQR)) | (df> (Q3+1.5*IQR))).any(axis=1)]\n",
    "print(df_new1.shape)"
   ]
  },
  {
   "cell_type": "raw",
   "metadata": {},
   "source": [
    "So we can see that in Zscore my data percentage is very low as compare to IQR method. I should continue with zscore method however i found that when i remove outliers my one label 2(crop damage due to pesticide) is also removed so i will not remove\n",
    "outliers "
   ]
  },
  {
   "cell_type": "code",
   "execution_count": 159,
   "metadata": {},
   "outputs": [],
   "source": [
    "#Seprating independent and target variable\n",
    "x= df.drop(\"Crop_Damage\",axis=1)\n",
    "y= df[\"Crop_Damage\"] #Target variable"
   ]
  },
  {
   "cell_type": "code",
   "execution_count": 160,
   "metadata": {},
   "outputs": [
    {
     "name": "stdout",
     "output_type": "stream",
     "text": [
      "x shape:  (4599, 8)   Y shape:  (4599,)\n"
     ]
    }
   ],
   "source": [
    "#Checking shape of my data after splitting\n",
    "print(\"x shape: \",x.shape,\" \",\"Y shape: \",y.shape)"
   ]
  },
  {
   "cell_type": "raw",
   "metadata": {},
   "source": [
    "I will not use removing skewnwss and use standard scaler as in my dataset i have maximum lavel columns an when i use this i \n",
    "found that my predicting value is not coming accurate it gives only 0 value not 1 or 2 for any column"
   ]
  },
  {
   "cell_type": "code",
   "execution_count": 161,
   "metadata": {},
   "outputs": [
    {
     "data": {
      "text/plain": [
       "(4599, 1)"
      ]
     },
     "execution_count": 161,
     "metadata": {},
     "output_type": "execute_result"
    }
   ],
   "source": [
    "#Reshaping y values\n",
    "y = y.values.reshape(-1,1)\n",
    "y.shape"
   ]
  },
  {
   "cell_type": "markdown",
   "metadata": {},
   "source": [
    "# Model Building"
   ]
  },
  {
   "cell_type": "raw",
   "metadata": {},
   "source": [
    "As my target variable is label so i will use classification model technique"
   ]
  },
  {
   "cell_type": "code",
   "execution_count": 162,
   "metadata": {},
   "outputs": [
    {
     "name": "stdout",
     "output_type": "stream",
     "text": [
      "Best Accuracy 85.04347826086956 found on random_state 94\n"
     ]
    }
   ],
   "source": [
    "#Finding best random state\n",
    "\n",
    "from sklearn.model_selection import train_test_split\n",
    "from sklearn.linear_model import LogisticRegression\n",
    "from sklearn.model_selection import cross_val_score\n",
    "from sklearn.metrics import accuracy_score\n",
    "\n",
    "best_rstate=0\n",
    "accu=0\n",
    "\n",
    "for i in range(30,200):\n",
    "    x_train,x_test,y_train,y_test = train_test_split(x,y,test_size = .25,random_state=i)\n",
    "    mod = LogisticRegression()\n",
    "    mod.fit(x_train,y_train)\n",
    "    y_pred = mod.predict(x_test)\n",
    "    tempaccu = accuracy_score(y_test,y_pred)\n",
    "    \n",
    "    if tempaccu>accu:\n",
    "        accu = tempaccu\n",
    "        best_rstate = i\n",
    "        \n",
    "        \n",
    "        \n",
    "print(f\"Best Accuracy {accu*100} found on random_state {best_rstate}\")\n",
    "    "
   ]
  },
  {
   "cell_type": "code",
   "execution_count": 163,
   "metadata": {},
   "outputs": [],
   "source": [
    "#splitting the data into training and testing data\n",
    "from sklearn.model_selection import train_test_split\n",
    "x_train,x_test,y_train,y_test = train_test_split(x,y,test_size =.20,random_state = 94,stratify=y )"
   ]
  },
  {
   "cell_type": "code",
   "execution_count": 164,
   "metadata": {},
   "outputs": [],
   "source": [
    "#Importing some important model library\n",
    "from sklearn.naive_bayes import MultinomialNB\n",
    "from sklearn.svm import SVC\n",
    "from sklearn.tree import DecisionTreeClassifier\n",
    "from sklearn.neighbors import KNeighborsClassifier\n",
    "from sklearn.metrics import accuracy_score,confusion_matrix,classification_report\n",
    "from sklearn.model_selection import GridSearchCV,cross_val_score"
   ]
  },
  {
   "cell_type": "code",
   "execution_count": 165,
   "metadata": {},
   "outputs": [
    {
     "name": "stdout",
     "output_type": "stream",
     "text": [
      "{'n_neighbors': 22}\n"
     ]
    }
   ],
   "source": [
    "#Using gridsearchcv to find out the best parameters in KNeighborsClassifier\n",
    "parameters = {'n_neighbors':range(22,25)}\n",
    "knn = KNeighborsClassifier()\n",
    "\n",
    "clf = GridSearchCV(knn,parameters)\n",
    "clf.fit(x,y)\n",
    "print(clf.best_params_)"
   ]
  },
  {
   "cell_type": "code",
   "execution_count": 166,
   "metadata": {},
   "outputs": [],
   "source": [
    "#Models with its best parameters\n",
    "KNN=KNeighborsClassifier(n_neighbors=22)\n",
    "SVC=SVC()"
   ]
  },
  {
   "cell_type": "code",
   "execution_count": 167,
   "metadata": {},
   "outputs": [
    {
     "name": "stdout",
     "output_type": "stream",
     "text": [
      "Accuracy Score Of  SVC() is :\n",
      "0.8304347826086956\n",
      "[[764   0   0]\n",
      " [133   0   0]\n",
      " [ 23   0   0]]\n",
      "              precision    recall  f1-score   support\n",
      "\n",
      "           0       0.83      1.00      0.91       764\n",
      "           1       0.00      0.00      0.00       133\n",
      "           2       0.00      0.00      0.00        23\n",
      "\n",
      "    accuracy                           0.83       920\n",
      "   macro avg       0.28      0.33      0.30       920\n",
      "weighted avg       0.69      0.83      0.75       920\n",
      "\n",
      "**************************************************************************************************************\n",
      "\n",
      "\n",
      "Accuracy Score Of  DecisionTreeClassifier() is :\n",
      "0.741304347826087\n",
      "[[642 108  14]\n",
      " [ 89  38   6]\n",
      " [ 15   6   2]]\n",
      "              precision    recall  f1-score   support\n",
      "\n",
      "           0       0.86      0.84      0.85       764\n",
      "           1       0.25      0.29      0.27       133\n",
      "           2       0.09      0.09      0.09        23\n",
      "\n",
      "    accuracy                           0.74       920\n",
      "   macro avg       0.40      0.40      0.40       920\n",
      "weighted avg       0.75      0.74      0.75       920\n",
      "\n",
      "**************************************************************************************************************\n",
      "\n",
      "\n",
      "Accuracy Score Of  KNeighborsClassifier(n_neighbors=22) is :\n",
      "0.8293478260869566\n",
      "[[755   9   0]\n",
      " [125   8   0]\n",
      " [ 22   1   0]]\n",
      "              precision    recall  f1-score   support\n",
      "\n",
      "           0       0.84      0.99      0.91       764\n",
      "           1       0.44      0.06      0.11       133\n",
      "           2       0.00      0.00      0.00        23\n",
      "\n",
      "    accuracy                           0.83       920\n",
      "   macro avg       0.43      0.35      0.34       920\n",
      "weighted avg       0.76      0.83      0.77       920\n",
      "\n",
      "**************************************************************************************************************\n",
      "\n",
      "\n",
      "Accuracy Score Of  MultinomialNB() is :\n",
      "0.65\n",
      "[[543 162  59]\n",
      " [ 53  47  33]\n",
      " [  8   7   8]]\n",
      "              precision    recall  f1-score   support\n",
      "\n",
      "           0       0.90      0.71      0.79       764\n",
      "           1       0.22      0.35      0.27       133\n",
      "           2       0.08      0.35      0.13        23\n",
      "\n",
      "    accuracy                           0.65       920\n",
      "   macro avg       0.40      0.47      0.40       920\n",
      "weighted avg       0.78      0.65      0.70       920\n",
      "\n",
      "**************************************************************************************************************\n",
      "\n",
      "\n"
     ]
    }
   ],
   "source": [
    "#All algorithm by using for loop\n",
    "model = [SVC,DecisionTreeClassifier(),KNN,MultinomialNB()]\n",
    "\n",
    "for m in model:\n",
    "    m.fit(x_train,y_train)\n",
    "    m.score(x_train,y_train)\n",
    "    predm = m.predict(x_test)\n",
    "    print(\"Accuracy Score Of \",m,\"is :\")\n",
    "    print(accuracy_score(y_test,predm))\n",
    "    print(confusion_matrix(y_test,predm))\n",
    "    print(classification_report(y_test,predm))\n",
    "    print(\"**************************************************************************************************************\")\n",
    "    print('\\n')\n",
    "    \n",
    "    "
   ]
  },
  {
   "cell_type": "code",
   "execution_count": 168,
   "metadata": {},
   "outputs": [
    {
     "name": "stdout",
     "output_type": "stream",
     "text": [
      "model: SVC()\n",
      "score [0.83043478 0.83043478 0.83043478 0.83043478 0.83043478 0.83043478\n",
      " 0.83043478 0.83043478 0.83043478 0.83224401]\n",
      "mean score: 0.8306157052192857\n",
      "standard deviation: 0.0005427678317703854\n",
      "***************************************************************************************************************\n",
      "\n",
      "\n",
      "model: DecisionTreeClassifier()\n",
      "score [0.58913043 0.73695652 0.65869565 0.71521739 0.64565217 0.69565217\n",
      " 0.58043478 0.72608696 0.72391304 0.74074074]\n",
      "mean score: 0.6812479871175523\n",
      "standard deviation: 0.0567976101376777\n",
      "***************************************************************************************************************\n",
      "\n",
      "\n",
      "model: KNeighborsClassifier(n_neighbors=22)\n",
      "score [0.81956522 0.8326087  0.82608696 0.83695652 0.82608696 0.8326087\n",
      " 0.83043478 0.84347826 0.80869565 0.83224401]\n",
      "mean score: 0.8288765747845032\n",
      "standard deviation: 0.009108538898074779\n",
      "***************************************************************************************************************\n",
      "\n",
      "\n",
      "model: MultinomialNB()\n",
      "score [0.44130435 0.65869565 0.51956522 0.86521739 0.6326087  0.60434783\n",
      " 0.3826087  0.73695652 0.66086957 0.74727669]\n",
      "mean score: 0.6249450601496637\n",
      "standard deviation: 0.1384596597771873\n",
      "***************************************************************************************************************\n",
      "\n",
      "\n"
     ]
    }
   ],
   "source": [
    "#Cross validate the models\n",
    "models = [SVC,DecisionTreeClassifier(),KNN,MultinomialNB()]\n",
    "for m in models:\n",
    "    score = cross_val_score(m,x,y,cv=10,scoring=\"accuracy\")\n",
    "    print(\"model:\",m)\n",
    "    print(\"score\",score)\n",
    "    print(\"mean score:\",score.mean())\n",
    "    print(\"standard deviation:\",score.std())\n",
    "    print(\"***************************************************************************************************************\")\n",
    "    print('\\n')\n"
   ]
  },
  {
   "cell_type": "markdown",
   "metadata": {},
   "source": [
    "From above all observation I found that SVC giving best score with accuracy score of 83.04% at the same time cross_val_score is\n",
    "83.06%. Now i will use some boosting technique to boostup the score and then i will deside that which i will select and save."
   ]
  },
  {
   "cell_type": "raw",
   "metadata": {},
   "source": [
    "Using Ensemble Technique To Boostup Our Score"
   ]
  },
  {
   "cell_type": "code",
   "execution_count": 169,
   "metadata": {},
   "outputs": [],
   "source": [
    "from sklearn.ensemble import RandomForestClassifier\n",
    "from sklearn.ensemble import AdaBoostClassifier\n",
    "from sklearn.ensemble import GradientBoostingClassifier\n",
    "from sklearn.ensemble import BaggingClassifier\n",
    "from sklearn.ensemble import ExtraTreesClassifier"
   ]
  },
  {
   "cell_type": "code",
   "execution_count": 170,
   "metadata": {},
   "outputs": [
    {
     "name": "stdout",
     "output_type": "stream",
     "text": [
      "Accuracy Score Of  RandomForestClassifier() is :\n",
      "0.8260869565217391\n",
      "[[742  21   1]\n",
      " [113  18   2]\n",
      " [ 20   3   0]]\n",
      "              precision    recall  f1-score   support\n",
      "\n",
      "           0       0.85      0.97      0.91       764\n",
      "           1       0.43      0.14      0.21       133\n",
      "           2       0.00      0.00      0.00        23\n",
      "\n",
      "    accuracy                           0.83       920\n",
      "   macro avg       0.43      0.37      0.37       920\n",
      "weighted avg       0.77      0.83      0.78       920\n",
      "\n",
      "************************************************************************************************************\n",
      "\n",
      "\n",
      "Accuracy Score Of  AdaBoostClassifier() is :\n",
      "0.8326086956521739\n",
      "[[757   7   0]\n",
      " [124   9   0]\n",
      " [ 19   4   0]]\n",
      "              precision    recall  f1-score   support\n",
      "\n",
      "           0       0.84      0.99      0.91       764\n",
      "           1       0.45      0.07      0.12       133\n",
      "           2       0.00      0.00      0.00        23\n",
      "\n",
      "    accuracy                           0.83       920\n",
      "   macro avg       0.43      0.35      0.34       920\n",
      "weighted avg       0.76      0.83      0.77       920\n",
      "\n",
      "************************************************************************************************************\n",
      "\n",
      "\n",
      "Accuracy Score Of  GradientBoostingClassifier() is :\n",
      "0.8271739130434783\n",
      "[[749  14   1]\n",
      " [121  12   0]\n",
      " [ 21   2   0]]\n",
      "              precision    recall  f1-score   support\n",
      "\n",
      "           0       0.84      0.98      0.91       764\n",
      "           1       0.43      0.09      0.15       133\n",
      "           2       0.00      0.00      0.00        23\n",
      "\n",
      "    accuracy                           0.83       920\n",
      "   macro avg       0.42      0.36      0.35       920\n",
      "weighted avg       0.76      0.83      0.77       920\n",
      "\n",
      "************************************************************************************************************\n",
      "\n",
      "\n",
      "Accuracy Score Of  BaggingClassifier() is :\n",
      "0.8097826086956522\n",
      "[[718  44   2]\n",
      " [102  27   4]\n",
      " [ 16   7   0]]\n",
      "              precision    recall  f1-score   support\n",
      "\n",
      "           0       0.86      0.94      0.90       764\n",
      "           1       0.35      0.20      0.26       133\n",
      "           2       0.00      0.00      0.00        23\n",
      "\n",
      "    accuracy                           0.81       920\n",
      "   macro avg       0.40      0.38      0.38       920\n",
      "weighted avg       0.76      0.81      0.78       920\n",
      "\n",
      "************************************************************************************************************\n",
      "\n",
      "\n",
      "Accuracy Score Of  ExtraTreesClassifier() is :\n",
      "0.8173913043478261\n",
      "[[731  31   2]\n",
      " [109  21   3]\n",
      " [ 19   4   0]]\n",
      "              precision    recall  f1-score   support\n",
      "\n",
      "           0       0.85      0.96      0.90       764\n",
      "           1       0.38      0.16      0.22       133\n",
      "           2       0.00      0.00      0.00        23\n",
      "\n",
      "    accuracy                           0.82       920\n",
      "   macro avg       0.41      0.37      0.37       920\n",
      "weighted avg       0.76      0.82      0.78       920\n",
      "\n",
      "************************************************************************************************************\n",
      "\n",
      "\n"
     ]
    }
   ],
   "source": [
    "#using for loop working with all algorithm at one time\n",
    "model = [RandomForestClassifier(),AdaBoostClassifier(),GradientBoostingClassifier(),BaggingClassifier(),ExtraTreesClassifier()]\n",
    "\n",
    "for m in model:\n",
    "    m.fit(x_train,y_train)\n",
    "    m.score(x_train,y_train)\n",
    "    predm = m.predict(x_test)\n",
    "    print(\"Accuracy Score Of \",m,\"is :\")\n",
    "    print(accuracy_score(y_test,predm))\n",
    "    print(confusion_matrix(y_test,predm))\n",
    "    print(classification_report(y_test,predm))\n",
    "    print(\"************************************************************************************************************\")\n",
    "    print('\\n')\n",
    "    \n",
    "    "
   ]
  },
  {
   "cell_type": "code",
   "execution_count": 171,
   "metadata": {},
   "outputs": [
    {
     "name": "stdout",
     "output_type": "stream",
     "text": [
      "model: RandomForestClassifier()\n",
      "score [0.70217391 0.80652174 0.7826087  0.83043478 0.74782609 0.80869565\n",
      " 0.66304348 0.83043478 0.77391304 0.83006536]\n",
      "mean score: 0.7775717533390167\n",
      "standard deviation: 0.05465939891398552\n",
      "*****************************************************************************************************\n",
      "\n",
      "\n",
      "model: AdaBoostClassifier()\n",
      "score [0.73695652 0.8326087  0.82391304 0.83043478 0.8326087  0.85652174\n",
      " 0.7326087  0.8326087  0.8326087  0.83224401]\n",
      "mean score: 0.8143113573931988\n",
      "standard deviation: 0.0405631845523296\n",
      "*****************************************************************************************************\n",
      "\n",
      "\n",
      "model: GradientBoostingClassifier()\n",
      "score [0.72173913 0.82391304 0.78478261 0.83478261 0.75652174 0.83913043\n",
      " 0.76304348 0.83043478 0.77608696 0.83442266]\n",
      "mean score: 0.7964857440560765\n",
      "standard deviation: 0.0393508067080935\n",
      "*****************************************************************************************************\n",
      "\n",
      "\n",
      "model: BaggingClassifier()\n",
      "score [0.65869565 0.78695652 0.75869565 0.83043478 0.71304348 0.78478261\n",
      " 0.66086957 0.81956522 0.76956522 0.83442266]\n",
      "mean score: 0.7617031353604243\n",
      "standard deviation: 0.061438712899622744\n",
      "*****************************************************************************************************\n",
      "\n",
      "\n",
      "model: ExtraTreesClassifier()\n",
      "score [0.65434783 0.78478261 0.75652174 0.82391304 0.7673913  0.79782609\n",
      " 0.64565217 0.80652174 0.78913043 0.81699346]\n",
      "mean score: 0.7643080420574025\n",
      "standard deviation: 0.06042344053444982\n",
      "*****************************************************************************************************\n",
      "\n",
      "\n"
     ]
    }
   ],
   "source": [
    "#Cross validate the models\n",
    "models = [RandomForestClassifier(),AdaBoostClassifier(),GradientBoostingClassifier(),BaggingClassifier(),ExtraTreesClassifier()]\n",
    "\n",
    "for m in models:\n",
    "    score = cross_val_score(m,x,y,cv=10,scoring=\"accuracy\")\n",
    "    print(\"model:\",m)\n",
    "    print(\"score\",score)\n",
    "    print(\"mean score:\",score.mean())\n",
    "    print(\"standard deviation:\",score.std())\n",
    "    print(\"*****************************************************************************************************\")\n",
    "    print('\\n')\n"
   ]
  },
  {
   "cell_type": "markdown",
   "metadata": {},
   "source": [
    "After using all techniques i found that the ther are two models are working well with both accuracy_score and cross_val_score\n",
    "and minimu diffrence between both scores. Models are  = Support vector classifier(SVC) and Random Forest classifier.\n",
    "\n",
    "SVC:- \n",
    "Accuracy_Score = 0.8304347826086956\n",
    "cross_val_score = 0.8306157052192857\n",
    "difference =    0.00018092261059010628 \n",
    "\n",
    "ABC:-\n",
    "Accuracy_Score = 0.8326086956521739\n",
    "cross_val_score = 0.8143113573931988\n",
    "difference = 0.01829733825897506\n",
    "\n",
    "I will use Adaboost Classifier() as the difference between accuracy score and cross val score is lower than the diffrence\n",
    "in Support vector classifier.Also Ada Boost classifier as it is encoaded model also minimize the chances of underfiting\n",
    "and overfiting."
   ]
  },
  {
   "cell_type": "code",
   "execution_count": 108,
   "metadata": {},
   "outputs": [
    {
     "name": "stdout",
     "output_type": "stream",
     "text": [
      "{'algorithm': 'SAMME', 'n_estimators': 300}\n"
     ]
    }
   ],
   "source": [
    "#Hyperparameter Tuning by using GridSearchCV to find best parameters so my model performs at his best\n",
    "from sklearn.ensemble import AdaBoostClassifier\n",
    "parameters = {'n_estimators': [100,200,300],'algorithm':['SAMME', 'SAMME.R']}\n",
    "abc = AdaBoostClassifier()\n",
    "clf = GridSearchCV(abc,parameters)\n",
    "clf.fit(x_train,y_train)\n",
    "print(clf.best_params_)\n"
   ]
  },
  {
   "cell_type": "code",
   "execution_count": 174,
   "metadata": {},
   "outputs": [
    {
     "name": "stdout",
     "output_type": "stream",
     "text": [
      "83.36956521739131\n",
      "[[759   5   0]\n",
      " [125   8   0]\n",
      " [ 21   2   0]]\n",
      "              precision    recall  f1-score   support\n",
      "\n",
      "           0       0.84      0.99      0.91       764\n",
      "           1       0.53      0.06      0.11       133\n",
      "           2       0.00      0.00      0.00        23\n",
      "\n",
      "    accuracy                           0.83       920\n",
      "   macro avg       0.46      0.35      0.34       920\n",
      "weighted avg       0.77      0.83      0.77       920\n",
      "\n"
     ]
    }
   ],
   "source": [
    "#using the finded parameters creating and testing the model\n",
    "abc = AdaBoostClassifier(n_estimators=300,algorithm='SAMME')\n",
    "abc.fit(x_train,y_train)\n",
    "abc.score(x_train,y_train)\n",
    "predabc= abc.predict(x_test)\n",
    "print(accuracy_score(y_test,predabc)*100)\n",
    "print(confusion_matrix(y_test,predabc))\n",
    "print(classification_report(y_test,predabc))\n"
   ]
  },
  {
   "cell_type": "code",
   "execution_count": 175,
   "metadata": {},
   "outputs": [
    {
     "data": {
      "image/png": "[encoded data removed]",
      "text/plain": [
       "<Figure size 576x432 with 1 Axes>"
      ]
     },
     "metadata": {
      "needs_background": "light"
     },
     "output_type": "display_data"
    }
   ],
   "source": [
    "#Plotting figure to see the best fit line\n",
    "plt.figure(figsize=(8,6))\n",
    "plt.scatter(x=y_test,y=predabc,color='r')\n",
    "plt.plot(y_test,y_test,color='b')\n",
    "plt.xlabel(\"Actual Crop_Damage\",fontsize = 14)\n",
    "plt.ylabel(\"Predicted Crop_Damage\",fontsize =14)\n",
    "plt.title('Ada Boost Classifier',fontsize=18)\n",
    "plt.show()"
   ]
  },
  {
   "cell_type": "raw",
   "metadata": {},
   "source": [
    "We can see that the model gives us a best fit straight line and touches maximum points."
   ]
  },
  {
   "cell_type": "raw",
   "metadata": {},
   "source": [
    "I have not used Logistic regression and ROC_AUC curve as i have multiclass format and 3 labels present in the dataset."
   ]
  },
  {
   "cell_type": "markdown",
   "metadata": {},
   "source": [
    "# Model Saving"
   ]
  },
  {
   "cell_type": "code",
   "execution_count": 176,
   "metadata": {},
   "outputs": [
    {
     "data": {
      "text/plain": [
       "['abcfile.obj']"
      ]
     },
     "execution_count": 176,
     "metadata": {},
     "output_type": "execute_result"
    }
   ],
   "source": [
    "#Model Saving with best model RandomForestRegressor\n",
    "import joblib \n",
    "\n",
    "joblib.dump(abc,'abcfile.obj')"
   ]
  },
  {
   "cell_type": "code",
   "execution_count": 179,
   "metadata": {},
   "outputs": [
    {
     "data": {
      "text/plain": [
       "AdaBoostClassifier(algorithm='SAMME', n_estimators=300)"
      ]
     },
     "execution_count": 179,
     "metadata": {},
     "output_type": "execute_result"
    }
   ],
   "source": [
    "#Loading to see my model\n",
    "abc_from_joblib = joblib.load('abcfile.obj')\n",
    "abc_from_joblib"
   ]
  },
  {
   "cell_type": "code",
   "execution_count": 67,
   "metadata": {},
   "outputs": [
    {
     "data": {
      "text/html": [
       "<div>\n",
       "<style scoped>\n",
       "    .dataframe tbody tr th:only-of-type {\n",
       "        vertical-align: middle;\n",
       "    }\n",
       "\n",
       "    .dataframe tbody tr th {\n",
       "        vertical-align: top;\n",
       "    }\n",
       "\n",
       "    .dataframe thead th {\n",
       "        text-align: right;\n",
       "    }\n",
       "</style>\n",
       "<table border=\"1\" class=\"dataframe\">\n",
       "  <thead>\n",
       "    <tr style=\"text-align: right;\">\n",
       "      <th></th>\n",
       "      <th>ID</th>\n",
       "      <th>Estimated_Insects_Count</th>\n",
       "      <th>Crop_Type</th>\n",
       "      <th>Soil_Type</th>\n",
       "      <th>Pesticide_Use_Category</th>\n",
       "      <th>Number_Doses_Week</th>\n",
       "      <th>Number_Weeks_Used</th>\n",
       "      <th>Number_Weeks_Quit</th>\n",
       "      <th>Season</th>\n",
       "    </tr>\n",
       "  </thead>\n",
       "  <tbody>\n",
       "    <tr>\n",
       "      <th>0</th>\n",
       "      <td>F00000002</td>\n",
       "      <td>188</td>\n",
       "      <td>1</td>\n",
       "      <td>1</td>\n",
       "      <td>1</td>\n",
       "      <td>0</td>\n",
       "      <td>NaN</td>\n",
       "      <td>0</td>\n",
       "      <td>2</td>\n",
       "    </tr>\n",
       "    <tr>\n",
       "      <th>1</th>\n",
       "      <td>F00000007</td>\n",
       "      <td>410</td>\n",
       "      <td>1</td>\n",
       "      <td>1</td>\n",
       "      <td>1</td>\n",
       "      <td>0</td>\n",
       "      <td>0.0</td>\n",
       "      <td>0</td>\n",
       "      <td>2</td>\n",
       "    </tr>\n",
       "    <tr>\n",
       "      <th>2</th>\n",
       "      <td>F00000011</td>\n",
       "      <td>626</td>\n",
       "      <td>1</td>\n",
       "      <td>0</td>\n",
       "      <td>1</td>\n",
       "      <td>0</td>\n",
       "      <td>0.0</td>\n",
       "      <td>0</td>\n",
       "      <td>2</td>\n",
       "    </tr>\n",
       "    <tr>\n",
       "      <th>3</th>\n",
       "      <td>F00000013</td>\n",
       "      <td>731</td>\n",
       "      <td>1</td>\n",
       "      <td>0</td>\n",
       "      <td>1</td>\n",
       "      <td>0</td>\n",
       "      <td>0.0</td>\n",
       "      <td>0</td>\n",
       "      <td>2</td>\n",
       "    </tr>\n",
       "    <tr>\n",
       "      <th>4</th>\n",
       "      <td>F00000014</td>\n",
       "      <td>789</td>\n",
       "      <td>0</td>\n",
       "      <td>0</td>\n",
       "      <td>1</td>\n",
       "      <td>0</td>\n",
       "      <td>0.0</td>\n",
       "      <td>0</td>\n",
       "      <td>1</td>\n",
       "    </tr>\n",
       "  </tbody>\n",
       "</table>\n",
       "</div>"
      ],
      "text/plain": [
       "          ID  Estimated_Insects_Count  Crop_Type  Soil_Type  \\\n",
       "0  F00000002                      188          1          1   \n",
       "1  F00000007                      410          1          1   \n",
       "2  F00000011                      626          1          0   \n",
       "3  F00000013                      731          1          0   \n",
       "4  F00000014                      789          0          0   \n",
       "\n",
       "   Pesticide_Use_Category  Number_Doses_Week  Number_Weeks_Used  \\\n",
       "0                       1                  0                NaN   \n",
       "1                       1                  0                0.0   \n",
       "2                       1                  0                0.0   \n",
       "3                       1                  0                0.0   \n",
       "4                       1                  0                0.0   \n",
       "\n",
       "   Number_Weeks_Quit  Season  \n",
       "0                  0       2  \n",
       "1                  0       2  \n",
       "2                  0       2  \n",
       "3                  0       2  \n",
       "4                  0       1  "
      ]
     },
     "execution_count": 67,
     "metadata": {},
     "output_type": "execute_result"
    }
   ],
   "source": [
    "#Loading the test dataset\n",
    "test_agriculture = pd.read_csv(\"test_agriculture.csv\")\n",
    "test_agriculture.head()"
   ]
  },
  {
   "cell_type": "code",
   "execution_count": 68,
   "metadata": {},
   "outputs": [
    {
     "data": {
      "text/html": [
       "<div>\n",
       "<style scoped>\n",
       "    .dataframe tbody tr th:only-of-type {\n",
       "        vertical-align: middle;\n",
       "    }\n",
       "\n",
       "    .dataframe tbody tr th {\n",
       "        vertical-align: top;\n",
       "    }\n",
       "\n",
       "    .dataframe thead th {\n",
       "        text-align: right;\n",
       "    }\n",
       "</style>\n",
       "<table border=\"1\" class=\"dataframe\">\n",
       "  <thead>\n",
       "    <tr style=\"text-align: right;\">\n",
       "      <th></th>\n",
       "      <th>Estimated_Insects_Count</th>\n",
       "      <th>Crop_Type</th>\n",
       "      <th>Soil_Type</th>\n",
       "      <th>Pesticide_Use_Category</th>\n",
       "      <th>Number_Doses_Week</th>\n",
       "      <th>Number_Weeks_Used</th>\n",
       "      <th>Number_Weeks_Quit</th>\n",
       "      <th>Season</th>\n",
       "    </tr>\n",
       "  </thead>\n",
       "  <tbody>\n",
       "    <tr>\n",
       "      <th>248</th>\n",
       "      <td>2402</td>\n",
       "      <td>0</td>\n",
       "      <td>1</td>\n",
       "      <td>3</td>\n",
       "      <td>10</td>\n",
       "      <td>58.0</td>\n",
       "      <td>0</td>\n",
       "      <td>1</td>\n",
       "    </tr>\n",
       "  </tbody>\n",
       "</table>\n",
       "</div>"
      ],
      "text/plain": [
       "     Estimated_Insects_Count  Crop_Type  Soil_Type  Pesticide_Use_Category  \\\n",
       "248                     2402          0          1                       3   \n",
       "\n",
       "     Number_Doses_Week  Number_Weeks_Used  Number_Weeks_Quit  Season  \n",
       "248                 10               58.0                  0       1  "
      ]
     },
     "execution_count": 68,
     "metadata": {},
     "output_type": "execute_result"
    }
   ],
   "source": [
    "#Droping unwanted columns\n",
    "test_agriculture.drop(['ID'],axis=1,inplace=True)\n",
    "test_agriculture.sample()"
   ]
  },
  {
   "cell_type": "code",
   "execution_count": 69,
   "metadata": {},
   "outputs": [
    {
     "data": {
      "text/plain": [
       "Estimated_Insects_Count      0\n",
       "Crop_Type                    0\n",
       "Soil_Type                    0\n",
       "Pesticide_Use_Category       0\n",
       "Number_Doses_Week            0\n",
       "Number_Weeks_Used          119\n",
       "Number_Weeks_Quit            0\n",
       "Season                       0\n",
       "dtype: int64"
      ]
     },
     "execution_count": 69,
     "metadata": {},
     "output_type": "execute_result"
    }
   ],
   "source": [
    "#Checking missing value\n",
    "test_agriculture.isnull().sum()"
   ]
  },
  {
   "cell_type": "code",
   "execution_count": 70,
   "metadata": {},
   "outputs": [],
   "source": [
    "#Treating and missing values by taking average of the column variable\n",
    "test_agriculture['Number_Weeks_Used'].fillna(test_agriculture['Number_Weeks_Used'].mean(), inplace=True)"
   ]
  },
  {
   "cell_type": "code",
   "execution_count": 71,
   "metadata": {},
   "outputs": [
    {
     "data": {
      "text/plain": [
       "Estimated_Insects_Count    0\n",
       "Crop_Type                  0\n",
       "Soil_Type                  0\n",
       "Pesticide_Use_Category     0\n",
       "Number_Doses_Week          0\n",
       "Number_Weeks_Used          0\n",
       "Number_Weeks_Quit          0\n",
       "Season                     0\n",
       "dtype: int64"
      ]
     },
     "execution_count": 71,
     "metadata": {},
     "output_type": "execute_result"
    }
   ],
   "source": [
    "#Checking missing value again\n",
    "test_agriculture.isnull().sum()"
   ]
  },
  {
   "cell_type": "code",
   "execution_count": 180,
   "metadata": {},
   "outputs": [
    {
     "data": {
      "text/plain": [
       "array([0, 0, 0, ..., 0, 0, 0], dtype=int64)"
      ]
     },
     "execution_count": 180,
     "metadata": {},
     "output_type": "execute_result"
    }
   ],
   "source": [
    "test_agriculture_predict=abc_from_joblib.predict(test_agriculture)\n",
    "test_agriculture_predict"
   ]
  },
  {
   "cell_type": "code",
   "execution_count": 181,
   "metadata": {},
   "outputs": [],
   "source": [
    "# Saving The predictions in csv file\n",
    "import numpy as np\n",
    "import pandas as pd\n",
    "Prediction= pd.DataFrame(test_agriculture_predict, columns=['Crop_Damage_Predictions']).to_csv('Agriculture_Prediction.csv')"
   ]
  },
  {
   "cell_type": "markdown",
   "metadata": {},
   "source": [
    "# END OF PROJECT"
   ]
  }
 ],
 "metadata": {
  "kernelspec": {
   "display_name": "Python 3",
   "language": "python",
   "name": "python3"
  },
  "language_info": {
   "codemirror_mode": {
    "name": "ipython",
    "version": 3
   },
   "file_extension": ".py",
   "mimetype": "text/x-python",
   "name": "python",
   "nbconvert_exporter": "python",
   "pygments_lexer": "ipython3",
   "version": "3.8.3"
  }
 },
 "nbformat": 4,
 "nbformat_minor": 4
}
