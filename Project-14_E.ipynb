{
 "cells": [
  {
   "cell_type": "markdown",
   "metadata": {},
   "source": [
    "# Project - 14 Restaurant Food Cost"
   ]
  },
  {
   "cell_type": "markdown",
   "metadata": {},
   "source": [
    "Project Description:-\n",
    "\n",
    "Food is necessary for human beings and it is most important thing in anu human life. Every persons has some favourite foods in thir books and they want to have their favourite foods. There are many restaurants in india who speacialized in some favourite foods accroding to every one choice. However we like to have foods from our favourite restaturant but the one thing wwhich we consider every time before choose the restaurant is the cost.So food cost is very import key play to deside which restaurant we should go according our budget. In this project I have dataset with some feautres on which i will apply some regression techniques to predict the restaurant food cost which will help to take the decision that which restaurant we should choose."
   ]
  },
  {
   "cell_type": "markdown",
   "metadata": {},
   "source": [
    "Dataset Description:-\n",
    "\n",
    "I have two dataset one is training on which i will train and build the model and other is test data on which i will do the prediction and store the result. There are many features in training dataset on which i will use my regression techniques and try to predict the result. Below are the description of feature.\n",
    "\n",
    "TITLE: The feature of the restaurant which can help identify what and for whom it is suitable for.\n",
    "\n",
    "RESTAURANT_ID: A unique ID for each restaurant.\n",
    "\n",
    "CUISINES: The variety of cuisines that the restaurant offers.\n",
    "\n",
    "TIME: The open hours of the restaurant.\n",
    "\n",
    "CITY: The city in which the restaurant is located.\n",
    "\n",
    "LOCALITY: The locality of the restaurant.\n",
    "\n",
    "RATING: The average rating of the restaurant by customers.\n",
    "\n",
    "VOTES: The overall votes received by the restaurant.\n",
    "\n",
    "COST: The average cost of a two-person meal."
   ]
  },
  {
   "cell_type": "code",
   "execution_count": 75,
   "metadata": {},
   "outputs": [],
   "source": [
    "#Importing some libary to import the dataset\n",
    "import pandas as pd\n",
    "import numpy as np\n",
    "import seaborn as sns\n",
    "import matplotlib.pyplot as plt\n",
    "\n",
    "#Import warnings\n",
    "import warnings\n",
    "warnings.filterwarnings('ignore')\n"
   ]
  },
  {
   "cell_type": "code",
   "execution_count": 76,
   "metadata": {},
   "outputs": [],
   "source": [
    "#Importing data into dataframe called df by using panda library\n",
    "Train_data = pd.read_excel(\"Data_Train.xlsx\")#Loading the train data\n",
    "Test_data = pd.read_excel(\"Data_Test.xlsx\")#Loading the test data"
   ]
  },
  {
   "cell_type": "code",
   "execution_count": 77,
   "metadata": {},
   "outputs": [
    {
     "data": {
      "text/html": [
       "<div>\n",
       "<style scoped>\n",
       "    .dataframe tbody tr th:only-of-type {\n",
       "        vertical-align: middle;\n",
       "    }\n",
       "\n",
       "    .dataframe tbody tr th {\n",
       "        vertical-align: top;\n",
       "    }\n",
       "\n",
       "    .dataframe thead th {\n",
       "        text-align: right;\n",
       "    }\n",
       "</style>\n",
       "<table border=\"1\" class=\"dataframe\">\n",
       "  <thead>\n",
       "    <tr style=\"text-align: right;\">\n",
       "      <th></th>\n",
       "      <th>TITLE</th>\n",
       "      <th>RESTAURANT_ID</th>\n",
       "      <th>CUISINES</th>\n",
       "      <th>TIME</th>\n",
       "      <th>CITY</th>\n",
       "      <th>LOCALITY</th>\n",
       "      <th>RATING</th>\n",
       "      <th>VOTES</th>\n",
       "      <th>COST</th>\n",
       "    </tr>\n",
       "  </thead>\n",
       "  <tbody>\n",
       "    <tr>\n",
       "      <th>0</th>\n",
       "      <td>CASUAL DINING</td>\n",
       "      <td>9438</td>\n",
       "      <td>Malwani, Goan, North Indian</td>\n",
       "      <td>11am – 4pm, 7:30pm – 11:30pm (Mon-Sun)</td>\n",
       "      <td>Thane</td>\n",
       "      <td>Dombivali East</td>\n",
       "      <td>3.6</td>\n",
       "      <td>49 votes</td>\n",
       "      <td>1200</td>\n",
       "    </tr>\n",
       "    <tr>\n",
       "      <th>1</th>\n",
       "      <td>CASUAL DINING,BAR</td>\n",
       "      <td>13198</td>\n",
       "      <td>Asian, Modern Indian, Japanese</td>\n",
       "      <td>6pm – 11pm (Mon-Sun)</td>\n",
       "      <td>Chennai</td>\n",
       "      <td>Ramapuram</td>\n",
       "      <td>4.2</td>\n",
       "      <td>30 votes</td>\n",
       "      <td>1500</td>\n",
       "    </tr>\n",
       "    <tr>\n",
       "      <th>2</th>\n",
       "      <td>CASUAL DINING</td>\n",
       "      <td>10915</td>\n",
       "      <td>North Indian, Chinese, Biryani, Hyderabadi</td>\n",
       "      <td>11am – 3:30pm, 7pm – 11pm (Mon-Sun)</td>\n",
       "      <td>Chennai</td>\n",
       "      <td>Saligramam</td>\n",
       "      <td>3.8</td>\n",
       "      <td>221 votes</td>\n",
       "      <td>800</td>\n",
       "    </tr>\n",
       "    <tr>\n",
       "      <th>3</th>\n",
       "      <td>QUICK BITES</td>\n",
       "      <td>6346</td>\n",
       "      <td>Tibetan, Chinese</td>\n",
       "      <td>11:30am – 1am (Mon-Sun)</td>\n",
       "      <td>Mumbai</td>\n",
       "      <td>Bandra West</td>\n",
       "      <td>4.1</td>\n",
       "      <td>24 votes</td>\n",
       "      <td>800</td>\n",
       "    </tr>\n",
       "    <tr>\n",
       "      <th>4</th>\n",
       "      <td>DESSERT PARLOR</td>\n",
       "      <td>15387</td>\n",
       "      <td>Desserts</td>\n",
       "      <td>11am – 1am (Mon-Sun)</td>\n",
       "      <td>Mumbai</td>\n",
       "      <td>Lower Parel</td>\n",
       "      <td>3.8</td>\n",
       "      <td>165 votes</td>\n",
       "      <td>300</td>\n",
       "    </tr>\n",
       "  </tbody>\n",
       "</table>\n",
       "</div>"
      ],
      "text/plain": [
       "               TITLE  RESTAURANT_ID  \\\n",
       "0      CASUAL DINING           9438   \n",
       "1  CASUAL DINING,BAR          13198   \n",
       "2      CASUAL DINING          10915   \n",
       "3        QUICK BITES           6346   \n",
       "4     DESSERT PARLOR          15387   \n",
       "\n",
       "                                     CUISINES  \\\n",
       "0                 Malwani, Goan, North Indian   \n",
       "1              Asian, Modern Indian, Japanese   \n",
       "2  North Indian, Chinese, Biryani, Hyderabadi   \n",
       "3                            Tibetan, Chinese   \n",
       "4                                    Desserts   \n",
       "\n",
       "                                     TIME     CITY        LOCALITY RATING  \\\n",
       "0  11am – 4pm, 7:30pm – 11:30pm (Mon-Sun)    Thane  Dombivali East    3.6   \n",
       "1                    6pm – 11pm (Mon-Sun)  Chennai       Ramapuram    4.2   \n",
       "2     11am – 3:30pm, 7pm – 11pm (Mon-Sun)  Chennai      Saligramam    3.8   \n",
       "3                 11:30am – 1am (Mon-Sun)   Mumbai     Bandra West    4.1   \n",
       "4                    11am – 1am (Mon-Sun)   Mumbai     Lower Parel    3.8   \n",
       "\n",
       "       VOTES  COST  \n",
       "0   49 votes  1200  \n",
       "1   30 votes  1500  \n",
       "2  221 votes   800  \n",
       "3   24 votes   800  \n",
       "4  165 votes   300  "
      ]
     },
     "execution_count": 77,
     "metadata": {},
     "output_type": "execute_result"
    }
   ],
   "source": [
    "#Checking the top 5 records of train data\n",
    "Train_data.head()"
   ]
  },
  {
   "cell_type": "code",
   "execution_count": 78,
   "metadata": {},
   "outputs": [
    {
     "data": {
      "text/html": [
       "<div>\n",
       "<style scoped>\n",
       "    .dataframe tbody tr th:only-of-type {\n",
       "        vertical-align: middle;\n",
       "    }\n",
       "\n",
       "    .dataframe tbody tr th {\n",
       "        vertical-align: top;\n",
       "    }\n",
       "\n",
       "    .dataframe thead th {\n",
       "        text-align: right;\n",
       "    }\n",
       "</style>\n",
       "<table border=\"1\" class=\"dataframe\">\n",
       "  <thead>\n",
       "    <tr style=\"text-align: right;\">\n",
       "      <th></th>\n",
       "      <th>TITLE</th>\n",
       "      <th>RESTAURANT_ID</th>\n",
       "      <th>CUISINES</th>\n",
       "      <th>TIME</th>\n",
       "      <th>CITY</th>\n",
       "      <th>LOCALITY</th>\n",
       "      <th>RATING</th>\n",
       "      <th>VOTES</th>\n",
       "    </tr>\n",
       "  </thead>\n",
       "  <tbody>\n",
       "    <tr>\n",
       "      <th>0</th>\n",
       "      <td>CASUAL DINING</td>\n",
       "      <td>4085</td>\n",
       "      <td>North Indian, Chinese, Mughlai, Kebab</td>\n",
       "      <td>12noon – 12midnight (Mon-Sun)</td>\n",
       "      <td>Noida</td>\n",
       "      <td>Sector 18</td>\n",
       "      <td>4.3</td>\n",
       "      <td>564 votes</td>\n",
       "    </tr>\n",
       "    <tr>\n",
       "      <th>1</th>\n",
       "      <td>QUICK BITES</td>\n",
       "      <td>12680</td>\n",
       "      <td>South Indian, Fast Food, Pizza, North Indian</td>\n",
       "      <td>7am – 12:30AM (Mon-Sun)</td>\n",
       "      <td>Mumbai</td>\n",
       "      <td>Grant Road</td>\n",
       "      <td>4.2</td>\n",
       "      <td>61 votes</td>\n",
       "    </tr>\n",
       "    <tr>\n",
       "      <th>2</th>\n",
       "      <td>CASUAL DINING</td>\n",
       "      <td>1411</td>\n",
       "      <td>North Indian, Seafood, Biryani, Chinese</td>\n",
       "      <td>11am – 11:30pm (Mon-Sun)</td>\n",
       "      <td>Mumbai</td>\n",
       "      <td>Marine Lines</td>\n",
       "      <td>3.8</td>\n",
       "      <td>350 votes</td>\n",
       "    </tr>\n",
       "    <tr>\n",
       "      <th>3</th>\n",
       "      <td>None</td>\n",
       "      <td>204</td>\n",
       "      <td>Biryani</td>\n",
       "      <td>9am – 10pm (Mon, Wed, Thu, Fri, Sat, Sun), 10:...</td>\n",
       "      <td>Faridabad</td>\n",
       "      <td>NIT</td>\n",
       "      <td>3.8</td>\n",
       "      <td>1445 votes</td>\n",
       "    </tr>\n",
       "    <tr>\n",
       "      <th>4</th>\n",
       "      <td>QUICK BITES</td>\n",
       "      <td>13453</td>\n",
       "      <td>South Indian, Kerala</td>\n",
       "      <td>11am – 10pm (Mon-Sun)</td>\n",
       "      <td>Kochi</td>\n",
       "      <td>Kaloor</td>\n",
       "      <td>3.6</td>\n",
       "      <td>23 votes</td>\n",
       "    </tr>\n",
       "  </tbody>\n",
       "</table>\n",
       "</div>"
      ],
      "text/plain": [
       "           TITLE  RESTAURANT_ID                                      CUISINES  \\\n",
       "0  CASUAL DINING           4085         North Indian, Chinese, Mughlai, Kebab   \n",
       "1    QUICK BITES          12680  South Indian, Fast Food, Pizza, North Indian   \n",
       "2  CASUAL DINING           1411       North Indian, Seafood, Biryani, Chinese   \n",
       "3           None            204                                       Biryani   \n",
       "4    QUICK BITES          13453                          South Indian, Kerala   \n",
       "\n",
       "                                                TIME       CITY      LOCALITY  \\\n",
       "0                      12noon – 12midnight (Mon-Sun)      Noida     Sector 18   \n",
       "1                            7am – 12:30AM (Mon-Sun)     Mumbai    Grant Road   \n",
       "2                           11am – 11:30pm (Mon-Sun)     Mumbai  Marine Lines   \n",
       "3  9am – 10pm (Mon, Wed, Thu, Fri, Sat, Sun), 10:...  Faridabad           NIT   \n",
       "4                              11am – 10pm (Mon-Sun)      Kochi        Kaloor   \n",
       "\n",
       "  RATING       VOTES  \n",
       "0    4.3   564 votes  \n",
       "1    4.2    61 votes  \n",
       "2    3.8   350 votes  \n",
       "3    3.8  1445 votes  \n",
       "4    3.6    23 votes  "
      ]
     },
     "execution_count": 78,
     "metadata": {},
     "output_type": "execute_result"
    }
   ],
   "source": [
    "#Checking the top 5 records of test data\n",
    "Test_data.head()"
   ]
  },
  {
   "cell_type": "code",
   "execution_count": 79,
   "metadata": {},
   "outputs": [
    {
     "name": "stdout",
     "output_type": "stream",
     "text": [
      "Train_data:-  (12690, 9)\n",
      "\n",
      "\n",
      "Test_data:-  (4231, 8)\n"
     ]
    }
   ],
   "source": [
    "#Checking the shape of train and test data\n",
    "print(\"Train_data:- \",Train_data.shape)\n",
    "print('\\n')\n",
    "print(\"Test_data:- \",Test_data.shape)"
   ]
  },
  {
   "cell_type": "markdown",
   "metadata": {},
   "source": [
    "Observation:-From above we can observe that there are 12690 rows and 9 columns available in Train data where as there are 4231 rows and 8 columns are available in the test data."
   ]
  },
  {
   "cell_type": "markdown",
   "metadata": {},
   "source": [
    "# Train Data"
   ]
  },
  {
   "cell_type": "code",
   "execution_count": 80,
   "metadata": {},
   "outputs": [
    {
     "data": {
      "text/plain": [
       "Index(['TITLE', 'RESTAURANT_ID', 'CUISINES', 'TIME', 'CITY', 'LOCALITY',\n",
       "       'RATING', 'VOTES', 'COST'],\n",
       "      dtype='object')"
      ]
     },
     "execution_count": 80,
     "metadata": {},
     "output_type": "execute_result"
    }
   ],
   "source": [
    "#Checking the columns of train data\n",
    "Train_data.columns"
   ]
  },
  {
   "cell_type": "code",
   "execution_count": 81,
   "metadata": {},
   "outputs": [
    {
     "data": {
      "text/plain": [
       "True"
      ]
     },
     "execution_count": 81,
     "metadata": {},
     "output_type": "execute_result"
    }
   ],
   "source": [
    "#Checking for null value present in dataset\n",
    "Train_data.isnull().values.any()"
   ]
  },
  {
   "cell_type": "code",
   "execution_count": 82,
   "metadata": {},
   "outputs": [
    {
     "data": {
      "text/plain": [
       "TITLE               0\n",
       "RESTAURANT_ID       0\n",
       "CUISINES            0\n",
       "TIME                0\n",
       "CITY              112\n",
       "LOCALITY           98\n",
       "RATING              2\n",
       "VOTES            1204\n",
       "COST                0\n",
       "dtype: int64"
      ]
     },
     "execution_count": 82,
     "metadata": {},
     "output_type": "execute_result"
    }
   ],
   "source": [
    "#Cheecking null values present column wise\n",
    "Train_data.isnull().sum()"
   ]
  },
  {
   "cell_type": "markdown",
   "metadata": {},
   "source": [
    "We can see that there is missing values presentin columns like City,Locality,Rating and Votes."
   ]
  },
  {
   "cell_type": "code",
   "execution_count": 83,
   "metadata": {},
   "outputs": [
    {
     "data": {
      "image/png": "[encoded data removed]",
      "text/plain": [
       "<Figure size 432x288 with 1 Axes>"
      ]
     },
     "metadata": {
      "needs_background": "light"
     },
     "output_type": "display_data"
    }
   ],
   "source": [
    "#Checking this by visualization Method\n",
    "sns.heatmap(Train_data.isnull(),yticklabels=False,cbar=False,cmap='tab20_r')\n",
    "plt.show()"
   ]
  },
  {
   "cell_type": "markdown",
   "metadata": {},
   "source": [
    "So here we can see that there is null values present in the dataset so we have fill them and we can drop the null values in \n",
    "rating column."
   ]
  },
  {
   "cell_type": "code",
   "execution_count": 84,
   "metadata": {},
   "outputs": [
    {
     "data": {
      "text/plain": [
       "array(['49 votes', '30 votes', '221 votes', ..., '2723 votes',\n",
       "       '1426 votes', '1214 votes'], dtype=object)"
      ]
     },
     "execution_count": 84,
     "metadata": {},
     "output_type": "execute_result"
    }
   ],
   "source": [
    "Train_data['VOTES'].unique()"
   ]
  },
  {
   "cell_type": "code",
   "execution_count": 85,
   "metadata": {},
   "outputs": [],
   "source": [
    "Train_data['CITY'].fillna('missing', inplace=True) #Filling missing values for column CITY\n",
    "Train_data['LOCALITY'].fillna('missing', inplace=True) #Filling missing values for LOCALITY\n",
    "Train_data['RATING'].fillna('0', inplace=True) #Filling missing values for RATING\n",
    "Train_data['VOTES']= Train_data['VOTES'].str.replace(' votes', '')#Removing votes string from VOTES column\n",
    "Train_data['VOTES'].fillna('0', inplace=True) #Filling missing values in the column VOTES"
   ]
  },
  {
   "cell_type": "code",
   "execution_count": 86,
   "metadata": {},
   "outputs": [
    {
     "data": {
      "text/plain": [
       "TITLE            0\n",
       "RESTAURANT_ID    0\n",
       "CUISINES         0\n",
       "TIME             0\n",
       "CITY             0\n",
       "LOCALITY         0\n",
       "RATING           0\n",
       "VOTES            0\n",
       "COST             0\n",
       "dtype: int64"
      ]
     },
     "execution_count": 86,
     "metadata": {},
     "output_type": "execute_result"
    }
   ],
   "source": [
    "#Checking again the missing values columnwise\n",
    "Train_data.isnull().sum()"
   ]
  },
  {
   "cell_type": "markdown",
   "metadata": {},
   "source": [
    "Here we can see that Rating has still missing values and not replaced. So i will drop these 2 records."
   ]
  },
  {
   "cell_type": "code",
   "execution_count": 87,
   "metadata": {},
   "outputs": [],
   "source": [
    "Train_data.dropna(inplace=True)#Droping the records "
   ]
  },
  {
   "cell_type": "code",
   "execution_count": 88,
   "metadata": {},
   "outputs": [
    {
     "data": {
      "text/plain": [
       "TITLE            0\n",
       "RESTAURANT_ID    0\n",
       "CUISINES         0\n",
       "TIME             0\n",
       "CITY             0\n",
       "LOCALITY         0\n",
       "RATING           0\n",
       "VOTES            0\n",
       "COST             0\n",
       "dtype: int64"
      ]
     },
     "execution_count": 88,
     "metadata": {},
     "output_type": "execute_result"
    }
   ],
   "source": [
    "Train_data.isnull().sum()"
   ]
  },
  {
   "cell_type": "markdown",
   "metadata": {},
   "source": [
    "Now we can see that there is no missing values present in the dataset."
   ]
  },
  {
   "cell_type": "code",
   "execution_count": 89,
   "metadata": {},
   "outputs": [
    {
     "data": {
      "text/plain": [
       "(12690, 9)"
      ]
     },
     "execution_count": 89,
     "metadata": {},
     "output_type": "execute_result"
    }
   ],
   "source": [
    "#Checking shape again\n",
    "Train_data.shape"
   ]
  },
  {
   "cell_type": "code",
   "execution_count": 90,
   "metadata": {},
   "outputs": [
    {
     "name": "stdout",
     "output_type": "stream",
     "text": [
      "<class 'pandas.core.frame.DataFrame'>\n",
      "Int64Index: 12690 entries, 0 to 12689\n",
      "Data columns (total 9 columns):\n",
      " #   Column         Non-Null Count  Dtype \n",
      "---  ------         --------------  ----- \n",
      " 0   TITLE          12690 non-null  object\n",
      " 1   RESTAURANT_ID  12690 non-null  int64 \n",
      " 2   CUISINES       12690 non-null  object\n",
      " 3   TIME           12690 non-null  object\n",
      " 4   CITY           12690 non-null  object\n",
      " 5   LOCALITY       12690 non-null  object\n",
      " 6   RATING         12690 non-null  object\n",
      " 7   VOTES          12690 non-null  object\n",
      " 8   COST           12690 non-null  int64 \n",
      "dtypes: int64(2), object(7)\n",
      "memory usage: 991.4+ KB\n"
     ]
    }
   ],
   "source": [
    "#Checking information like non null, count and dtype\n",
    "Train_data.info()"
   ]
  },
  {
   "cell_type": "markdown",
   "metadata": {},
   "source": [
    "Observation:-\n",
    "\n",
    "We can see here ,there are 12688 non-null values present in the dataset. So it conclude that there is no missing value present.\n",
    "The  datatype of all columns accept of Restaurant ID and Cost are object so we have to encode and convert it into numerical\n",
    "values in order to build the model as it is not accept string values."
   ]
  },
  {
   "cell_type": "markdown",
   "metadata": {},
   "source": [
    "# Summary Statistics"
   ]
  },
  {
   "cell_type": "code",
   "execution_count": 91,
   "metadata": {},
   "outputs": [
    {
     "data": {
      "text/html": [
       "<div>\n",
       "<style scoped>\n",
       "    .dataframe tbody tr th:only-of-type {\n",
       "        vertical-align: middle;\n",
       "    }\n",
       "\n",
       "    .dataframe tbody tr th {\n",
       "        vertical-align: top;\n",
       "    }\n",
       "\n",
       "    .dataframe thead th {\n",
       "        text-align: right;\n",
       "    }\n",
       "</style>\n",
       "<table border=\"1\" class=\"dataframe\">\n",
       "  <thead>\n",
       "    <tr style=\"text-align: right;\">\n",
       "      <th></th>\n",
       "      <th>RESTAURANT_ID</th>\n",
       "      <th>COST</th>\n",
       "    </tr>\n",
       "  </thead>\n",
       "  <tbody>\n",
       "    <tr>\n",
       "      <th>count</th>\n",
       "      <td>12690.000000</td>\n",
       "      <td>12690.000000</td>\n",
       "    </tr>\n",
       "    <tr>\n",
       "      <th>mean</th>\n",
       "      <td>7759.134121</td>\n",
       "      <td>655.252246</td>\n",
       "    </tr>\n",
       "    <tr>\n",
       "      <th>std</th>\n",
       "      <td>4504.874150</td>\n",
       "      <td>627.003540</td>\n",
       "    </tr>\n",
       "    <tr>\n",
       "      <th>min</th>\n",
       "      <td>0.000000</td>\n",
       "      <td>20.000000</td>\n",
       "    </tr>\n",
       "    <tr>\n",
       "      <th>25%</th>\n",
       "      <td>3863.250000</td>\n",
       "      <td>300.000000</td>\n",
       "    </tr>\n",
       "    <tr>\n",
       "      <th>50%</th>\n",
       "      <td>7740.000000</td>\n",
       "      <td>500.000000</td>\n",
       "    </tr>\n",
       "    <tr>\n",
       "      <th>75%</th>\n",
       "      <td>11688.750000</td>\n",
       "      <td>800.000000</td>\n",
       "    </tr>\n",
       "    <tr>\n",
       "      <th>max</th>\n",
       "      <td>15573.000000</td>\n",
       "      <td>14000.000000</td>\n",
       "    </tr>\n",
       "  </tbody>\n",
       "</table>\n",
       "</div>"
      ],
      "text/plain": [
       "       RESTAURANT_ID          COST\n",
       "count   12690.000000  12690.000000\n",
       "mean     7759.134121    655.252246\n",
       "std      4504.874150    627.003540\n",
       "min         0.000000     20.000000\n",
       "25%      3863.250000    300.000000\n",
       "50%      7740.000000    500.000000\n",
       "75%     11688.750000    800.000000\n",
       "max     15573.000000  14000.000000"
      ]
     },
     "execution_count": 91,
     "metadata": {},
     "output_type": "execute_result"
    }
   ],
   "source": [
    "Train_data.describe()"
   ]
  },
  {
   "cell_type": "markdown",
   "metadata": {},
   "source": [
    "Observation:-\n",
    "\n",
    "1. There are 12688 records available so it means no missing values are present.\n",
    "2. The minimum cost is 20 INR and maximum is 14000 INR for the food available.\n",
    "3. The average cost of food all over restaurant is 655 INR.\n",
    "4. The mean is high than median in COST so i can say that the COST is righ skewed and this columns has +ve skewnees present.\n",
    "5. The difference between 75 percentile and max is high so there is also outliers or unusual data present.\n",
    "6. STD is high in the COST column so range is high and data is spread not normally distributed."
   ]
  },
  {
   "cell_type": "markdown",
   "metadata": {},
   "source": [
    "# Exploratory Data Analysis"
   ]
  },
  {
   "cell_type": "code",
   "execution_count": 92,
   "metadata": {},
   "outputs": [
    {
     "data": {
      "image/png": "[encoded data removed]",
      "text/plain": [
       "<Figure size 432x288 with 1 Axes>"
      ]
     },
     "metadata": {
      "needs_background": "light"
     },
     "output_type": "display_data"
    },
    {
     "name": "stdout",
     "output_type": "stream",
     "text": [
      "\n",
      "\n",
      "Mean cost:  655.2522458628841\n"
     ]
    }
   ],
   "source": [
    "#Checking how my target variable distributed and mean fees\n",
    "cost  = Train_data['COST'].hist(bins=60)\n",
    "mean_val = np.mean(Train_data['COST'])\n",
    "plt.axvline(mean_val,linewidth=4,color=\"red\",label=\"mean cost\")\n",
    "plt.xlabel(\"cost\")\n",
    "plt.ylabel(\"count\")\n",
    "plt.legend()\n",
    "plt.show()\n",
    "print(\"\\n\")\n",
    "print(\"Mean cost: \",mean_val)\n"
   ]
  },
  {
   "cell_type": "markdown",
   "metadata": {},
   "source": [
    "Here we can observe that maximum distribution of cost lies under 6000. The mean cost is 655.312 INR. We can see that COST is \n",
    "right skewed ."
   ]
  },
  {
   "cell_type": "raw",
   "metadata": {},
   "source": [
    "Feature Engineering"
   ]
  },
  {
   "cell_type": "raw",
   "metadata": {},
   "source": [
    "Train_data"
   ]
  },
  {
   "cell_type": "raw",
   "metadata": {},
   "source": [
    "TITLE"
   ]
  },
  {
   "cell_type": "code",
   "execution_count": 93,
   "metadata": {},
   "outputs": [],
   "source": [
    "#Checking the different types of TITLE with there counts\n",
    "Train_data[\"TITLE\"]=Train_data[\"TITLE\"].str.split(\",\")\n",
    "TITLE ={}\n",
    "for x in Train_data[\"TITLE\"].values:\n",
    "    for each in x:\n",
    "        each = each.strip()\n",
    "        if each in TITLE:\n",
    "            TITLE[each]+=1\n",
    "        else:\n",
    "            TITLE[each]=1"
   ]
  },
  {
   "cell_type": "code",
   "execution_count": 94,
   "metadata": {},
   "outputs": [
    {
     "name": "stdout",
     "output_type": "stream",
     "text": [
      "{'CASUAL DINING': 4379, 'BAR': 682, 'QUICK BITES': 4598, 'DESSERT PARLOR': 616, 'CAFÉ': 843, 'MICROBREWERY': 71, 'BEVERAGE SHOP': 249, 'IRANI CAFE': 3, 'BAKERY': 532, 'None': 1003, 'PUB': 138, 'FINE DINING': 358, 'SWEET SHOP': 155, 'LOUNGE': 201, 'FOOD COURT': 108, 'FOOD TRUCK': 31, 'MESS': 53, 'KIOSK': 60, 'CLUB': 28, 'CONFECTIONERY': 5, 'DHABA': 45, 'MEAT SHOP': 3, 'COCKTAIL BAR': 6, 'PAAN SHOP': 5}\n"
     ]
    }
   ],
   "source": [
    "print(TITLE)"
   ]
  },
  {
   "cell_type": "markdown",
   "metadata": {},
   "source": [
    "From above instead of using all i will use top 10 TITLE"
   ]
  },
  {
   "cell_type": "code",
   "execution_count": 95,
   "metadata": {},
   "outputs": [
    {
     "name": "stdout",
     "output_type": "stream",
     "text": [
      "['QUICK BITES', 'CASUAL DINING', 'None', 'CAFÉ', 'BAR', 'DESSERT PARLOR', 'BAKERY', 'FINE DINING', 'BEVERAGE SHOP', 'LOUNGE', 'SWEET SHOP']\n"
     ]
    }
   ],
   "source": [
    "#Extract top 10 TITLE\n",
    "most_TITLE = sorted(TITLE.items(),key=lambda x:x[1],reverse=True)[:11]\n",
    "final_TITLE = []\n",
    "for title in most_TITLE:\n",
    "    final_TITLE.append(title[0])\n",
    "    \n",
    "print(final_TITLE)"
   ]
  },
  {
   "cell_type": "code",
   "execution_count": 96,
   "metadata": {},
   "outputs": [],
   "source": [
    "#Encode extracted top 10 TITLE into new columns in dataset\n",
    "import numpy as np\n",
    "import warnings\n",
    "warnings.filterwarnings('ignore')\n",
    "for title in final_TITLE:\n",
    "    Train_data[title] = 0\n",
    "\n",
    "for x,y in zip(Train_data['TITLE'].values, np.array([i for i in range(len(Train_data))])):\n",
    "    for c in x:\n",
    "        c = c.strip()\n",
    "        if c in final_TITLE:\n",
    "            Train_data[c][y] = 1"
   ]
  },
  {
   "cell_type": "code",
   "execution_count": 97,
   "metadata": {},
   "outputs": [
    {
     "data": {
      "text/html": [
       "<div>\n",
       "<style scoped>\n",
       "    .dataframe tbody tr th:only-of-type {\n",
       "        vertical-align: middle;\n",
       "    }\n",
       "\n",
       "    .dataframe tbody tr th {\n",
       "        vertical-align: top;\n",
       "    }\n",
       "\n",
       "    .dataframe thead th {\n",
       "        text-align: right;\n",
       "    }\n",
       "</style>\n",
       "<table border=\"1\" class=\"dataframe\">\n",
       "  <thead>\n",
       "    <tr style=\"text-align: right;\">\n",
       "      <th></th>\n",
       "      <th>RESTAURANT_ID</th>\n",
       "      <th>CUISINES</th>\n",
       "      <th>TIME</th>\n",
       "      <th>CITY</th>\n",
       "      <th>LOCALITY</th>\n",
       "      <th>RATING</th>\n",
       "      <th>VOTES</th>\n",
       "      <th>COST</th>\n",
       "      <th>QUICK BITES</th>\n",
       "      <th>CASUAL DINING</th>\n",
       "      <th>CAFÉ</th>\n",
       "      <th>BAR</th>\n",
       "      <th>DESSERT PARLOR</th>\n",
       "      <th>BAKERY</th>\n",
       "      <th>FINE DINING</th>\n",
       "      <th>BEVERAGE SHOP</th>\n",
       "      <th>LOUNGE</th>\n",
       "      <th>SWEET SHOP</th>\n",
       "    </tr>\n",
       "  </thead>\n",
       "  <tbody>\n",
       "    <tr>\n",
       "      <th>0</th>\n",
       "      <td>9438</td>\n",
       "      <td>Malwani, Goan, North Indian</td>\n",
       "      <td>11am – 4pm, 7:30pm – 11:30pm (Mon-Sun)</td>\n",
       "      <td>Thane</td>\n",
       "      <td>Dombivali East</td>\n",
       "      <td>3.6</td>\n",
       "      <td>49</td>\n",
       "      <td>1200</td>\n",
       "      <td>0</td>\n",
       "      <td>1</td>\n",
       "      <td>0</td>\n",
       "      <td>0</td>\n",
       "      <td>0</td>\n",
       "      <td>0</td>\n",
       "      <td>0</td>\n",
       "      <td>0</td>\n",
       "      <td>0</td>\n",
       "      <td>0</td>\n",
       "    </tr>\n",
       "    <tr>\n",
       "      <th>1</th>\n",
       "      <td>13198</td>\n",
       "      <td>Asian, Modern Indian, Japanese</td>\n",
       "      <td>6pm – 11pm (Mon-Sun)</td>\n",
       "      <td>Chennai</td>\n",
       "      <td>Ramapuram</td>\n",
       "      <td>4.2</td>\n",
       "      <td>30</td>\n",
       "      <td>1500</td>\n",
       "      <td>0</td>\n",
       "      <td>1</td>\n",
       "      <td>0</td>\n",
       "      <td>1</td>\n",
       "      <td>0</td>\n",
       "      <td>0</td>\n",
       "      <td>0</td>\n",
       "      <td>0</td>\n",
       "      <td>0</td>\n",
       "      <td>0</td>\n",
       "    </tr>\n",
       "    <tr>\n",
       "      <th>2</th>\n",
       "      <td>10915</td>\n",
       "      <td>North Indian, Chinese, Biryani, Hyderabadi</td>\n",
       "      <td>11am – 3:30pm, 7pm – 11pm (Mon-Sun)</td>\n",
       "      <td>Chennai</td>\n",
       "      <td>Saligramam</td>\n",
       "      <td>3.8</td>\n",
       "      <td>221</td>\n",
       "      <td>800</td>\n",
       "      <td>0</td>\n",
       "      <td>1</td>\n",
       "      <td>0</td>\n",
       "      <td>0</td>\n",
       "      <td>0</td>\n",
       "      <td>0</td>\n",
       "      <td>0</td>\n",
       "      <td>0</td>\n",
       "      <td>0</td>\n",
       "      <td>0</td>\n",
       "    </tr>\n",
       "    <tr>\n",
       "      <th>3</th>\n",
       "      <td>6346</td>\n",
       "      <td>Tibetan, Chinese</td>\n",
       "      <td>11:30am – 1am (Mon-Sun)</td>\n",
       "      <td>Mumbai</td>\n",
       "      <td>Bandra West</td>\n",
       "      <td>4.1</td>\n",
       "      <td>24</td>\n",
       "      <td>800</td>\n",
       "      <td>1</td>\n",
       "      <td>0</td>\n",
       "      <td>0</td>\n",
       "      <td>0</td>\n",
       "      <td>0</td>\n",
       "      <td>0</td>\n",
       "      <td>0</td>\n",
       "      <td>0</td>\n",
       "      <td>0</td>\n",
       "      <td>0</td>\n",
       "    </tr>\n",
       "    <tr>\n",
       "      <th>4</th>\n",
       "      <td>15387</td>\n",
       "      <td>Desserts</td>\n",
       "      <td>11am – 1am (Mon-Sun)</td>\n",
       "      <td>Mumbai</td>\n",
       "      <td>Lower Parel</td>\n",
       "      <td>3.8</td>\n",
       "      <td>165</td>\n",
       "      <td>300</td>\n",
       "      <td>0</td>\n",
       "      <td>0</td>\n",
       "      <td>0</td>\n",
       "      <td>0</td>\n",
       "      <td>1</td>\n",
       "      <td>0</td>\n",
       "      <td>0</td>\n",
       "      <td>0</td>\n",
       "      <td>0</td>\n",
       "      <td>0</td>\n",
       "    </tr>\n",
       "  </tbody>\n",
       "</table>\n",
       "</div>"
      ],
      "text/plain": [
       "   RESTAURANT_ID                                    CUISINES  \\\n",
       "0           9438                 Malwani, Goan, North Indian   \n",
       "1          13198              Asian, Modern Indian, Japanese   \n",
       "2          10915  North Indian, Chinese, Biryani, Hyderabadi   \n",
       "3           6346                            Tibetan, Chinese   \n",
       "4          15387                                    Desserts   \n",
       "\n",
       "                                     TIME     CITY        LOCALITY RATING  \\\n",
       "0  11am – 4pm, 7:30pm – 11:30pm (Mon-Sun)    Thane  Dombivali East    3.6   \n",
       "1                    6pm – 11pm (Mon-Sun)  Chennai       Ramapuram    4.2   \n",
       "2     11am – 3:30pm, 7pm – 11pm (Mon-Sun)  Chennai      Saligramam    3.8   \n",
       "3                 11:30am – 1am (Mon-Sun)   Mumbai     Bandra West    4.1   \n",
       "4                    11am – 1am (Mon-Sun)   Mumbai     Lower Parel    3.8   \n",
       "\n",
       "  VOTES  COST  QUICK BITES  CASUAL DINING  CAFÉ  BAR  DESSERT PARLOR  BAKERY  \\\n",
       "0    49  1200            0              1     0    0               0       0   \n",
       "1    30  1500            0              1     0    1               0       0   \n",
       "2   221   800            0              1     0    0               0       0   \n",
       "3    24   800            1              0     0    0               0       0   \n",
       "4   165   300            0              0     0    0               1       0   \n",
       "\n",
       "   FINE DINING  BEVERAGE SHOP  LOUNGE  SWEET SHOP  \n",
       "0            0              0       0           0  \n",
       "1            0              0       0           0  \n",
       "2            0              0       0           0  \n",
       "3            0              0       0           0  \n",
       "4            0              0       0           0  "
      ]
     },
     "execution_count": 97,
     "metadata": {},
     "output_type": "execute_result"
    }
   ],
   "source": [
    "Train_data.drop(['TITLE'],axis=1,inplace=True)#Droping TITLE Column as i have extracted the useful information from it\n",
    "Train_data.drop(['None'],axis=1,inplace=True)#Droping None column as it is of no use\n",
    "Train_data.head()#Checking the dataset "
   ]
  },
  {
   "cell_type": "raw",
   "metadata": {},
   "source": [
    "CUISINES"
   ]
  },
  {
   "cell_type": "code",
   "execution_count": 98,
   "metadata": {},
   "outputs": [],
   "source": [
    "#Checking the different types of CUISINES with there counts\n",
    "Train_data[\"CUISINES\"]=Train_data[\"CUISINES\"].str.split(\",\")\n",
    "CUISINES ={}\n",
    "for x in Train_data[\"CUISINES\"].values:\n",
    "    for each in x:\n",
    "        each = each.strip()\n",
    "        if each in CUISINES:\n",
    "            CUISINES[each]+=1\n",
    "        else:\n",
    "            CUISINES[each]=1"
   ]
  },
  {
   "cell_type": "code",
   "execution_count": 99,
   "metadata": {},
   "outputs": [
    {
     "name": "stdout",
     "output_type": "stream",
     "text": [
      "{'Malwani': 53, 'Goan': 33, 'North Indian': 5383, 'Asian': 441, 'Modern Indian': 69, 'Japanese': 139, 'Chinese': 4368, 'Biryani': 1260, 'Hyderabadi': 140, 'Tibetan': 51, 'Desserts': 1146, 'Seafood': 588, 'Cafe': 830, 'Pizza': 512, 'Burger': 364, 'Bar Food': 34, 'South Indian': 2274, 'Fast Food': 2121, 'Beverages': 967, 'Arabian': 396, 'Mughlai': 761, 'Maharashtrian': 80, 'Parsi': 19, 'Thai': 320, 'Bakery': 655, 'Momos': 383, 'Continental': 1563, 'European': 259, 'Rolls': 250, 'Andhra': 256, 'Italian': 1145, 'BBQ': 175, 'Finger Food': 277, 'Tea': 59, 'American': 302, 'Healthy Food': 219, 'Coffee': 43, 'Indonesian': 18, 'Korean': 36, 'Nepalese': 13, 'Ice Cream': 357, 'Mexican': 254, 'Kerala': 515, 'Indian': 38, 'Mithai': 189, 'Street Food': 663, 'Malaysian': 41, 'Vietnamese': 29, 'Iranian': 10, 'Kebab': 233, 'Juices': 235, 'Sandwich': 247, 'Mediterranean': 153, 'Salad': 250, 'Gujarati': 43, 'Rajasthani': 51, 'Tex-Mex': 21, 'Roast Chicken': 4, 'Burmese': 25, 'Chettinad': 134, 'North Eastern': 17, 'Lebanese': 155, 'Coffee and Tea': 2, 'Grill': 10, '': 93, 'Bihari': 13, 'Bengali': 84, 'Lucknowi': 16, 'Awadhi': 19, 'Steak': 43, 'French': 21, 'Portuguese': 6, 'Wraps': 32, 'Sri Lankan': 10, 'Oriya': 20, 'Ethiopian': 1, 'Konkan': 21, 'Sushi': 55, 'Spanish': 19, 'Russian': 2, 'Mangalorean': 64, 'Turkish': 19, 'Bubble Tea': 7, 'Afghan': 18, 'Naga': 7, 'Singaporean': 13, 'German': 4, 'Middle Eastern': 24, 'Sindhi': 4, 'Cantonese': 3, 'Hot Pot': 1, 'Pan Asian': 2, 'Satay': 1, 'Dumplings': 1, 'Kashmiri': 8, 'Raw Meats': 3, 'Drinks Only': 5, 'Moroccan': 3, 'Panini': 3, 'Cafe Food': 5, 'Charcoal Chicken': 9, 'Belgian': 2, 'Mongolian': 2, 'Tamil': 4, 'African': 1, 'Paan': 5, 'Assamese': 2, 'Hot dogs': 1, 'Poké': 6, 'British': 4, 'Bohri': 3, 'Fusion': 2, 'Armenian': 1, 'South American': 2, 'Greek': 2, 'Pakistani': 2, 'Peruvian': 2, 'Cuisine Varies': 1, 'Irish': 1, 'Multi Cuisine': 1, 'Jewish': 1, 'Vegan': 1, 'Oriental': 1, 'Modern Australian': 1, 'Egyptian': 1}\n"
     ]
    }
   ],
   "source": [
    "print(CUISINES)"
   ]
  },
  {
   "cell_type": "code",
   "execution_count": 100,
   "metadata": {},
   "outputs": [
    {
     "name": "stdout",
     "output_type": "stream",
     "text": [
      "['North Indian', 'Chinese', 'South Indian', 'Fast Food', 'Continental', 'Biryani', 'Desserts', 'Italian', 'Beverages', 'Cafe', 'Mughlai', 'Street Food', 'Bakery', 'Seafood', 'Kerala']\n"
     ]
    }
   ],
   "source": [
    "#Extract top 15 CUISINES\n",
    "most_CUISINES = sorted(CUISINES.items(),key=lambda x:x[1],reverse=True)[:15]\n",
    "final_CUISINES = []\n",
    "for C in most_CUISINES:\n",
    "    final_CUISINES.append(C[0])\n",
    "    \n",
    "print(final_CUISINES)    "
   ]
  },
  {
   "cell_type": "code",
   "execution_count": 101,
   "metadata": {},
   "outputs": [],
   "source": [
    "#Encode extracted top 15 CUISINES into new columns in dataset\n",
    "import numpy as np\n",
    "import warnings\n",
    "warnings.filterwarnings('ignore')\n",
    "for cuisine in final_CUISINES:\n",
    "    Train_data[cuisine] = 0\n",
    "\n",
    "for x,y in zip(Train_data['CUISINES'].values, np.array([i for i in range(len(Train_data))])):\n",
    "    for c in x:\n",
    "        c = c.strip()\n",
    "        if c in final_CUISINES:\n",
    "            Train_data[c][y] = 1"
   ]
  },
  {
   "cell_type": "code",
   "execution_count": 102,
   "metadata": {},
   "outputs": [
    {
     "data": {
      "text/html": [
       "<div>\n",
       "<style scoped>\n",
       "    .dataframe tbody tr th:only-of-type {\n",
       "        vertical-align: middle;\n",
       "    }\n",
       "\n",
       "    .dataframe tbody tr th {\n",
       "        vertical-align: top;\n",
       "    }\n",
       "\n",
       "    .dataframe thead th {\n",
       "        text-align: right;\n",
       "    }\n",
       "</style>\n",
       "<table border=\"1\" class=\"dataframe\">\n",
       "  <thead>\n",
       "    <tr style=\"text-align: right;\">\n",
       "      <th></th>\n",
       "      <th>RESTAURANT_ID</th>\n",
       "      <th>TIME</th>\n",
       "      <th>CITY</th>\n",
       "      <th>LOCALITY</th>\n",
       "      <th>RATING</th>\n",
       "      <th>VOTES</th>\n",
       "      <th>COST</th>\n",
       "      <th>QUICK BITES</th>\n",
       "      <th>CASUAL DINING</th>\n",
       "      <th>CAFÉ</th>\n",
       "      <th>...</th>\n",
       "      <th>Biryani</th>\n",
       "      <th>Desserts</th>\n",
       "      <th>Italian</th>\n",
       "      <th>Beverages</th>\n",
       "      <th>Cafe</th>\n",
       "      <th>Mughlai</th>\n",
       "      <th>Street Food</th>\n",
       "      <th>Bakery</th>\n",
       "      <th>Seafood</th>\n",
       "      <th>Kerala</th>\n",
       "    </tr>\n",
       "  </thead>\n",
       "  <tbody>\n",
       "    <tr>\n",
       "      <th>10200</th>\n",
       "      <td>1433</td>\n",
       "      <td>7:30am – 12midnight (Mon, Tue, Wed, Thu, Sat...</td>\n",
       "      <td>missing</td>\n",
       "      <td>Kalyan</td>\n",
       "      <td>3.5</td>\n",
       "      <td>40</td>\n",
       "      <td>300</td>\n",
       "      <td>1</td>\n",
       "      <td>0</td>\n",
       "      <td>0</td>\n",
       "      <td>...</td>\n",
       "      <td>1</td>\n",
       "      <td>0</td>\n",
       "      <td>0</td>\n",
       "      <td>0</td>\n",
       "      <td>0</td>\n",
       "      <td>0</td>\n",
       "      <td>1</td>\n",
       "      <td>0</td>\n",
       "      <td>0</td>\n",
       "      <td>0</td>\n",
       "    </tr>\n",
       "  </tbody>\n",
       "</table>\n",
       "<p>1 rows × 32 columns</p>\n",
       "</div>"
      ],
      "text/plain": [
       "       RESTAURANT_ID                                             TIME  \\\n",
       "10200           1433  7:30am – 12midnight (Mon, Tue, Wed, Thu, Sat...   \n",
       "\n",
       "          CITY LOCALITY RATING VOTES  COST  QUICK BITES  CASUAL DINING  CAFÉ  \\\n",
       "10200  missing   Kalyan    3.5    40   300            1              0     0   \n",
       "\n",
       "       ...  Biryani  Desserts  Italian  Beverages  Cafe  Mughlai  Street Food  \\\n",
       "10200  ...        1         0        0          0     0        0            1   \n",
       "\n",
       "       Bakery  Seafood  Kerala  \n",
       "10200       0        0       0  \n",
       "\n",
       "[1 rows x 32 columns]"
      ]
     },
     "execution_count": 102,
     "metadata": {},
     "output_type": "execute_result"
    }
   ],
   "source": [
    "Train_data.drop(['CUISINES'],axis=1,inplace=True)#Droping column CUISINES as i have extracted all info from this\n",
    "Train_data.sample()# Checking sample"
   ]
  },
  {
   "cell_type": "raw",
   "metadata": {},
   "source": [
    "CITY"
   ]
  },
  {
   "cell_type": "code",
   "execution_count": 103,
   "metadata": {},
   "outputs": [],
   "source": [
    "#Checking the different types of Cities with there counts\n",
    "Train_data[\"CITY\"]=Train_data[\"CITY\"].str.split(\",\")\n",
    "CITY ={}\n",
    "for x in Train_data[\"CITY\"].values:\n",
    "    for each in x:\n",
    "        each = each.strip()\n",
    "        if each in CITY:\n",
    "            CITY[each]+=1\n",
    "        else:\n",
    "            CITY[each]=1"
   ]
  },
  {
   "cell_type": "code",
   "execution_count": 104,
   "metadata": {},
   "outputs": [
    {
     "name": "stdout",
     "output_type": "stream",
     "text": [
      "{'Thane': 97, 'Chennai': 2174, 'Mumbai': 1722, 'Bangalore': 2149, 'Gurgaon': 379, 'Hyderabad': 1819, 'Kochi': 1279, 'Thane West': 52, 'Andheri Lokhandwala': 1, 'New Delhi': 1321, 'Andheri West': 48, 'Malad East': 1, '682036': 1, 'Bangalor': 1, 'Navi Mumbai': 165, 'Bandra West': 69, 'Delhi': 8, 'Noida': 211, 'Bangalore-560066': 1, 'Secunderabad': 310, 'missing': 112, 'India': 23, 'Madhuranagar': 1, 'Chennai Teynampet': 3, 'Faridabad': 79, 'Chembur.': 1, 'Maharashtra': 5, 'opp gurudwara Shakurpur': 1, 'Telagana Land Line:040-48507016': 1, 'Ghaziabad': 102, 'Karnataka': 2, 'Kerala': 10, 'Edappally': 7, 'Kadavanthra': 1, 'Ernakulam Circle kochi': 1, 'Bengalore': 6, 'Near Reliance Fresh': 1, 'Kilpauk': 4, 'Bengaluru': 42, 'Kothaguda': 2, 'Goregaon West': 1, 'Banglore': 4, 'Tamil Nadu': 5, 'Kakkanad': 15, 'Kochi Elamkulam': 1, 'Outer Ring Road': 1, 'Mulund East': 1, 'Secunderabad main road near signal NMREC COLLEGE': 1, 'Telangana': 7, 'Ponnuruni Kochi': 1, 'Gachibowli': 3, 'Semmancheri': 1, '5th Main Teachers Colony Koramangala Block 1 Bangalore 560034': 1, 'Mumbai Mahim': 1, 'Powai (Next to Powai Plaza)': 1, 'Dombivali East': 1, 'Kochi Vyttila': 1, 'Kandivali': 1, 'Kochi Palarivattom': 2, 'Dewan Rama Road': 1, 'Gurugram': 7, 'Sector 51 Noida': 1, 'Kaloor': 3, 'Besant Nagar': 2, 'Arumbakkam chennai-600106.': 1, 'Adjacent To Commercial Street': 1, 'Delhi NCR': 9, 'Dwarka': 10, '682035.': 1, 'Kalyan West': 2, 'Avadi': 1, 'Kondapur': 2, 'Mehdipatnam': 2, 'Gandipet': 1, 'Velachery': 2, 'Pallavaram': 1, 'Vijaya Nagar': 1, 'BTM Layout': 1, 'Chennai 600034.': 1, 'Metro Pillar No 21. Mettuguda main road near railway degree college.': 1, 'Chennai - 600040': 1, 'JP Nagar Bangalore': 1, 'Madhapur': 6, 'Ernakulam': 14, 'Sarjapur': 1, 'Whitefield Bangalore': 1, 'Kochi Chullickal': 1, 'Kochi-683101': 1, 'Bangalore - 560076': 1, 'Rohini': 3, 'Hyderabad Behind Vacs Pastries': 1, 'Hyderabad neerus emporium.': 1, 'Navi Mumbai.': 1, 'Karol Bagh': 1, 'Perungudi': 1, 'Thykoodam': 1, 'Greater Noida': 31, 'Bangalore.': 2, 'Khairatabad': 1, 'chullickal': 1, 'Grant Road West': 1, 'Hitech City': 1, 'West Maredpally': 1, 'Mumbai - 400007': 1, 'Chennai Padur': 1, 'Chander Nagar New Delhi': 1, 'Nedumbassery': 1, 'MG Road': 1, 'Naya Nagar Mira Road': 1, 'Pitampura': 1, 'Lower Parel': 1, 'HBR Layout': 1, 'Telangana 500003': 1, 'Rajiv gandhi Nagar': 1, 'New Delhi.': 2, 'Medavakkam': 2, 'Sathya Nagar': 1, 'p.o Kochi': 2, 'Behind Ramalayam Temple': 1, 'Palarivattom': 3, 'Brigade Road': 1, 'Mumbai.': 3, 'Mumbai Andheri East': 1, 'Virar West': 2, 'B-1 Stage': 1, 'Chennai Kovalam': 1, 'Hyderabad.': 7, 'Aluva': 3, 'Telangana 500034': 1, 'IOB Bank Kamala Nagar': 1, 'HSR Layout': 2, 'Marine Drive': 1, 'DLF Galleria': 1, 'Nallathambi Main Road': 1, 'Chennai opp: Vasanth & co': 1, 'Citypark': 1, 'Karnataka 560103': 1, 'Bhayandar': 1, 'Aluva Circle': 1, 'Thammenahalli Village': 1, 'SG Palya': 1, 'Attapur.': 1, 'Near Shangrilla Bus Stop': 1, 'Khar (west)': 1, 'Road 3': 2, 'Kukatpally': 2, 'Faridabd': 1, 'Telangana 500032': 1, 'Dilsukhnagar': 1, 'Mogappair. Chennai': 1, 'Near Munrshwara Temple': 1, 'Off Brigade Road': 1, 'khar west': 1, 'Potheri': 1, 'Chennai Perungudi': 1, 'Chennai Thuraipakkam': 1, 'OMR Karapakkam': 1, 'Hyderabad-500032': 1, 'Mumbai Dombivali East': 1, 'Chennai Thousand Lights': 1, 'Mahim': 1, 'Lingampally': 2, 'Powai': 3, 'New Delhi-110024': 1, 'Chennai- 600107': 1, 'Kerala 683104': 1, 'Vasai West.': 1, 'Thane (W)': 1, 'Near Santosh Banjara Hyderabad': 1, 'Banaswadi (Next to Indian Bank) Bangalore': 1, 'BTM Bangalore': 1, 'Greater Kailash 2 New Delhi': 1, 'Secunderabad ECIL': 1, 'Bangalore Koramangala 7th Block': 1, 'bangalore : 560085': 1, 'navi mumbai': 1, 'Gachibowli Hyderabad': 1, 'CPR layout harlur main road opposite to ozone ever green apartment Bangalore -': 1, 'ECR NEELANKARAI Chennai 600115': 1, 'ward X11': 1, 'kochi': 2, 'Perumbavoor': 1, 'Mira raod east': 1, 'Kerala 682013': 1, 'Chennai.': 3, 'Pokhran Road 2': 1, 'Uttar Pradesh': 1, 'Karnataka 560102': 1, 'Mumbai - 400013': 1, 'Naharpar': 1, 'Hosur Road': 1, 'Near Bharat Petroleum.': 1, 'Chennai (Bang Opposite Indian Bank)': 1, 'Sriram nagar': 1, 'West Mumbai': 2, 'Vyttila': 2, 'Banjara Hills': 2, 'MALAPALLIPURAM P .O THRISSUR': 1, 'Andheri west Mumbai': 1, 'Karnataka 560043': 2, 'Panampilly Nagar': 2, 'hyderabad': 1, 'Borivali East.': 1, 'ECIL': 1, 'Jubilee Hills': 6, 'Amrit kaur market opposite new delhi railway station paharganj': 1, 'Chennai Opposite 5C Bus stand': 1, 'Telengana': 1, 'Kochi Ravipuram': 2, 'Rajanpada': 1, 'Mahabalipuram': 2, 'Secunderabad. WE HAVE NO BRANCHES.': 1, 'Telangana 500081': 1, 'Gurgoan': 1, 'Elamakkara': 1, 'Sector 1': 1, 'Bandra W': 1, 'Kolathur': 1, 'Chennai Mahabalipuram': 2, '3rd Street': 1, 'Mumbai Chakala': 1, 'Borivali West': 1, 'Rodeo Drive Sector 49': 1, 'Pallimukku': 1, 'Delhi 110085': 1, 'Sector 51': 1, 'Champapet': 1, 'Andavar Nagar': 1, 'Bangalore - 560103': 1, 'Kerala 690525': 1, 'opp mukteshwar ashram powai': 1, 'Nungambakkam': 2, 'BK Guda': 1, 'Jogeshwari (w) Mumbai': 1, 'Kukatapally': 1, 'Near Sector 110 Noida': 1, 'Navallur': 1, 'Beside Excellency Gardens': 1, 'Mumbai - 80': 1, 'Begumpet': 1, 'Maharaja Hotel Beside Gardania Bar': 1, 'Ashok Vihar Phase 1': 1, 'Trivandrum': 1, 'Kochi-18': 1, 'Narayanguda': 1, 'Thevera': 1, 'Chennai-40': 1, 'Palm Beach Road': 1, 'East Coast Road (ECR)': 1, 'Ramapuram': 1, 'Chennai Chrompet': 1, 'Nandanam': 1, 'Saket': 1, 'MG Road Ernakulam': 1, 'Andheri Lokhandwala.': 1, 'Indiranagar': 2, 'Thiruvanmiyur': 1, 'Ambattur': 3, 'Banglaore': 1, 'Chennai - 34 Landmark - Near Loyola College': 1, 'Anna Nagar West': 2, 'Old Railway Road': 1, 'East Mumbai': 1, 'Kanakapura Road Banglore': 1, 'Kochi Kakkanad': 1, 'Kalyan': 1, 'Near Ramlila Ground': 1, 'Serilingampally': 1, 'Himayath Nagar': 2, 'Nallala Street': 1, 'Anna Salai': 1, 'Old Delhi': 1, 'Wagle Estate': 1, '1st Stage': 1, 'Kochi-16': 1, 'Kochi International Airport VIP Road': 1, 'First Street': 1, 'Chenn ai': 1, '6 & 7 - 4/64 Subhash Nagar': 1, '1st Tavarekere': 1, 'Perambur': 1, 'Vaishali Ghaziabad': 1, 'Thanisandra': 1, 'Block F': 1, 'Sector 7 Dwarka': 1, 'Opposite Barathi Gas Company': 1, 'Vadapalani': 1, 'Kondapur.': 2, 'Badlapur West.': 1, 'Kalamassery': 1, 'Palavakkam': 1, 'TCS Synergy park': 1, 'BTM 1st Stage': 1, 'Mahadevpura': 1, 'NEW BEL ROAD 560054': 1, 'Veliaveetil house Vivekananda Nagar Elamakkara': 1, 'Sholinganallur': 1, 'Maharashtra 400102': 1, 'Lower Parel West': 1, 'Tripunithura': 1, 'Mogappair': 1, 'Telangana 500070': 1, 'JP Nagar': 1, 'Navi-Mumbai': 1, 'Ashok Nagar': 1, 'Marathahalli': 1, 'Haridwar Apartments': 1, 'Kerala 682001 India': 1, 'Karnataka 560037': 1, 'Kerala 683585': 1, 'Chennai. (Near Hotel Matshya)': 1, 'Indirapuram': 1, 'Begumpet Hyderabad': 1, 'Manikonda': 2, 'Bangalore land mark above mahaveer hard ware': 1, 'Kerala 682304': 1, 'Rajarajeshwari Nagar bangalore': 1, 'GST Road': 1, 'Fort Kochi': 1, 'Lahari Apartments': 1, 'Ramanthapur': 1, 'Mulund west': 1, 'Gurgaon Haryana India': 1, 'New Delhi..Near by SBI bank': 1, 'Kochi Aluva 102': 1, 'Phase 1 Bangalore': 1, 'Hyderabad Manikonda': 1, 'Mumbai This is a Delivery & Take-away Restaurant only.': 1, '10th avenue': 1, 'Uppal': 1, 'New Delhi 110075': 1, 'Nizampet': 1, 'Ulsoo': 1, 'Bangalore 560076': 1, 'PVR plaza cinema building Connaught Place': 1, 'Gurgaon Haryana': 1, 'Chromepet': 1, 'Kerala 682024': 1, 'Janakpuri': 1, 'Secunderabad.': 1, 'chennai': 1, 'B.B.M.P East (Karnataka) - 560049': 1, 'Tambaram': 1, 'Malleshwaram Bangalore': 1, 'Vadapalani.': 1, 'Dist. Center New Delhi': 1, 'Bangalore Road': 1, 'aluva circle': 1, 'Kochi.': 1, 'Thane Mumbai': 1, 'Kadubesanahalli Bangalore': 1, 'Vasai west': 1, 'Mig Housing Society': 1, 'Haryana': 2, 'Borivali West.': 1, 'Golf Course Road': 1, 'Khar Mumbai': 1, 'Near Jyothinivas College': 1, 'Anna Nagar East': 1, 'Masab Tank': 1}\n"
     ]
    }
   ],
   "source": [
    "print(CITY)"
   ]
  },
  {
   "cell_type": "code",
   "execution_count": 105,
   "metadata": {},
   "outputs": [
    {
     "name": "stdout",
     "output_type": "stream",
     "text": [
      "['Chennai', 'Bangalore', 'Hyderabad', 'Mumbai', 'New Delhi', 'Kochi', 'Gurgaon', 'Secunderabad', 'Noida', 'Navi Mumbai']\n"
     ]
    }
   ],
   "source": [
    "#Extract top Cities then i will choose best 15 cities\n",
    "most_CITY = sorted(CITY.items(),key=lambda x:x[1],reverse=True)[:10]\n",
    "final_CITY = []\n",
    "for city in most_CITY:\n",
    "    final_CITY.append(city[0])\n",
    "    \n",
    "print(final_CITY)    "
   ]
  },
  {
   "cell_type": "code",
   "execution_count": 106,
   "metadata": {},
   "outputs": [],
   "source": [
    "#Encode extracted top 15 CUISINES into new columns in dataset\n",
    "import numpy as np\n",
    "import warnings\n",
    "warnings.filterwarnings('ignore')\n",
    "for city in final_CITY:\n",
    "    Train_data[city] = 0\n",
    "\n",
    "for x,y in zip(Train_data['CITY'].values, np.array([i for i in range(len(Train_data))])):\n",
    "    for c in x:\n",
    "        c = c.strip()\n",
    "        if c in final_CITY:\n",
    "            Train_data[c][y] = 1"
   ]
  },
  {
   "cell_type": "code",
   "execution_count": 107,
   "metadata": {},
   "outputs": [
    {
     "data": {
      "text/html": [
       "<div>\n",
       "<style scoped>\n",
       "    .dataframe tbody tr th:only-of-type {\n",
       "        vertical-align: middle;\n",
       "    }\n",
       "\n",
       "    .dataframe tbody tr th {\n",
       "        vertical-align: top;\n",
       "    }\n",
       "\n",
       "    .dataframe thead th {\n",
       "        text-align: right;\n",
       "    }\n",
       "</style>\n",
       "<table border=\"1\" class=\"dataframe\">\n",
       "  <thead>\n",
       "    <tr style=\"text-align: right;\">\n",
       "      <th></th>\n",
       "      <th>RESTAURANT_ID</th>\n",
       "      <th>TIME</th>\n",
       "      <th>LOCALITY</th>\n",
       "      <th>RATING</th>\n",
       "      <th>VOTES</th>\n",
       "      <th>COST</th>\n",
       "      <th>QUICK BITES</th>\n",
       "      <th>CASUAL DINING</th>\n",
       "      <th>CAFÉ</th>\n",
       "      <th>BAR</th>\n",
       "      <th>...</th>\n",
       "      <th>Chennai</th>\n",
       "      <th>Bangalore</th>\n",
       "      <th>Hyderabad</th>\n",
       "      <th>Mumbai</th>\n",
       "      <th>New Delhi</th>\n",
       "      <th>Kochi</th>\n",
       "      <th>Gurgaon</th>\n",
       "      <th>Secunderabad</th>\n",
       "      <th>Noida</th>\n",
       "      <th>Navi Mumbai</th>\n",
       "    </tr>\n",
       "  </thead>\n",
       "  <tbody>\n",
       "    <tr>\n",
       "      <th>11997</th>\n",
       "      <td>6892</td>\n",
       "      <td>9:30am – 11pm (Mon-Sun)</td>\n",
       "      <td>BTM</td>\n",
       "      <td>NEW</td>\n",
       "      <td>0</td>\n",
       "      <td>300</td>\n",
       "      <td>0</td>\n",
       "      <td>0</td>\n",
       "      <td>0</td>\n",
       "      <td>0</td>\n",
       "      <td>...</td>\n",
       "      <td>0</td>\n",
       "      <td>1</td>\n",
       "      <td>0</td>\n",
       "      <td>0</td>\n",
       "      <td>0</td>\n",
       "      <td>0</td>\n",
       "      <td>0</td>\n",
       "      <td>0</td>\n",
       "      <td>0</td>\n",
       "      <td>0</td>\n",
       "    </tr>\n",
       "  </tbody>\n",
       "</table>\n",
       "<p>1 rows × 41 columns</p>\n",
       "</div>"
      ],
      "text/plain": [
       "       RESTAURANT_ID                     TIME LOCALITY RATING VOTES  COST  \\\n",
       "11997           6892  9:30am – 11pm (Mon-Sun)      BTM    NEW     0   300   \n",
       "\n",
       "       QUICK BITES  CASUAL DINING  CAFÉ  BAR  ...  Chennai  Bangalore  \\\n",
       "11997            0              0     0    0  ...        0          1   \n",
       "\n",
       "       Hyderabad  Mumbai  New Delhi  Kochi  Gurgaon  Secunderabad  Noida  \\\n",
       "11997          0       0          0      0        0             0      0   \n",
       "\n",
       "       Navi Mumbai  \n",
       "11997            0  \n",
       "\n",
       "[1 rows x 41 columns]"
      ]
     },
     "execution_count": 107,
     "metadata": {},
     "output_type": "execute_result"
    }
   ],
   "source": [
    "Train_data.drop(['CITY'],axis=1,inplace=True)#Droping column CUISINES as i have extracted all info from this\n",
    "Train_data.sample()# Checking sample"
   ]
  },
  {
   "cell_type": "code",
   "execution_count": 108,
   "metadata": {},
   "outputs": [
    {
     "data": {
      "text/html": [
       "<div>\n",
       "<style scoped>\n",
       "    .dataframe tbody tr th:only-of-type {\n",
       "        vertical-align: middle;\n",
       "    }\n",
       "\n",
       "    .dataframe tbody tr th {\n",
       "        vertical-align: top;\n",
       "    }\n",
       "\n",
       "    .dataframe thead th {\n",
       "        text-align: right;\n",
       "    }\n",
       "</style>\n",
       "<table border=\"1\" class=\"dataframe\">\n",
       "  <thead>\n",
       "    <tr style=\"text-align: right;\">\n",
       "      <th></th>\n",
       "      <th>RATING</th>\n",
       "      <th>VOTES</th>\n",
       "      <th>COST</th>\n",
       "      <th>QUICK BITES</th>\n",
       "      <th>CASUAL DINING</th>\n",
       "      <th>CAFÉ</th>\n",
       "      <th>BAR</th>\n",
       "      <th>DESSERT PARLOR</th>\n",
       "      <th>BAKERY</th>\n",
       "      <th>FINE DINING</th>\n",
       "      <th>...</th>\n",
       "      <th>Chennai</th>\n",
       "      <th>Bangalore</th>\n",
       "      <th>Hyderabad</th>\n",
       "      <th>Mumbai</th>\n",
       "      <th>New Delhi</th>\n",
       "      <th>Kochi</th>\n",
       "      <th>Gurgaon</th>\n",
       "      <th>Secunderabad</th>\n",
       "      <th>Noida</th>\n",
       "      <th>Navi Mumbai</th>\n",
       "    </tr>\n",
       "  </thead>\n",
       "  <tbody>\n",
       "    <tr>\n",
       "      <th>3765</th>\n",
       "      <td>3.8</td>\n",
       "      <td>374</td>\n",
       "      <td>600</td>\n",
       "      <td>1</td>\n",
       "      <td>0</td>\n",
       "      <td>0</td>\n",
       "      <td>0</td>\n",
       "      <td>0</td>\n",
       "      <td>0</td>\n",
       "      <td>0</td>\n",
       "      <td>...</td>\n",
       "      <td>0</td>\n",
       "      <td>0</td>\n",
       "      <td>0</td>\n",
       "      <td>0</td>\n",
       "      <td>0</td>\n",
       "      <td>0</td>\n",
       "      <td>0</td>\n",
       "      <td>0</td>\n",
       "      <td>0</td>\n",
       "      <td>0</td>\n",
       "    </tr>\n",
       "  </tbody>\n",
       "</table>\n",
       "<p>1 rows × 38 columns</p>\n",
       "</div>"
      ],
      "text/plain": [
       "     RATING VOTES  COST  QUICK BITES  CASUAL DINING  CAFÉ  BAR  \\\n",
       "3765    3.8   374   600            1              0     0    0   \n",
       "\n",
       "      DESSERT PARLOR  BAKERY  FINE DINING  ...  Chennai  Bangalore  Hyderabad  \\\n",
       "3765               0       0            0  ...        0          0          0   \n",
       "\n",
       "      Mumbai  New Delhi  Kochi  Gurgaon  Secunderabad  Noida  Navi Mumbai  \n",
       "3765       0          0      0        0             0      0            0  \n",
       "\n",
       "[1 rows x 38 columns]"
      ]
     },
     "execution_count": 108,
     "metadata": {},
     "output_type": "execute_result"
    }
   ],
   "source": [
    "#I will drop column Restaurant id, time and locality as it is no use and very mess data.\n",
    "Train_data.drop(['RESTAURANT_ID','TIME','LOCALITY'],axis=1,inplace=True)\n",
    "Train_data.sample()"
   ]
  },
  {
   "cell_type": "code",
   "execution_count": 109,
   "metadata": {},
   "outputs": [
    {
     "data": {
      "text/plain": [
       "array(['3.6', '4.2', '3.8', '4.1', '4.0', '4.3', '3.9', '3.3', '3.4', '-',\n",
       "       '4.5', '3.5', '4.4', '2.7', '3.7', '4.7', 'NEW', '3.1', '2.5',\n",
       "       '4.6', '2.8', '0', '3.0', '3.2', '2.6', '2.9', '4.9', '4.8', '2.4',\n",
       "       '2.3', '2.0', '2.1', '2.2'], dtype=object)"
      ]
     },
     "execution_count": 109,
     "metadata": {},
     "output_type": "execute_result"
    }
   ],
   "source": [
    "Train_data['RATING'].unique()"
   ]
  },
  {
   "cell_type": "code",
   "execution_count": 110,
   "metadata": {},
   "outputs": [],
   "source": [
    "Train_data['RATING'] = np.where(Train_data['RATING']==\"NEW\",0, Train_data['RATING'])#Converting new into 0\n",
    "Train_data['RATING'] = np.where(Train_data['RATING']==\"-\",0, Train_data['RATING'])#Converting _ into 0"
   ]
  },
  {
   "cell_type": "code",
   "execution_count": 111,
   "metadata": {},
   "outputs": [],
   "source": [
    "Train_data['RATING'] =Train_data['RATING'].astype(float)# Converting object datatype into float for building model"
   ]
  },
  {
   "cell_type": "code",
   "execution_count": 112,
   "metadata": {},
   "outputs": [],
   "source": [
    "Train_data['COST'] = Train_data['COST'].astype(float) #Converting object into int type"
   ]
  },
  {
   "cell_type": "code",
   "execution_count": 113,
   "metadata": {},
   "outputs": [],
   "source": [
    "Train_data['VOTES']= Train_data['VOTES'].astype(int)"
   ]
  },
  {
   "cell_type": "code",
   "execution_count": 114,
   "metadata": {},
   "outputs": [
    {
     "data": {
      "text/plain": [
       "RATING            float64\n",
       "VOTES               int32\n",
       "COST              float64\n",
       "QUICK BITES         int64\n",
       "CASUAL DINING       int64\n",
       "CAFÉ                int64\n",
       "BAR                 int64\n",
       "DESSERT PARLOR      int64\n",
       "BAKERY              int64\n",
       "FINE DINING         int64\n",
       "BEVERAGE SHOP       int64\n",
       "LOUNGE              int64\n",
       "SWEET SHOP          int64\n",
       "North Indian        int64\n",
       "Chinese             int64\n",
       "South Indian        int64\n",
       "Fast Food           int64\n",
       "Continental         int64\n",
       "Biryani             int64\n",
       "Desserts            int64\n",
       "Italian             int64\n",
       "Beverages           int64\n",
       "Cafe                int64\n",
       "Mughlai             int64\n",
       "Street Food         int64\n",
       "Bakery              int64\n",
       "Seafood             int64\n",
       "Kerala              int64\n",
       "Chennai             int64\n",
       "Bangalore           int64\n",
       "Hyderabad           int64\n",
       "Mumbai              int64\n",
       "New Delhi           int64\n",
       "Kochi               int64\n",
       "Gurgaon             int64\n",
       "Secunderabad        int64\n",
       "Noida               int64\n",
       "Navi Mumbai         int64\n",
       "dtype: object"
      ]
     },
     "execution_count": 114,
     "metadata": {},
     "output_type": "execute_result"
    }
   ],
   "source": [
    "Train_data.dtypes"
   ]
  },
  {
   "cell_type": "raw",
   "metadata": {},
   "source": [
    "Data Visulization"
   ]
  },
  {
   "cell_type": "code",
   "execution_count": 115,
   "metadata": {},
   "outputs": [
    {
     "data": {
      "image/png": "[encoded data removed]",
      "text/plain": [
       "<Figure size 432x288 with 1 Axes>"
      ]
     },
     "metadata": {
      "needs_background": "light"
     },
     "output_type": "display_data"
    },
    {
     "name": "stdout",
     "output_type": "stream",
     "text": [
      "\n",
      "\n",
      "Minimum Cost:-  20.0\n",
      "Maximum Cost:-  14000.0\n"
     ]
    }
   ],
   "source": [
    "#Checking the norml distribution of my target variable\n",
    "sns.distplot(Train_data['COST'])\n",
    "plt.title(\"Distribution of Restaurant Food Cost\")\n",
    "plt.show()\n",
    "print('\\n')\n",
    "print(\"Minimum Cost:- \",Train_data['COST'].min())\n",
    "print(\"Maximum Cost:- \",Train_data['COST'].max())"
   ]
  },
  {
   "cell_type": "markdown",
   "metadata": {},
   "source": [
    "Observation:-\n",
    "1. The cost is not normally distributed and it has skewnees which is +ve skewnees or right skewed.\n",
    "2. The minimum cost is 20 INR and Highest cost is 14000.00.\n",
    "3. The maxi mum cost distribution lies between 20 and 3000."
   ]
  },
  {
   "cell_type": "code",
   "execution_count": 116,
   "metadata": {},
   "outputs": [
    {
     "data": {
      "image/png": "[encoded data removed]",
      "text/plain": [
       "<Figure size 720x576 with 1 Axes>"
      ]
     },
     "metadata": {
      "needs_background": "light"
     },
     "output_type": "display_data"
    }
   ],
   "source": [
    "#Checking the Food Cost according to rating\n",
    "plt.figure(figsize=(10,8))\n",
    "sns.lineplot(x='RATING',y='COST',data=Train_data)\n",
    "plt.title(\"Food cost on based of rating provided\")\n",
    "plt.show()"
   ]
  },
  {
   "cell_type": "markdown",
   "metadata": {},
   "source": [
    "We can see that cost is fluctuating , we cannot say that high rating result high cost for the food.Food cost is high at the\n",
    "rating between 4 and 5 and low at 0."
   ]
  },
  {
   "cell_type": "code",
   "execution_count": 117,
   "metadata": {},
   "outputs": [
    {
     "data": {
      "image/png": "[encoded data removed]",
      "text/plain": [
       "<Figure size 1440x1008 with 1 Axes>"
      ]
     },
     "metadata": {
      "needs_background": "light"
     },
     "output_type": "display_data"
    }
   ],
   "source": [
    "#Checking the Food Cost according to vote\n",
    "plt.figure(figsize=(20,14))\n",
    "sns.lineplot(x='VOTES',y='COST',data=Train_data)\n",
    "plt.title(\"Food cost on based of vote given\")\n",
    "plt.show()"
   ]
  },
  {
   "cell_type": "markdown",
   "metadata": {},
   "source": [
    "We can see that when no votes increase the cost is decrease . The maximum cost fluctuation lies between 0 and 10000."
   ]
  },
  {
   "cell_type": "code",
   "execution_count": 118,
   "metadata": {},
   "outputs": [
    {
     "data": {
      "text/plain": [
       "<matplotlib.axes._subplots.AxesSubplot at 0x26518077640>"
      ]
     },
     "execution_count": 118,
     "metadata": {},
     "output_type": "execute_result"
    },
    {
     "data": {
      "image/png": "[encoded data removed]",
      "text/plain": [
       "<Figure size 1584x1152 with 2 Axes>"
      ]
     },
     "metadata": {
      "needs_background": "light"
     },
     "output_type": "display_data"
    }
   ],
   "source": [
    "#Checking corelation of all columns with targer column\n",
    "plt.figure(figsize=(22,16))\n",
    "sns.heatmap(Train_data.corr(),cmap='coolwarm',annot=True,fmt='.2f')"
   ]
  },
  {
   "cell_type": "markdown",
   "metadata": {},
   "source": [
    "Observation:-\n",
    "\n",
    "1.Most positive corelated column with target variable:-Fine Dining\n",
    "  so i can say that in fine dining restaurants the food cost is very high.\n",
    "\n",
    "2.Most negative corelated columns - Quick Bites\n",
    "  so i can say that the food cost is low at the quick bites type restaurant\n",
    "    "
   ]
  },
  {
   "cell_type": "code",
   "execution_count": 119,
   "metadata": {},
   "outputs": [
    {
     "data": {
      "text/plain": [
       "Text(0.5, 1.0, 'Corelation With target variables')"
      ]
     },
     "execution_count": 119,
     "metadata": {},
     "output_type": "execute_result"
    },
    {
     "data": {
      "image/png": "[encoded data removed]",
      "text/plain": [
       "<Figure size 1296x720 with 1 Axes>"
      ]
     },
     "metadata": {
      "needs_background": "light"
     },
     "output_type": "display_data"
    }
   ],
   "source": [
    "#The other way to check corelation and understand the relation with target column in better way\n",
    "plt.figure(figsize=(18,10))\n",
    "Train_data.drop('COST',axis=1).corrwith(Train_data['COST']).plot(kind='bar',grid=True)\n",
    "plt.xticks(rotation=60)\n",
    "plt.title('Corelation With target variables')"
   ]
  },
  {
   "cell_type": "markdown",
   "metadata": {},
   "source": [
    "Observation:-\n",
    "\n",
    "1. Here we can see that cost is increasing when the restaurant titles are Fine Dining, Bar, Continental etc.\n",
    "\n",
    "2. The food cost is increasing in the cities like Mumbai, Gurgaon,New Delhi where as it relavantly decresing in Kochi,Hyderabad\n",
    "    etc."
   ]
  },
  {
   "cell_type": "raw",
   "metadata": {},
   "source": [
    "Pipeline For Test_data"
   ]
  },
  {
   "cell_type": "code",
   "execution_count": 120,
   "metadata": {},
   "outputs": [],
   "source": [
    "Test_data = pd.read_excel(\"Data_Test.xlsx\")#Loading the test data"
   ]
  },
  {
   "cell_type": "code",
   "execution_count": 121,
   "metadata": {},
   "outputs": [
    {
     "data": {
      "text/plain": [
       "(4231, 8)"
      ]
     },
     "execution_count": 121,
     "metadata": {},
     "output_type": "execute_result"
    }
   ],
   "source": [
    "#Checking shape\n",
    "Test_data.shape"
   ]
  },
  {
   "cell_type": "code",
   "execution_count": 122,
   "metadata": {},
   "outputs": [
    {
     "data": {
      "text/plain": [
       "TITLE              0\n",
       "RESTAURANT_ID      0\n",
       "CUISINES           0\n",
       "TIME               0\n",
       "CITY              35\n",
       "LOCALITY          30\n",
       "RATING             2\n",
       "VOTES            402\n",
       "dtype: int64"
      ]
     },
     "execution_count": 122,
     "metadata": {},
     "output_type": "execute_result"
    }
   ],
   "source": [
    "Test_data.isnull().sum()"
   ]
  },
  {
   "cell_type": "code",
   "execution_count": 123,
   "metadata": {},
   "outputs": [],
   "source": [
    "Test_data['CITY'].fillna('missing', inplace=True) #Filling missing values for column CITY\n",
    "Test_data['VOTES'].fillna('0', inplace=True) #Filling missing values for column CITY\n",
    "Test_data.drop(['RESTAURANT_ID','TIME','LOCALITY'],axis=1,inplace=True)\n",
    "Test_data.dropna(inplace=True)\n"
   ]
  },
  {
   "cell_type": "code",
   "execution_count": 124,
   "metadata": {},
   "outputs": [
    {
     "data": {
      "text/plain": [
       "TITLE       0\n",
       "CUISINES    0\n",
       "CITY        0\n",
       "RATING      0\n",
       "VOTES       0\n",
       "dtype: int64"
      ]
     },
     "execution_count": 124,
     "metadata": {},
     "output_type": "execute_result"
    }
   ],
   "source": [
    "Test_data.isnull().sum()"
   ]
  },
  {
   "cell_type": "code",
   "execution_count": 125,
   "metadata": {},
   "outputs": [
    {
     "data": {
      "text/plain": [
       "(4229, 5)"
      ]
     },
     "execution_count": 125,
     "metadata": {},
     "output_type": "execute_result"
    }
   ],
   "source": [
    "Test_data.shape"
   ]
  },
  {
   "cell_type": "raw",
   "metadata": {},
   "source": [
    "Title Column Treatment"
   ]
  },
  {
   "cell_type": "code",
   "execution_count": 126,
   "metadata": {},
   "outputs": [],
   "source": [
    "#Checking the different types of TITLE with there counts\n",
    "Test_data[\"TITLE\"]=Test_data[\"TITLE\"].str.split(\",\")\n",
    "TITLE ={}\n",
    "for x in Test_data[\"TITLE\"].values:\n",
    "    for each in x:\n",
    "        each = each.strip()\n",
    "        if each in TITLE:\n",
    "            TITLE[each]+=1\n",
    "        else:\n",
    "            TITLE[each]=1"
   ]
  },
  {
   "cell_type": "code",
   "execution_count": 127,
   "metadata": {},
   "outputs": [
    {
     "name": "stdout",
     "output_type": "stream",
     "text": [
      "{'CASUAL DINING': 1486, 'QUICK BITES': 1545, 'None': 283, 'FOOD TRUCK': 8, 'DESSERT PARLOR': 179, 'BAR': 218, 'LOUNGE': 62, 'BEVERAGE SHOP': 82, 'PUB': 51, 'CAFÉ': 297, 'BAKERY': 175, 'SWEET SHOP': 63, 'DHABA': 16, 'FINE DINING': 110, 'IRANI CAFE': 2, 'FOOD COURT': 36, 'KIOSK': 20, 'MESS': 15, 'MICROBREWERY': 27, 'CLUB': 11, 'COCKTAIL BAR': 1, 'MEAT SHOP': 1, 'CONFECTIONERY': 1, 'PAAN SHOP': 1, 'BHOJANALYA': 1}\n"
     ]
    }
   ],
   "source": [
    "print(TITLE)"
   ]
  },
  {
   "cell_type": "code",
   "execution_count": 128,
   "metadata": {},
   "outputs": [
    {
     "name": "stdout",
     "output_type": "stream",
     "text": [
      "['QUICK BITES', 'CASUAL DINING', 'CAFÉ', 'None', 'BAR', 'DESSERT PARLOR', 'BAKERY', 'FINE DINING', 'BEVERAGE SHOP', 'SWEET SHOP', 'LOUNGE']\n"
     ]
    }
   ],
   "source": [
    "#Extract top 11 TITLE\n",
    "most_TITLE = sorted(TITLE.items(),key=lambda x:x[1],reverse=True)[:11]\n",
    "final_TITLE = []\n",
    "for title in most_TITLE:\n",
    "    final_TITLE.append(title[0])\n",
    "    \n",
    "print(final_TITLE)"
   ]
  },
  {
   "cell_type": "code",
   "execution_count": 129,
   "metadata": {},
   "outputs": [],
   "source": [
    "#Encode extracted top 10 TITLE into new columns in dataset\n",
    "import numpy as np\n",
    "import warnings\n",
    "warnings.filterwarnings('ignore')\n",
    "for title in final_TITLE:\n",
    "    Test_data[title] = 0\n",
    "\n",
    "for x,y in zip(Test_data['TITLE'].values, np.array([i for i in range(len(Test_data))])):\n",
    "    for c in x:\n",
    "        c = c.strip()\n",
    "        if c in final_TITLE:\n",
    "            Test_data[c][y] = 1"
   ]
  },
  {
   "cell_type": "code",
   "execution_count": 130,
   "metadata": {},
   "outputs": [
    {
     "data": {
      "text/html": [
       "<div>\n",
       "<style scoped>\n",
       "    .dataframe tbody tr th:only-of-type {\n",
       "        vertical-align: middle;\n",
       "    }\n",
       "\n",
       "    .dataframe tbody tr th {\n",
       "        vertical-align: top;\n",
       "    }\n",
       "\n",
       "    .dataframe thead th {\n",
       "        text-align: right;\n",
       "    }\n",
       "</style>\n",
       "<table border=\"1\" class=\"dataframe\">\n",
       "  <thead>\n",
       "    <tr style=\"text-align: right;\">\n",
       "      <th></th>\n",
       "      <th>CUISINES</th>\n",
       "      <th>CITY</th>\n",
       "      <th>RATING</th>\n",
       "      <th>VOTES</th>\n",
       "      <th>QUICK BITES</th>\n",
       "      <th>CASUAL DINING</th>\n",
       "      <th>CAFÉ</th>\n",
       "      <th>BAR</th>\n",
       "      <th>DESSERT PARLOR</th>\n",
       "      <th>BAKERY</th>\n",
       "      <th>FINE DINING</th>\n",
       "      <th>BEVERAGE SHOP</th>\n",
       "      <th>SWEET SHOP</th>\n",
       "      <th>LOUNGE</th>\n",
       "    </tr>\n",
       "  </thead>\n",
       "  <tbody>\n",
       "    <tr>\n",
       "      <th>0</th>\n",
       "      <td>North Indian, Chinese, Mughlai, Kebab</td>\n",
       "      <td>Noida</td>\n",
       "      <td>4.3</td>\n",
       "      <td>564 votes</td>\n",
       "      <td>0</td>\n",
       "      <td>1</td>\n",
       "      <td>0</td>\n",
       "      <td>0</td>\n",
       "      <td>0</td>\n",
       "      <td>0</td>\n",
       "      <td>0</td>\n",
       "      <td>0</td>\n",
       "      <td>0</td>\n",
       "      <td>0</td>\n",
       "    </tr>\n",
       "    <tr>\n",
       "      <th>1</th>\n",
       "      <td>South Indian, Fast Food, Pizza, North Indian</td>\n",
       "      <td>Mumbai</td>\n",
       "      <td>4.2</td>\n",
       "      <td>61 votes</td>\n",
       "      <td>1</td>\n",
       "      <td>0</td>\n",
       "      <td>0</td>\n",
       "      <td>0</td>\n",
       "      <td>0</td>\n",
       "      <td>0</td>\n",
       "      <td>0</td>\n",
       "      <td>0</td>\n",
       "      <td>0</td>\n",
       "      <td>0</td>\n",
       "    </tr>\n",
       "    <tr>\n",
       "      <th>2</th>\n",
       "      <td>North Indian, Seafood, Biryani, Chinese</td>\n",
       "      <td>Mumbai</td>\n",
       "      <td>3.8</td>\n",
       "      <td>350 votes</td>\n",
       "      <td>0</td>\n",
       "      <td>1</td>\n",
       "      <td>0</td>\n",
       "      <td>0</td>\n",
       "      <td>0</td>\n",
       "      <td>0</td>\n",
       "      <td>0</td>\n",
       "      <td>0</td>\n",
       "      <td>0</td>\n",
       "      <td>0</td>\n",
       "    </tr>\n",
       "    <tr>\n",
       "      <th>3</th>\n",
       "      <td>Biryani</td>\n",
       "      <td>Faridabad</td>\n",
       "      <td>3.8</td>\n",
       "      <td>1445 votes</td>\n",
       "      <td>0</td>\n",
       "      <td>0</td>\n",
       "      <td>0</td>\n",
       "      <td>0</td>\n",
       "      <td>0</td>\n",
       "      <td>0</td>\n",
       "      <td>0</td>\n",
       "      <td>0</td>\n",
       "      <td>0</td>\n",
       "      <td>0</td>\n",
       "    </tr>\n",
       "    <tr>\n",
       "      <th>4</th>\n",
       "      <td>South Indian, Kerala</td>\n",
       "      <td>Kochi</td>\n",
       "      <td>3.6</td>\n",
       "      <td>23 votes</td>\n",
       "      <td>1</td>\n",
       "      <td>0</td>\n",
       "      <td>0</td>\n",
       "      <td>0</td>\n",
       "      <td>0</td>\n",
       "      <td>0</td>\n",
       "      <td>0</td>\n",
       "      <td>0</td>\n",
       "      <td>0</td>\n",
       "      <td>0</td>\n",
       "    </tr>\n",
       "  </tbody>\n",
       "</table>\n",
       "</div>"
      ],
      "text/plain": [
       "                                       CUISINES       CITY RATING       VOTES  \\\n",
       "0         North Indian, Chinese, Mughlai, Kebab      Noida    4.3   564 votes   \n",
       "1  South Indian, Fast Food, Pizza, North Indian     Mumbai    4.2    61 votes   \n",
       "2       North Indian, Seafood, Biryani, Chinese     Mumbai    3.8   350 votes   \n",
       "3                                       Biryani  Faridabad    3.8  1445 votes   \n",
       "4                          South Indian, Kerala      Kochi    3.6    23 votes   \n",
       "\n",
       "   QUICK BITES  CASUAL DINING  CAFÉ  BAR  DESSERT PARLOR  BAKERY  FINE DINING  \\\n",
       "0            0              1     0    0               0       0            0   \n",
       "1            1              0     0    0               0       0            0   \n",
       "2            0              1     0    0               0       0            0   \n",
       "3            0              0     0    0               0       0            0   \n",
       "4            1              0     0    0               0       0            0   \n",
       "\n",
       "   BEVERAGE SHOP  SWEET SHOP  LOUNGE  \n",
       "0              0           0       0  \n",
       "1              0           0       0  \n",
       "2              0           0       0  \n",
       "3              0           0       0  \n",
       "4              0           0       0  "
      ]
     },
     "execution_count": 130,
     "metadata": {},
     "output_type": "execute_result"
    }
   ],
   "source": [
    "Test_data.drop(['TITLE'],axis=1,inplace=True)#Droping TITLE Column as i have extracted the useful information from it\n",
    "Test_data.drop(['None'],axis=1,inplace=True)#Droping None column as it is of no use\n",
    "Test_data.head()#Checking the dataset "
   ]
  },
  {
   "cell_type": "code",
   "execution_count": 131,
   "metadata": {},
   "outputs": [
    {
     "data": {
      "text/html": [
       "<div>\n",
       "<style scoped>\n",
       "    .dataframe tbody tr th:only-of-type {\n",
       "        vertical-align: middle;\n",
       "    }\n",
       "\n",
       "    .dataframe tbody tr th {\n",
       "        vertical-align: top;\n",
       "    }\n",
       "\n",
       "    .dataframe thead th {\n",
       "        text-align: right;\n",
       "    }\n",
       "</style>\n",
       "<table border=\"1\" class=\"dataframe\">\n",
       "  <thead>\n",
       "    <tr style=\"text-align: right;\">\n",
       "      <th></th>\n",
       "      <th>CUISINES</th>\n",
       "      <th>CITY</th>\n",
       "      <th>RATING</th>\n",
       "      <th>VOTES</th>\n",
       "      <th>QUICK BITES</th>\n",
       "      <th>CASUAL DINING</th>\n",
       "      <th>CAFÉ</th>\n",
       "      <th>BAR</th>\n",
       "      <th>DESSERT PARLOR</th>\n",
       "      <th>BAKERY</th>\n",
       "      <th>FINE DINING</th>\n",
       "      <th>BEVERAGE SHOP</th>\n",
       "      <th>LOUNGE</th>\n",
       "      <th>SWEET SHOP</th>\n",
       "    </tr>\n",
       "  </thead>\n",
       "  <tbody>\n",
       "    <tr>\n",
       "      <th>0</th>\n",
       "      <td>North Indian, Chinese, Mughlai, Kebab</td>\n",
       "      <td>Noida</td>\n",
       "      <td>4.3</td>\n",
       "      <td>564 votes</td>\n",
       "      <td>0</td>\n",
       "      <td>1</td>\n",
       "      <td>0</td>\n",
       "      <td>0</td>\n",
       "      <td>0</td>\n",
       "      <td>0</td>\n",
       "      <td>0</td>\n",
       "      <td>0</td>\n",
       "      <td>0</td>\n",
       "      <td>0</td>\n",
       "    </tr>\n",
       "    <tr>\n",
       "      <th>1</th>\n",
       "      <td>South Indian, Fast Food, Pizza, North Indian</td>\n",
       "      <td>Mumbai</td>\n",
       "      <td>4.2</td>\n",
       "      <td>61 votes</td>\n",
       "      <td>1</td>\n",
       "      <td>0</td>\n",
       "      <td>0</td>\n",
       "      <td>0</td>\n",
       "      <td>0</td>\n",
       "      <td>0</td>\n",
       "      <td>0</td>\n",
       "      <td>0</td>\n",
       "      <td>0</td>\n",
       "      <td>0</td>\n",
       "    </tr>\n",
       "    <tr>\n",
       "      <th>2</th>\n",
       "      <td>North Indian, Seafood, Biryani, Chinese</td>\n",
       "      <td>Mumbai</td>\n",
       "      <td>3.8</td>\n",
       "      <td>350 votes</td>\n",
       "      <td>0</td>\n",
       "      <td>1</td>\n",
       "      <td>0</td>\n",
       "      <td>0</td>\n",
       "      <td>0</td>\n",
       "      <td>0</td>\n",
       "      <td>0</td>\n",
       "      <td>0</td>\n",
       "      <td>0</td>\n",
       "      <td>0</td>\n",
       "    </tr>\n",
       "    <tr>\n",
       "      <th>3</th>\n",
       "      <td>Biryani</td>\n",
       "      <td>Faridabad</td>\n",
       "      <td>3.8</td>\n",
       "      <td>1445 votes</td>\n",
       "      <td>0</td>\n",
       "      <td>0</td>\n",
       "      <td>0</td>\n",
       "      <td>0</td>\n",
       "      <td>0</td>\n",
       "      <td>0</td>\n",
       "      <td>0</td>\n",
       "      <td>0</td>\n",
       "      <td>0</td>\n",
       "      <td>0</td>\n",
       "    </tr>\n",
       "    <tr>\n",
       "      <th>4</th>\n",
       "      <td>South Indian, Kerala</td>\n",
       "      <td>Kochi</td>\n",
       "      <td>3.6</td>\n",
       "      <td>23 votes</td>\n",
       "      <td>1</td>\n",
       "      <td>0</td>\n",
       "      <td>0</td>\n",
       "      <td>0</td>\n",
       "      <td>0</td>\n",
       "      <td>0</td>\n",
       "      <td>0</td>\n",
       "      <td>0</td>\n",
       "      <td>0</td>\n",
       "      <td>0</td>\n",
       "    </tr>\n",
       "  </tbody>\n",
       "</table>\n",
       "</div>"
      ],
      "text/plain": [
       "                                       CUISINES       CITY RATING       VOTES  \\\n",
       "0         North Indian, Chinese, Mughlai, Kebab      Noida    4.3   564 votes   \n",
       "1  South Indian, Fast Food, Pizza, North Indian     Mumbai    4.2    61 votes   \n",
       "2       North Indian, Seafood, Biryani, Chinese     Mumbai    3.8   350 votes   \n",
       "3                                       Biryani  Faridabad    3.8  1445 votes   \n",
       "4                          South Indian, Kerala      Kochi    3.6    23 votes   \n",
       "\n",
       "   QUICK BITES  CASUAL DINING  CAFÉ  BAR  DESSERT PARLOR  BAKERY  FINE DINING  \\\n",
       "0            0              1     0    0               0       0            0   \n",
       "1            1              0     0    0               0       0            0   \n",
       "2            0              1     0    0               0       0            0   \n",
       "3            0              0     0    0               0       0            0   \n",
       "4            1              0     0    0               0       0            0   \n",
       "\n",
       "   BEVERAGE SHOP  LOUNGE  SWEET SHOP  \n",
       "0              0       0           0  \n",
       "1              0       0           0  \n",
       "2              0       0           0  \n",
       "3              0       0           0  \n",
       "4              0       0           0  "
      ]
     },
     "execution_count": 131,
     "metadata": {},
     "output_type": "execute_result"
    }
   ],
   "source": [
    "#Rearranging columns as per train data\n",
    "new_col = Test_data['SWEET SHOP']\n",
    "Test_data.drop(['SWEET SHOP'],axis=1,inplace=True)\n",
    "idx=13\n",
    "Test_data.insert(loc=idx, column='SWEET SHOP', value=new_col)\n",
    "Test_data.head()"
   ]
  },
  {
   "cell_type": "raw",
   "metadata": {},
   "source": [
    "CUISINES"
   ]
  },
  {
   "cell_type": "code",
   "execution_count": 132,
   "metadata": {},
   "outputs": [],
   "source": [
    "#Checking the different types of CUISINES with there counts\n",
    "Test_data[\"CUISINES\"]=Test_data[\"CUISINES\"].str.split(\",\")\n",
    "CUISINES ={}\n",
    "for x in Test_data[\"CUISINES\"].values:\n",
    "    for each in x:\n",
    "        each = each.strip()\n",
    "        if each in CUISINES:\n",
    "            CUISINES[each]+=1\n",
    "        else:\n",
    "            CUISINES[each]=1"
   ]
  },
  {
   "cell_type": "code",
   "execution_count": 133,
   "metadata": {},
   "outputs": [
    {
     "name": "stdout",
     "output_type": "stream",
     "text": [
      "{'North Indian': 1838, 'Chinese': 1480, 'Mughlai': 268, 'Kebab': 76, 'South Indian': 759, 'Fast Food': 745, 'Pizza': 188, 'Seafood': 180, 'Biryani': 423, 'Kerala': 205, 'Ice Cream': 107, 'Desserts': 361, 'Street Food': 218, 'French': 14, 'Finger Food': 97, 'Continental': 532, 'BBQ': 40, 'Rolls': 98, 'Momos': 110, 'Beverages': 319, 'Italian': 391, 'Mexican': 91, 'American': 86, 'Andhra': 71, 'Asian': 159, 'European': 67, 'Cafe': 285, 'Bakery': 219, 'Mediterranean': 49, 'Chettinad': 28, 'Arabian': 137, 'Drinks Only': 3, 'Burger': 129, 'Mithai': 68, 'Bengali': 29, 'Japanese': 51, 'Sushi': 21, 'Modern Indian': 18, 'Bubble Tea': 5, 'Hyderabadi': 40, 'Burmese': 7, 'Sandwich': 76, 'Thai': 107, 'Indian': 18, 'Gujarati': 8, 'Salad': 88, 'Lucknowi': 7, '': 46, 'Healthy Food': 71, 'Juices': 90, 'Malwani': 21, 'North Eastern': 4, 'Iranian': 5, 'Parsi': 9, 'Maharashtrian': 15, 'Konkan': 7, 'Mangalorean': 13, 'Lebanese': 50, 'Afghan': 9, 'African': 2, 'Portuguese': 2, 'Middle Eastern': 9, 'Tea': 20, 'Rajasthani': 8, 'Pakistani': 2, 'Mongolian': 2, 'Tibetan': 14, 'Grill': 6, 'Coffee': 20, 'Turkish': 6, 'Egyptian': 1, 'Moroccan': 1, 'Spanish': 4, 'Korean': 10, 'Roast Chicken': 3, 'Wraps': 9, 'Malaysian': 9, 'Steak': 14, 'Cafe Food': 1, 'Fish and Chips': 1, 'Brazilian': 1, 'South American': 3, 'Greek': 6, 'Bar Food': 11, 'Goan': 9, 'Sri Lankan': 1, 'British': 4, 'Nepalese': 5, 'Vietnamese': 11, 'Oriya': 2, 'Awadhi': 4, 'Tamil': 1, 'Indonesian': 5, 'Bihari': 2, 'Tex-Mex': 2, 'German': 1, 'Raw Meats': 1, 'Mishti': 1, 'Assamese': 1, 'Charcoal Chicken': 1, 'Panini': 1, 'Falafel': 1, 'Singaporean': 3, 'Cantonese': 1, 'Hawaiian': 1, 'Paan': 1, 'Cuisine Varies': 1, 'Naga': 1, 'Kashmiri': 2, 'Vegan': 1, 'Oriental': 1, 'Sindhi': 1}\n"
     ]
    }
   ],
   "source": [
    "print(CUISINES)"
   ]
  },
  {
   "cell_type": "code",
   "execution_count": 134,
   "metadata": {},
   "outputs": [
    {
     "name": "stdout",
     "output_type": "stream",
     "text": [
      "['North Indian', 'Chinese', 'South Indian', 'Fast Food', 'Continental', 'Biryani', 'Italian', 'Desserts', 'Beverages', 'Cafe', 'Mughlai', 'Bakery', 'Street Food', 'Kerala', 'Pizza', 'Seafood']\n"
     ]
    }
   ],
   "source": [
    "#Extract top 16 CUISINES\n",
    "most_CUISINES = sorted(CUISINES.items(),key=lambda x:x[1],reverse=True)[:16]\n",
    "final_CUISINES = []\n",
    "for C in most_CUISINES:\n",
    "    final_CUISINES.append(C[0])\n",
    "    \n",
    "print(final_CUISINES)    "
   ]
  },
  {
   "cell_type": "code",
   "execution_count": 135,
   "metadata": {},
   "outputs": [],
   "source": [
    "#Encode extracted top CUISINES into new columns in dataset\n",
    "import numpy as np\n",
    "import warnings\n",
    "warnings.filterwarnings('ignore')\n",
    "for cuisine in final_CUISINES:\n",
    "    Test_data[cuisine] = 0\n",
    "\n",
    "for x,y in zip(Test_data['CUISINES'].values, np.array([i for i in range(len(Test_data))])):\n",
    "    for c in x:\n",
    "        c = c.strip()\n",
    "        if c in final_CUISINES:\n",
    "            Test_data[c][y] = 1"
   ]
  },
  {
   "cell_type": "code",
   "execution_count": 136,
   "metadata": {},
   "outputs": [
    {
     "data": {
      "text/html": [
       "<div>\n",
       "<style scoped>\n",
       "    .dataframe tbody tr th:only-of-type {\n",
       "        vertical-align: middle;\n",
       "    }\n",
       "\n",
       "    .dataframe tbody tr th {\n",
       "        vertical-align: top;\n",
       "    }\n",
       "\n",
       "    .dataframe thead th {\n",
       "        text-align: right;\n",
       "    }\n",
       "</style>\n",
       "<table border=\"1\" class=\"dataframe\">\n",
       "  <thead>\n",
       "    <tr style=\"text-align: right;\">\n",
       "      <th></th>\n",
       "      <th>CITY</th>\n",
       "      <th>RATING</th>\n",
       "      <th>VOTES</th>\n",
       "      <th>QUICK BITES</th>\n",
       "      <th>CASUAL DINING</th>\n",
       "      <th>CAFÉ</th>\n",
       "      <th>BAR</th>\n",
       "      <th>DESSERT PARLOR</th>\n",
       "      <th>BAKERY</th>\n",
       "      <th>FINE DINING</th>\n",
       "      <th>...</th>\n",
       "      <th>Biryani</th>\n",
       "      <th>Italian</th>\n",
       "      <th>Desserts</th>\n",
       "      <th>Beverages</th>\n",
       "      <th>Cafe</th>\n",
       "      <th>Mughlai</th>\n",
       "      <th>Bakery</th>\n",
       "      <th>Street Food</th>\n",
       "      <th>Kerala</th>\n",
       "      <th>Seafood</th>\n",
       "    </tr>\n",
       "  </thead>\n",
       "  <tbody>\n",
       "    <tr>\n",
       "      <th>2943</th>\n",
       "      <td>Chennai</td>\n",
       "      <td>4.5</td>\n",
       "      <td>598 votes</td>\n",
       "      <td>0</td>\n",
       "      <td>0</td>\n",
       "      <td>0</td>\n",
       "      <td>0</td>\n",
       "      <td>0</td>\n",
       "      <td>0</td>\n",
       "      <td>0</td>\n",
       "      <td>...</td>\n",
       "      <td>0</td>\n",
       "      <td>0</td>\n",
       "      <td>0</td>\n",
       "      <td>0</td>\n",
       "      <td>0</td>\n",
       "      <td>0</td>\n",
       "      <td>0</td>\n",
       "      <td>0</td>\n",
       "      <td>0</td>\n",
       "      <td>0</td>\n",
       "    </tr>\n",
       "  </tbody>\n",
       "</table>\n",
       "<p>1 rows × 28 columns</p>\n",
       "</div>"
      ],
      "text/plain": [
       "         CITY RATING      VOTES  QUICK BITES  CASUAL DINING  CAFÉ  BAR  \\\n",
       "2943  Chennai    4.5  598 votes            0              0     0    0   \n",
       "\n",
       "      DESSERT PARLOR  BAKERY  FINE DINING  ...  Biryani  Italian  Desserts  \\\n",
       "2943               0       0            0  ...        0        0         0   \n",
       "\n",
       "      Beverages  Cafe  Mughlai  Bakery  Street Food  Kerala  Seafood  \n",
       "2943          0     0        0       0            0       0        0  \n",
       "\n",
       "[1 rows x 28 columns]"
      ]
     },
     "execution_count": 136,
     "metadata": {},
     "output_type": "execute_result"
    }
   ],
   "source": [
    "Test_data.drop(['CUISINES'],axis=1,inplace=True)#Droping column CUISINES as i have extracted all info from this\n",
    "Test_data.drop(['Pizza'],axis=1,inplace=True)#Droping column CUISINES as i have extracted all info from this\n",
    "\n",
    "Test_data.sample()# Checking sample"
   ]
  },
  {
   "cell_type": "code",
   "execution_count": 139,
   "metadata": {},
   "outputs": [
    {
     "data": {
      "text/html": [
       "<div>\n",
       "<style scoped>\n",
       "    .dataframe tbody tr th:only-of-type {\n",
       "        vertical-align: middle;\n",
       "    }\n",
       "\n",
       "    .dataframe tbody tr th {\n",
       "        vertical-align: top;\n",
       "    }\n",
       "\n",
       "    .dataframe thead th {\n",
       "        text-align: right;\n",
       "    }\n",
       "</style>\n",
       "<table border=\"1\" class=\"dataframe\">\n",
       "  <thead>\n",
       "    <tr style=\"text-align: right;\">\n",
       "      <th></th>\n",
       "      <th>CITY</th>\n",
       "      <th>RATING</th>\n",
       "      <th>VOTES</th>\n",
       "      <th>QUICK BITES</th>\n",
       "      <th>CASUAL DINING</th>\n",
       "      <th>CAFÉ</th>\n",
       "      <th>BAR</th>\n",
       "      <th>DESSERT PARLOR</th>\n",
       "      <th>BAKERY</th>\n",
       "      <th>FINE DINING</th>\n",
       "      <th>...</th>\n",
       "      <th>Biryani</th>\n",
       "      <th>Desserts</th>\n",
       "      <th>Italian</th>\n",
       "      <th>Beverages</th>\n",
       "      <th>Cafe</th>\n",
       "      <th>Mughlai</th>\n",
       "      <th>Bakery</th>\n",
       "      <th>Street Food</th>\n",
       "      <th>Kerala</th>\n",
       "      <th>Seafood</th>\n",
       "    </tr>\n",
       "  </thead>\n",
       "  <tbody>\n",
       "    <tr>\n",
       "      <th>2408</th>\n",
       "      <td>Greater Noida</td>\n",
       "      <td>4.1</td>\n",
       "      <td>354 votes</td>\n",
       "      <td>0</td>\n",
       "      <td>0</td>\n",
       "      <td>0</td>\n",
       "      <td>0</td>\n",
       "      <td>0</td>\n",
       "      <td>0</td>\n",
       "      <td>1</td>\n",
       "      <td>...</td>\n",
       "      <td>0</td>\n",
       "      <td>0</td>\n",
       "      <td>0</td>\n",
       "      <td>0</td>\n",
       "      <td>0</td>\n",
       "      <td>0</td>\n",
       "      <td>0</td>\n",
       "      <td>0</td>\n",
       "      <td>0</td>\n",
       "      <td>0</td>\n",
       "    </tr>\n",
       "  </tbody>\n",
       "</table>\n",
       "<p>1 rows × 28 columns</p>\n",
       "</div>"
      ],
      "text/plain": [
       "               CITY RATING      VOTES  QUICK BITES  CASUAL DINING  CAFÉ  BAR  \\\n",
       "2408  Greater Noida    4.1  354 votes            0              0     0    0   \n",
       "\n",
       "      DESSERT PARLOR  BAKERY  FINE DINING  ...  Biryani  Desserts  Italian  \\\n",
       "2408               0       0            1  ...        0         0        0   \n",
       "\n",
       "      Beverages  Cafe  Mughlai  Bakery  Street Food  Kerala  Seafood  \n",
       "2408          0     0        0       0            0       0        0  \n",
       "\n",
       "[1 rows x 28 columns]"
      ]
     },
     "execution_count": 139,
     "metadata": {},
     "output_type": "execute_result"
    }
   ],
   "source": [
    "#Rearranging columns as per train data\n",
    "new_col = Test_data['Italian']\n",
    "Test_data.drop(['Italian'],axis=1,inplace=True)\n",
    "idx=20\n",
    "Test_data.insert(loc=idx, column='Italian', value=new_col)\n",
    "Test_data.sample()"
   ]
  },
  {
   "cell_type": "code",
   "execution_count": 144,
   "metadata": {},
   "outputs": [
    {
     "data": {
      "text/html": [
       "<div>\n",
       "<style scoped>\n",
       "    .dataframe tbody tr th:only-of-type {\n",
       "        vertical-align: middle;\n",
       "    }\n",
       "\n",
       "    .dataframe tbody tr th {\n",
       "        vertical-align: top;\n",
       "    }\n",
       "\n",
       "    .dataframe thead th {\n",
       "        text-align: right;\n",
       "    }\n",
       "</style>\n",
       "<table border=\"1\" class=\"dataframe\">\n",
       "  <thead>\n",
       "    <tr style=\"text-align: right;\">\n",
       "      <th></th>\n",
       "      <th>CITY</th>\n",
       "      <th>RATING</th>\n",
       "      <th>VOTES</th>\n",
       "      <th>QUICK BITES</th>\n",
       "      <th>CASUAL DINING</th>\n",
       "      <th>CAFÉ</th>\n",
       "      <th>BAR</th>\n",
       "      <th>DESSERT PARLOR</th>\n",
       "      <th>BAKERY</th>\n",
       "      <th>FINE DINING</th>\n",
       "      <th>...</th>\n",
       "      <th>Biryani</th>\n",
       "      <th>Desserts</th>\n",
       "      <th>Italian</th>\n",
       "      <th>Beverages</th>\n",
       "      <th>Cafe</th>\n",
       "      <th>Mughlai</th>\n",
       "      <th>Street Food</th>\n",
       "      <th>Bakery</th>\n",
       "      <th>Kerala</th>\n",
       "      <th>Seafood</th>\n",
       "    </tr>\n",
       "  </thead>\n",
       "  <tbody>\n",
       "    <tr>\n",
       "      <th>2068</th>\n",
       "      <td>Dombivli</td>\n",
       "      <td>3.6</td>\n",
       "      <td>127 votes</td>\n",
       "      <td>0</td>\n",
       "      <td>1</td>\n",
       "      <td>0</td>\n",
       "      <td>0</td>\n",
       "      <td>0</td>\n",
       "      <td>0</td>\n",
       "      <td>0</td>\n",
       "      <td>...</td>\n",
       "      <td>0</td>\n",
       "      <td>0</td>\n",
       "      <td>0</td>\n",
       "      <td>0</td>\n",
       "      <td>0</td>\n",
       "      <td>0</td>\n",
       "      <td>0</td>\n",
       "      <td>0</td>\n",
       "      <td>0</td>\n",
       "      <td>0</td>\n",
       "    </tr>\n",
       "  </tbody>\n",
       "</table>\n",
       "<p>1 rows × 28 columns</p>\n",
       "</div>"
      ],
      "text/plain": [
       "          CITY RATING      VOTES  QUICK BITES  CASUAL DINING  CAFÉ  BAR  \\\n",
       "2068  Dombivli    3.6  127 votes            0              1     0    0   \n",
       "\n",
       "      DESSERT PARLOR  BAKERY  FINE DINING  ...  Biryani  Desserts  Italian  \\\n",
       "2068               0       0            0  ...        0         0        0   \n",
       "\n",
       "      Beverages  Cafe  Mughlai  Street Food  Bakery  Kerala  Seafood  \n",
       "2068          0     0        0            0       0       0        0  \n",
       "\n",
       "[1 rows x 28 columns]"
      ]
     },
     "execution_count": 144,
     "metadata": {},
     "output_type": "execute_result"
    }
   ],
   "source": [
    "#Rearranging columns as per train data\n",
    "new_col = Test_data['Bakery']\n",
    "Test_data.drop(['Bakery'],axis=1,inplace=True)\n",
    "idx=25\n",
    "Test_data.insert(loc=idx, column='Bakery', value=new_col)\n",
    "Test_data.sample()"
   ]
  },
  {
   "cell_type": "code",
   "execution_count": 146,
   "metadata": {},
   "outputs": [
    {
     "data": {
      "text/html": [
       "<div>\n",
       "<style scoped>\n",
       "    .dataframe tbody tr th:only-of-type {\n",
       "        vertical-align: middle;\n",
       "    }\n",
       "\n",
       "    .dataframe tbody tr th {\n",
       "        vertical-align: top;\n",
       "    }\n",
       "\n",
       "    .dataframe thead th {\n",
       "        text-align: right;\n",
       "    }\n",
       "</style>\n",
       "<table border=\"1\" class=\"dataframe\">\n",
       "  <thead>\n",
       "    <tr style=\"text-align: right;\">\n",
       "      <th></th>\n",
       "      <th>CITY</th>\n",
       "      <th>RATING</th>\n",
       "      <th>VOTES</th>\n",
       "      <th>QUICK BITES</th>\n",
       "      <th>CASUAL DINING</th>\n",
       "      <th>CAFÉ</th>\n",
       "      <th>BAR</th>\n",
       "      <th>DESSERT PARLOR</th>\n",
       "      <th>BAKERY</th>\n",
       "      <th>FINE DINING</th>\n",
       "      <th>...</th>\n",
       "      <th>Biryani</th>\n",
       "      <th>Desserts</th>\n",
       "      <th>Italian</th>\n",
       "      <th>Beverages</th>\n",
       "      <th>Cafe</th>\n",
       "      <th>Mughlai</th>\n",
       "      <th>Street Food</th>\n",
       "      <th>Bakery</th>\n",
       "      <th>Seafood</th>\n",
       "      <th>Kerala</th>\n",
       "    </tr>\n",
       "  </thead>\n",
       "  <tbody>\n",
       "    <tr>\n",
       "      <th>1011</th>\n",
       "      <td>Kochi</td>\n",
       "      <td>3.9</td>\n",
       "      <td>93 votes</td>\n",
       "      <td>1</td>\n",
       "      <td>0</td>\n",
       "      <td>0</td>\n",
       "      <td>0</td>\n",
       "      <td>0</td>\n",
       "      <td>0</td>\n",
       "      <td>0</td>\n",
       "      <td>...</td>\n",
       "      <td>0</td>\n",
       "      <td>0</td>\n",
       "      <td>0</td>\n",
       "      <td>0</td>\n",
       "      <td>0</td>\n",
       "      <td>0</td>\n",
       "      <td>0</td>\n",
       "      <td>0</td>\n",
       "      <td>0</td>\n",
       "      <td>1</td>\n",
       "    </tr>\n",
       "  </tbody>\n",
       "</table>\n",
       "<p>1 rows × 28 columns</p>\n",
       "</div>"
      ],
      "text/plain": [
       "       CITY RATING     VOTES  QUICK BITES  CASUAL DINING  CAFÉ  BAR  \\\n",
       "1011  Kochi    3.9  93 votes            1              0     0    0   \n",
       "\n",
       "      DESSERT PARLOR  BAKERY  FINE DINING  ...  Biryani  Desserts  Italian  \\\n",
       "1011               0       0            0  ...        0         0        0   \n",
       "\n",
       "      Beverages  Cafe  Mughlai  Street Food  Bakery  Seafood  Kerala  \n",
       "1011          0     0        0            0       0        0       1  \n",
       "\n",
       "[1 rows x 28 columns]"
      ]
     },
     "execution_count": 146,
     "metadata": {},
     "output_type": "execute_result"
    }
   ],
   "source": [
    "#Rearranging columns as per train data\n",
    "new_col = Test_data['Kerala']\n",
    "Test_data.drop(['Kerala'],axis=1,inplace=True)\n",
    "idx=27\n",
    "Test_data.insert(loc=idx, column='Kerala', value=new_col)\n",
    "Test_data.sample()"
   ]
  },
  {
   "cell_type": "raw",
   "metadata": {},
   "source": [
    "CITY"
   ]
  },
  {
   "cell_type": "code",
   "execution_count": 148,
   "metadata": {},
   "outputs": [],
   "source": [
    "#Checking the different types of Cities with there counts\n",
    "Test_data[\"CITY\"]=Test_data[\"CITY\"].str.split(\",\")\n",
    "CITY ={}\n",
    "for x in Test_data[\"CITY\"].values:\n",
    "    for each in x:\n",
    "        each = each.strip()\n",
    "        if each in CITY:\n",
    "            CITY[each]+=1\n",
    "        else:\n",
    "            CITY[each]=1"
   ]
  },
  {
   "cell_type": "code",
   "execution_count": 149,
   "metadata": {},
   "outputs": [
    {
     "name": "stdout",
     "output_type": "stream",
     "text": [
      "{'Noida': 63, 'Mumbai': 589, 'Faridabad': 30, 'Kochi': 470, 'Hyderabad': 639, 'Navi Mumbai': 57, 'Chennai': 681, 'New Delhi': 433, 'Bangalore': 686, 'Vasai Mumbai': 1, 'Gurgaon': 145, 'Palarivattom': 2, 'Delhi': 3, 'Ernakulam': 4, 'Thane West': 21, 'Ghaziabad': 30, 'Chennai.': 2, 'Thane': 21, 'Telangana': 3, 'Bandra West': 16, 'Potheri': 2, 'Panathur Main Road': 1, 'Secunderabad': 86, 'missing': 35, 'JP Nagar': 2, 'Near Andheri West Station': 1, 'opposite to western side of ITPL Service gate': 1, 'Kalkaji': 1, 'Bengaluru': 19, 'APR Chambers': 1, 'Tamil Nadu 600102': 1, 'Andheri West': 21, 'India': 8, 'Serilingampally': 1, 'Maharashtra.': 1, 'Gandhinagar Rd': 1, 'Near Andheri East Station': 1, 'HSR Layout': 3, 'Greater Noida': 7, 'Uttar Pradesh': 1, 'Dwarka': 5, 'Velachery': 1, 'Anna Nagar West': 1, 'Indiranagar': 1, 'Whitefield': 1, 'Kochi Ravipuram': 2, 'Kerala 682036': 1, 'Madhapur': 2, 'Hyderabad.': 3, 'Mira Road Thane Mumbai': 1, 'India Gate New Delhi': 1, 'Bangalore - 560095': 1, '1st Stage': 2, 'Sholinganallur. Chennai': 1, 'Chennai (Above Bombay Brasserie)': 1, 'Powai': 1, 'Marathahalli': 2, 'Kaloor': 3, 'Chennai 37': 1, 'kochi': 2, 'Gurugram': 2, '682024': 1, 'Tripunithura': 1, 'Kakkanad': 5, 'Girgaum': 1, 'Greater Kailash 1 (GK 1) New Delhi': 1, 'Delhi NCR': 4, 'Kurla (W)': 1, 'Secunderabad.': 1, 'Mumbai 400015': 1, 'Thane West Thane West': 1, 'Banjara Hills': 1, 'Kochi Panampilly Nagar': 1, 'Marad': 1, 'Maharashtra 400092': 1, 'Near Sector 34': 1, 'Bengalore': 1, 'Mehdipatnam Hyderabad': 1, 'Nallagandla': 1, 'Vandalur': 1, 'Mulund West': 1, 'Chennai 40': 1, 'Maharashtra': 1, 'Banglore': 4, 'Secunderbad': 1, 'MM Nagar': 1, 'Mumbai 400070': 1, 'Dilsukhnagar': 2, 'Chittethukkara': 1, 'BTM': 1, 'Dombivli': 1, 'Sahakara Nagar': 1, 'Mohammad Ali Road Mumbai': 1, 'Chennai 600040': 1, 'Tavarekere Main Road': 1, 'Community Centre': 1, 'Kerala 682022': 1, 'Delh.': 1, 'Sector-6 Noida 201301': 1, 'Kaaraikudi Complex': 1, 'Thiruvanmiyur (Opp Eurokids LB Road)': 1, 'Virar Mumbai': 1, 'Bangalore.': 1, 'Tolichowki': 1, 'Kochi International Airport VIP Road': 1, 'Hyderaba': 1, 'Kerala 682305': 1, 'Navi Mumbai.': 1, 'Alwarpet': 1, 'Kerala 682015': 1, 'Nungambakkam': 1, 'Gachibowli': 2, 'Mumbai Veera Desai Area': 1, 'Kerala 682018': 1, 'Kerala 682028': 1, 'Suraram': 1, 'Chennai Velachery': 1, 'Forum Sujana Mall Opposite to Malaysian township': 1, 'Old Hafeezpet': 1, 'Yousufguda': 2, 'Chennai-600008': 1, 'Mumbai Ulhasnagar': 1, 'Jogeshwari West Mumbai': 1, 'Chepauk': 1, 'Chowpatty': 1, 'Church Street': 1, 'Balavinayagar Nagar Chennai': 1, 'T-Nagar Chennai': 1, 'RA Puram': 1, 'Hyderabad.Star hypermarket opposite side Service road': 1, 'Chennai Injambakkam': 1, 'Mumbai Mumbra': 1, 'Chennai Teynampet': 1, 'Habsiguda': 1, 'Kurla Mumbai': 1, 'Telangana 500027': 1, 'Chenna': 1, 'Kerala 682021': 1, 'Kandivali West': 1, 'chennai-119': 1, 'Kerala': 1, 'Noida Extention': 1, 'Shihab Thangal Road': 1, 'GST Road': 1, 'New Delhi 110011': 1, 'Miumbai': 1, 'Borivali (W) Mumbai: 400 092.': 1, 'Vanasthalipuram': 1, 'KK Road': 1, 'Chennai - 600018': 1, 'Karnataka': 1, 'Opposite Ellora Building': 1}\n"
     ]
    }
   ],
   "source": [
    "print(CITY)"
   ]
  },
  {
   "cell_type": "code",
   "execution_count": 150,
   "metadata": {},
   "outputs": [
    {
     "name": "stdout",
     "output_type": "stream",
     "text": [
      "['Bangalore', 'Chennai', 'Hyderabad', 'Mumbai', 'Kochi', 'New Delhi', 'Gurgaon', 'Secunderabad', 'Noida', 'Navi Mumbai']\n"
     ]
    }
   ],
   "source": [
    "#Extract top Cities then i will choose best 15 cities\n",
    "most_CITY = sorted(CITY.items(),key=lambda x:x[1],reverse=True)[:10]\n",
    "final_CITY = []\n",
    "for city in most_CITY:\n",
    "    final_CITY.append(city[0])\n",
    "    \n",
    "print(final_CITY)    "
   ]
  },
  {
   "cell_type": "code",
   "execution_count": 151,
   "metadata": {},
   "outputs": [],
   "source": [
    "#Encode extracted top 15 CUISINES into new columns in dataset\n",
    "for city in final_CITY:\n",
    "    Test_data[city] = 0\n",
    "\n",
    "for x,y in zip(Test_data['CITY'].values, np.array([i for i in range(len(Test_data))])):\n",
    "    for c in x:\n",
    "        c = c.strip()\n",
    "        if c in final_CITY:\n",
    "            Test_data[c][y] = 1"
   ]
  },
  {
   "cell_type": "code",
   "execution_count": 162,
   "metadata": {},
   "outputs": [],
   "source": [
    "Test_data.drop(['CITY'],axis=1,inplace=True)#Droping column CUISINES as i have extracted all info from this\n",
    "Test_data.sample()# Checking sample"
   ]
  },
  {
   "cell_type": "code",
   "execution_count": 156,
   "metadata": {},
   "outputs": [
    {
     "data": {
      "text/html": [
       "<div>\n",
       "<style scoped>\n",
       "    .dataframe tbody tr th:only-of-type {\n",
       "        vertical-align: middle;\n",
       "    }\n",
       "\n",
       "    .dataframe tbody tr th {\n",
       "        vertical-align: top;\n",
       "    }\n",
       "\n",
       "    .dataframe thead th {\n",
       "        text-align: right;\n",
       "    }\n",
       "</style>\n",
       "<table border=\"1\" class=\"dataframe\">\n",
       "  <thead>\n",
       "    <tr style=\"text-align: right;\">\n",
       "      <th></th>\n",
       "      <th>CITY</th>\n",
       "      <th>RATING</th>\n",
       "      <th>VOTES</th>\n",
       "      <th>QUICK BITES</th>\n",
       "      <th>CASUAL DINING</th>\n",
       "      <th>CAFÉ</th>\n",
       "      <th>BAR</th>\n",
       "      <th>DESSERT PARLOR</th>\n",
       "      <th>BAKERY</th>\n",
       "      <th>FINE DINING</th>\n",
       "      <th>...</th>\n",
       "      <th>Chennai</th>\n",
       "      <th>Bangalore</th>\n",
       "      <th>Hyderabad</th>\n",
       "      <th>Mumbai</th>\n",
       "      <th>Kochi</th>\n",
       "      <th>New Delhi</th>\n",
       "      <th>Gurgaon</th>\n",
       "      <th>Secunderabad</th>\n",
       "      <th>Noida</th>\n",
       "      <th>Navi Mumbai</th>\n",
       "    </tr>\n",
       "  </thead>\n",
       "  <tbody>\n",
       "    <tr>\n",
       "      <th>249</th>\n",
       "      <td>[New Delhi]</td>\n",
       "      <td>3.9</td>\n",
       "      <td>367 votes</td>\n",
       "      <td>0</td>\n",
       "      <td>1</td>\n",
       "      <td>0</td>\n",
       "      <td>1</td>\n",
       "      <td>0</td>\n",
       "      <td>0</td>\n",
       "      <td>0</td>\n",
       "      <td>...</td>\n",
       "      <td>0</td>\n",
       "      <td>0</td>\n",
       "      <td>0</td>\n",
       "      <td>0</td>\n",
       "      <td>0</td>\n",
       "      <td>1</td>\n",
       "      <td>0</td>\n",
       "      <td>0</td>\n",
       "      <td>0</td>\n",
       "      <td>0</td>\n",
       "    </tr>\n",
       "  </tbody>\n",
       "</table>\n",
       "<p>1 rows × 38 columns</p>\n",
       "</div>"
      ],
      "text/plain": [
       "            CITY RATING      VOTES  QUICK BITES  CASUAL DINING  CAFÉ  BAR  \\\n",
       "249  [New Delhi]    3.9  367 votes            0              1     0    1   \n",
       "\n",
       "     DESSERT PARLOR  BAKERY  FINE DINING  ...  Chennai  Bangalore  Hyderabad  \\\n",
       "249               0       0            0  ...        0          0          0   \n",
       "\n",
       "     Mumbai  Kochi  New Delhi  Gurgaon  Secunderabad  Noida  Navi Mumbai  \n",
       "249       0      0          1        0             0      0            0  \n",
       "\n",
       "[1 rows x 38 columns]"
      ]
     },
     "execution_count": 156,
     "metadata": {},
     "output_type": "execute_result"
    }
   ],
   "source": [
    "#Rearranging columns as per train data\n",
    "new_col = Test_data['Bangalore']\n",
    "Test_data.drop(['Bangalore'],axis=1,inplace=True)\n",
    "idx=29\n",
    "Test_data.insert(loc=idx, column='Bangalore', value=new_col)\n",
    "Test_data.sample()"
   ]
  },
  {
   "cell_type": "code",
   "execution_count": 160,
   "metadata": {},
   "outputs": [
    {
     "data": {
      "text/html": [
       "<div>\n",
       "<style scoped>\n",
       "    .dataframe tbody tr th:only-of-type {\n",
       "        vertical-align: middle;\n",
       "    }\n",
       "\n",
       "    .dataframe tbody tr th {\n",
       "        vertical-align: top;\n",
       "    }\n",
       "\n",
       "    .dataframe thead th {\n",
       "        text-align: right;\n",
       "    }\n",
       "</style>\n",
       "<table border=\"1\" class=\"dataframe\">\n",
       "  <thead>\n",
       "    <tr style=\"text-align: right;\">\n",
       "      <th></th>\n",
       "      <th>CITY</th>\n",
       "      <th>RATING</th>\n",
       "      <th>VOTES</th>\n",
       "      <th>QUICK BITES</th>\n",
       "      <th>CASUAL DINING</th>\n",
       "      <th>CAFÉ</th>\n",
       "      <th>BAR</th>\n",
       "      <th>DESSERT PARLOR</th>\n",
       "      <th>BAKERY</th>\n",
       "      <th>FINE DINING</th>\n",
       "      <th>...</th>\n",
       "      <th>Chennai</th>\n",
       "      <th>Bangalore</th>\n",
       "      <th>Hyderabad</th>\n",
       "      <th>Mumbai</th>\n",
       "      <th>New Delhi</th>\n",
       "      <th>Kochi</th>\n",
       "      <th>Gurgaon</th>\n",
       "      <th>Secunderabad</th>\n",
       "      <th>Noida</th>\n",
       "      <th>Navi Mumbai</th>\n",
       "    </tr>\n",
       "  </thead>\n",
       "  <tbody>\n",
       "    <tr>\n",
       "      <th>2489</th>\n",
       "      <td>[Virar Mumbai]</td>\n",
       "      <td>3.6</td>\n",
       "      <td>15 votes</td>\n",
       "      <td>0</td>\n",
       "      <td>0</td>\n",
       "      <td>0</td>\n",
       "      <td>0</td>\n",
       "      <td>0</td>\n",
       "      <td>0</td>\n",
       "      <td>0</td>\n",
       "      <td>...</td>\n",
       "      <td>0</td>\n",
       "      <td>0</td>\n",
       "      <td>0</td>\n",
       "      <td>0</td>\n",
       "      <td>0</td>\n",
       "      <td>0</td>\n",
       "      <td>0</td>\n",
       "      <td>0</td>\n",
       "      <td>0</td>\n",
       "      <td>0</td>\n",
       "    </tr>\n",
       "  </tbody>\n",
       "</table>\n",
       "<p>1 rows × 38 columns</p>\n",
       "</div>"
      ],
      "text/plain": [
       "                CITY RATING     VOTES  QUICK BITES  CASUAL DINING  CAFÉ  BAR  \\\n",
       "2489  [Virar Mumbai]    3.6  15 votes            0              0     0    0   \n",
       "\n",
       "      DESSERT PARLOR  BAKERY  FINE DINING  ...  Chennai  Bangalore  Hyderabad  \\\n",
       "2489               0       0            0  ...        0          0          0   \n",
       "\n",
       "      Mumbai  New Delhi  Kochi  Gurgaon  Secunderabad  Noida  Navi Mumbai  \n",
       "2489       0          0      0        0             0      0            0  \n",
       "\n",
       "[1 rows x 38 columns]"
      ]
     },
     "execution_count": 160,
     "metadata": {},
     "output_type": "execute_result"
    }
   ],
   "source": [
    "#Rearranging columns as per train data\n",
    "new_col = Test_data['Kochi']\n",
    "Test_data.drop(['Kochi'],axis=1,inplace=True)\n",
    "idx=33\n",
    "Test_data.insert(loc=idx, column='Kochi', value=new_col)\n",
    "Test_data.sample()"
   ]
  },
  {
   "cell_type": "code",
   "execution_count": 165,
   "metadata": {},
   "outputs": [
    {
     "name": "stdout",
     "output_type": "stream",
     "text": [
      "Shape Of Train Data:-  (12690, 38)   Shape Of Test data :-  (4229, 37)\n"
     ]
    }
   ],
   "source": [
    "#Checking shape of Training and Test data\n",
    "print(\"Shape Of Train Data:- \",Train_data.shape,\" \",\"Shape Of Test data :- \",Test_data.shape)"
   ]
  },
  {
   "cell_type": "code",
   "execution_count": 166,
   "metadata": {},
   "outputs": [
    {
     "data": {
      "text/plain": [
       "Index(['RATING', 'VOTES', 'COST', 'QUICK BITES', 'CASUAL DINING', 'CAFÉ',\n",
       "       'BAR', 'DESSERT PARLOR', 'BAKERY', 'FINE DINING', 'BEVERAGE SHOP',\n",
       "       'LOUNGE', 'SWEET SHOP', 'North Indian', 'Chinese', 'South Indian',\n",
       "       'Fast Food', 'Continental', 'Biryani', 'Desserts', 'Italian',\n",
       "       'Beverages', 'Cafe', 'Mughlai', 'Street Food', 'Bakery', 'Seafood',\n",
       "       'Kerala', 'Chennai', 'Bangalore', 'Hyderabad', 'Mumbai', 'New Delhi',\n",
       "       'Kochi', 'Gurgaon', 'Secunderabad', 'Noida', 'Navi Mumbai'],\n",
       "      dtype='object')"
      ]
     },
     "execution_count": 166,
     "metadata": {},
     "output_type": "execute_result"
    }
   ],
   "source": [
    "#Checking columns in Train data\n",
    "Train_data.columns"
   ]
  },
  {
   "cell_type": "code",
   "execution_count": 167,
   "metadata": {},
   "outputs": [
    {
     "data": {
      "text/plain": [
       "Index(['RATING', 'VOTES', 'QUICK BITES', 'CASUAL DINING', 'CAFÉ', 'BAR',\n",
       "       'DESSERT PARLOR', 'BAKERY', 'FINE DINING', 'BEVERAGE SHOP', 'LOUNGE',\n",
       "       'SWEET SHOP', 'North Indian', 'Chinese', 'South Indian', 'Fast Food',\n",
       "       'Continental', 'Biryani', 'Desserts', 'Italian', 'Beverages', 'Cafe',\n",
       "       'Mughlai', 'Street Food', 'Bakery', 'Seafood', 'Kerala', 'Chennai',\n",
       "       'Bangalore', 'Hyderabad', 'Mumbai', 'New Delhi', 'Kochi', 'Gurgaon',\n",
       "       'Secunderabad', 'Noida', 'Navi Mumbai'],\n",
       "      dtype='object')"
      ]
     },
     "execution_count": 167,
     "metadata": {},
     "output_type": "execute_result"
    }
   ],
   "source": [
    "#Checking columns in test data\n",
    "Test_data.columns"
   ]
  },
  {
   "cell_type": "markdown",
   "metadata": {},
   "source": [
    "# Data Pre Processing in Train_Data"
   ]
  },
  {
   "cell_type": "raw",
   "metadata": {},
   "source": [
    "Outliers Detection"
   ]
  },
  {
   "cell_type": "code",
   "execution_count": 131,
   "metadata": {},
   "outputs": [
    {
     "data": {
      "text/plain": [
       "<matplotlib.axes._subplots.AxesSubplot at 0x2a55e179070>"
      ]
     },
     "execution_count": 131,
     "metadata": {},
     "output_type": "execute_result"
    },
    {
     "data": {
      "image/png": "[encoded data removed]",
      "text/plain": [
       "<Figure size 432x288 with 1 Axes>"
      ]
     },
     "metadata": {
      "needs_background": "light"
     },
     "output_type": "display_data"
    }
   ],
   "source": [
    "#Checking Outliers In Cost\n",
    "Train_data['COST'].plot.box()"
   ]
  },
  {
   "cell_type": "markdown",
   "metadata": {},
   "source": [
    "Here we can see that there is heavy outliers present in the cost column"
   ]
  },
  {
   "cell_type": "code",
   "execution_count": 132,
   "metadata": {},
   "outputs": [
    {
     "data": {
      "text/plain": [
       "<matplotlib.axes._subplots.AxesSubplot at 0x2a55e2350a0>"
      ]
     },
     "execution_count": 132,
     "metadata": {},
     "output_type": "execute_result"
    },
    {
     "data": {
      "image/png": "[encoded data removed]",
      "text/plain": [
       "<Figure size 432x288 with 1 Axes>"
      ]
     },
     "metadata": {
      "needs_background": "light"
     },
     "output_type": "display_data"
    }
   ],
   "source": [
    "Train_data['RATING'].plot.box()"
   ]
  },
  {
   "cell_type": "code",
   "execution_count": 133,
   "metadata": {},
   "outputs": [
    {
     "data": {
      "text/plain": [
       "<matplotlib.axes._subplots.AxesSubplot at 0x2a55e1c37f0>"
      ]
     },
     "execution_count": 133,
     "metadata": {},
     "output_type": "execute_result"
    },
    {
     "data": {
      "image/png": "[encoded data removed]",
      "text/plain": [
       "<Figure size 432x288 with 1 Axes>"
      ]
     },
     "metadata": {
      "needs_background": "light"
     },
     "output_type": "display_data"
    }
   ],
   "source": [
    "Train_data['VOTES'].plot.box()"
   ]
  },
  {
   "cell_type": "markdown",
   "metadata": {},
   "source": [
    "So we can see that in Rating and Votes column there is also outliers present."
   ]
  },
  {
   "cell_type": "code",
   "execution_count": 134,
   "metadata": {},
   "outputs": [
    {
     "data": {
      "text/html": [
       "<div>\n",
       "<style scoped>\n",
       "    .dataframe tbody tr th:only-of-type {\n",
       "        vertical-align: middle;\n",
       "    }\n",
       "\n",
       "    .dataframe tbody tr th {\n",
       "        vertical-align: top;\n",
       "    }\n",
       "\n",
       "    .dataframe thead th {\n",
       "        text-align: right;\n",
       "    }\n",
       "</style>\n",
       "<table border=\"1\" class=\"dataframe\">\n",
       "  <thead>\n",
       "    <tr style=\"text-align: right;\">\n",
       "      <th></th>\n",
       "      <th>RATING</th>\n",
       "      <th>VOTES</th>\n",
       "      <th>COST</th>\n",
       "      <th>QUICK BITES</th>\n",
       "      <th>CASUAL DINING</th>\n",
       "      <th>CAFÉ</th>\n",
       "      <th>BAR</th>\n",
       "      <th>DESSERT PARLOR</th>\n",
       "      <th>BAKERY</th>\n",
       "      <th>FINE DINING</th>\n",
       "      <th>...</th>\n",
       "      <th>Chennai</th>\n",
       "      <th>Bangalore</th>\n",
       "      <th>Hyderabad</th>\n",
       "      <th>Mumbai</th>\n",
       "      <th>New Delhi</th>\n",
       "      <th>Kochi</th>\n",
       "      <th>Gurgaon</th>\n",
       "      <th>Secunderabad</th>\n",
       "      <th>Noida</th>\n",
       "      <th>Navi Mumbai</th>\n",
       "    </tr>\n",
       "  </thead>\n",
       "  <tbody>\n",
       "    <tr>\n",
       "      <th>0</th>\n",
       "      <td>3.6</td>\n",
       "      <td>49</td>\n",
       "      <td>1200.0</td>\n",
       "      <td>0</td>\n",
       "      <td>1</td>\n",
       "      <td>0</td>\n",
       "      <td>0</td>\n",
       "      <td>0</td>\n",
       "      <td>0</td>\n",
       "      <td>0</td>\n",
       "      <td>...</td>\n",
       "      <td>0</td>\n",
       "      <td>0</td>\n",
       "      <td>0</td>\n",
       "      <td>0</td>\n",
       "      <td>0</td>\n",
       "      <td>0</td>\n",
       "      <td>0</td>\n",
       "      <td>0</td>\n",
       "      <td>0</td>\n",
       "      <td>0</td>\n",
       "    </tr>\n",
       "    <tr>\n",
       "      <th>3</th>\n",
       "      <td>4.1</td>\n",
       "      <td>24</td>\n",
       "      <td>800.0</td>\n",
       "      <td>1</td>\n",
       "      <td>0</td>\n",
       "      <td>0</td>\n",
       "      <td>0</td>\n",
       "      <td>0</td>\n",
       "      <td>0</td>\n",
       "      <td>0</td>\n",
       "      <td>...</td>\n",
       "      <td>0</td>\n",
       "      <td>0</td>\n",
       "      <td>0</td>\n",
       "      <td>1</td>\n",
       "      <td>0</td>\n",
       "      <td>0</td>\n",
       "      <td>0</td>\n",
       "      <td>0</td>\n",
       "      <td>0</td>\n",
       "      <td>0</td>\n",
       "    </tr>\n",
       "    <tr>\n",
       "      <th>8</th>\n",
       "      <td>3.9</td>\n",
       "      <td>101</td>\n",
       "      <td>300.0</td>\n",
       "      <td>1</td>\n",
       "      <td>0</td>\n",
       "      <td>0</td>\n",
       "      <td>0</td>\n",
       "      <td>0</td>\n",
       "      <td>0</td>\n",
       "      <td>0</td>\n",
       "      <td>...</td>\n",
       "      <td>0</td>\n",
       "      <td>1</td>\n",
       "      <td>0</td>\n",
       "      <td>0</td>\n",
       "      <td>0</td>\n",
       "      <td>0</td>\n",
       "      <td>0</td>\n",
       "      <td>0</td>\n",
       "      <td>0</td>\n",
       "      <td>0</td>\n",
       "    </tr>\n",
       "    <tr>\n",
       "      <th>9</th>\n",
       "      <td>3.3</td>\n",
       "      <td>219</td>\n",
       "      <td>200.0</td>\n",
       "      <td>1</td>\n",
       "      <td>0</td>\n",
       "      <td>0</td>\n",
       "      <td>0</td>\n",
       "      <td>0</td>\n",
       "      <td>0</td>\n",
       "      <td>0</td>\n",
       "      <td>...</td>\n",
       "      <td>0</td>\n",
       "      <td>0</td>\n",
       "      <td>1</td>\n",
       "      <td>0</td>\n",
       "      <td>0</td>\n",
       "      <td>0</td>\n",
       "      <td>0</td>\n",
       "      <td>0</td>\n",
       "      <td>0</td>\n",
       "      <td>0</td>\n",
       "    </tr>\n",
       "    <tr>\n",
       "      <th>13</th>\n",
       "      <td>0.0</td>\n",
       "      <td>0</td>\n",
       "      <td>400.0</td>\n",
       "      <td>0</td>\n",
       "      <td>1</td>\n",
       "      <td>0</td>\n",
       "      <td>0</td>\n",
       "      <td>0</td>\n",
       "      <td>0</td>\n",
       "      <td>0</td>\n",
       "      <td>...</td>\n",
       "      <td>0</td>\n",
       "      <td>0</td>\n",
       "      <td>0</td>\n",
       "      <td>0</td>\n",
       "      <td>0</td>\n",
       "      <td>1</td>\n",
       "      <td>0</td>\n",
       "      <td>0</td>\n",
       "      <td>0</td>\n",
       "      <td>0</td>\n",
       "    </tr>\n",
       "    <tr>\n",
       "      <th>...</th>\n",
       "      <td>...</td>\n",
       "      <td>...</td>\n",
       "      <td>...</td>\n",
       "      <td>...</td>\n",
       "      <td>...</td>\n",
       "      <td>...</td>\n",
       "      <td>...</td>\n",
       "      <td>...</td>\n",
       "      <td>...</td>\n",
       "      <td>...</td>\n",
       "      <td>...</td>\n",
       "      <td>...</td>\n",
       "      <td>...</td>\n",
       "      <td>...</td>\n",
       "      <td>...</td>\n",
       "      <td>...</td>\n",
       "      <td>...</td>\n",
       "      <td>...</td>\n",
       "      <td>...</td>\n",
       "      <td>...</td>\n",
       "      <td>...</td>\n",
       "    </tr>\n",
       "    <tr>\n",
       "      <th>12677</th>\n",
       "      <td>4.0</td>\n",
       "      <td>123</td>\n",
       "      <td>550.0</td>\n",
       "      <td>0</td>\n",
       "      <td>0</td>\n",
       "      <td>0</td>\n",
       "      <td>0</td>\n",
       "      <td>0</td>\n",
       "      <td>0</td>\n",
       "      <td>0</td>\n",
       "      <td>...</td>\n",
       "      <td>0</td>\n",
       "      <td>0</td>\n",
       "      <td>0</td>\n",
       "      <td>1</td>\n",
       "      <td>0</td>\n",
       "      <td>0</td>\n",
       "      <td>0</td>\n",
       "      <td>0</td>\n",
       "      <td>0</td>\n",
       "      <td>0</td>\n",
       "    </tr>\n",
       "    <tr>\n",
       "      <th>12682</th>\n",
       "      <td>3.6</td>\n",
       "      <td>30</td>\n",
       "      <td>450.0</td>\n",
       "      <td>1</td>\n",
       "      <td>0</td>\n",
       "      <td>0</td>\n",
       "      <td>0</td>\n",
       "      <td>0</td>\n",
       "      <td>0</td>\n",
       "      <td>0</td>\n",
       "      <td>...</td>\n",
       "      <td>0</td>\n",
       "      <td>0</td>\n",
       "      <td>0</td>\n",
       "      <td>0</td>\n",
       "      <td>0</td>\n",
       "      <td>0</td>\n",
       "      <td>0</td>\n",
       "      <td>0</td>\n",
       "      <td>0</td>\n",
       "      <td>0</td>\n",
       "    </tr>\n",
       "    <tr>\n",
       "      <th>12684</th>\n",
       "      <td>3.8</td>\n",
       "      <td>492</td>\n",
       "      <td>550.0</td>\n",
       "      <td>0</td>\n",
       "      <td>1</td>\n",
       "      <td>0</td>\n",
       "      <td>0</td>\n",
       "      <td>0</td>\n",
       "      <td>0</td>\n",
       "      <td>0</td>\n",
       "      <td>...</td>\n",
       "      <td>0</td>\n",
       "      <td>0</td>\n",
       "      <td>0</td>\n",
       "      <td>0</td>\n",
       "      <td>1</td>\n",
       "      <td>0</td>\n",
       "      <td>0</td>\n",
       "      <td>0</td>\n",
       "      <td>0</td>\n",
       "      <td>0</td>\n",
       "    </tr>\n",
       "    <tr>\n",
       "      <th>12685</th>\n",
       "      <td>3.8</td>\n",
       "      <td>546</td>\n",
       "      <td>500.0</td>\n",
       "      <td>1</td>\n",
       "      <td>0</td>\n",
       "      <td>0</td>\n",
       "      <td>0</td>\n",
       "      <td>0</td>\n",
       "      <td>0</td>\n",
       "      <td>0</td>\n",
       "      <td>...</td>\n",
       "      <td>0</td>\n",
       "      <td>0</td>\n",
       "      <td>1</td>\n",
       "      <td>0</td>\n",
       "      <td>0</td>\n",
       "      <td>0</td>\n",
       "      <td>0</td>\n",
       "      <td>0</td>\n",
       "      <td>0</td>\n",
       "      <td>0</td>\n",
       "    </tr>\n",
       "    <tr>\n",
       "      <th>12689</th>\n",
       "      <td>3.4</td>\n",
       "      <td>677</td>\n",
       "      <td>600.0</td>\n",
       "      <td>0</td>\n",
       "      <td>1</td>\n",
       "      <td>0</td>\n",
       "      <td>0</td>\n",
       "      <td>0</td>\n",
       "      <td>0</td>\n",
       "      <td>0</td>\n",
       "      <td>...</td>\n",
       "      <td>0</td>\n",
       "      <td>0</td>\n",
       "      <td>1</td>\n",
       "      <td>0</td>\n",
       "      <td>0</td>\n",
       "      <td>0</td>\n",
       "      <td>0</td>\n",
       "      <td>0</td>\n",
       "      <td>0</td>\n",
       "      <td>0</td>\n",
       "    </tr>\n",
       "  </tbody>\n",
       "</table>\n",
       "<p>4769 rows × 38 columns</p>\n",
       "</div>"
      ],
      "text/plain": [
       "       RATING  VOTES    COST  QUICK BITES  CASUAL DINING  CAFÉ  BAR  \\\n",
       "0         3.6     49  1200.0            0              1     0    0   \n",
       "3         4.1     24   800.0            1              0     0    0   \n",
       "8         3.9    101   300.0            1              0     0    0   \n",
       "9         3.3    219   200.0            1              0     0    0   \n",
       "13        0.0      0   400.0            0              1     0    0   \n",
       "...       ...    ...     ...          ...            ...   ...  ...   \n",
       "12677     4.0    123   550.0            0              0     0    0   \n",
       "12682     3.6     30   450.0            1              0     0    0   \n",
       "12684     3.8    492   550.0            0              1     0    0   \n",
       "12685     3.8    546   500.0            1              0     0    0   \n",
       "12689     3.4    677   600.0            0              1     0    0   \n",
       "\n",
       "       DESSERT PARLOR  BAKERY  FINE DINING  ...  Chennai  Bangalore  \\\n",
       "0                   0       0            0  ...        0          0   \n",
       "3                   0       0            0  ...        0          0   \n",
       "8                   0       0            0  ...        0          1   \n",
       "9                   0       0            0  ...        0          0   \n",
       "13                  0       0            0  ...        0          0   \n",
       "...               ...     ...          ...  ...      ...        ...   \n",
       "12677               0       0            0  ...        0          0   \n",
       "12682               0       0            0  ...        0          0   \n",
       "12684               0       0            0  ...        0          0   \n",
       "12685               0       0            0  ...        0          0   \n",
       "12689               0       0            0  ...        0          0   \n",
       "\n",
       "       Hyderabad  Mumbai  New Delhi  Kochi  Gurgaon  Secunderabad  Noida  \\\n",
       "0              0       0          0      0        0             0      0   \n",
       "3              0       1          0      0        0             0      0   \n",
       "8              0       0          0      0        0             0      0   \n",
       "9              1       0          0      0        0             0      0   \n",
       "13             0       0          0      1        0             0      0   \n",
       "...          ...     ...        ...    ...      ...           ...    ...   \n",
       "12677          0       1          0      0        0             0      0   \n",
       "12682          0       0          0      0        0             0      0   \n",
       "12684          0       0          1      0        0             0      0   \n",
       "12685          1       0          0      0        0             0      0   \n",
       "12689          1       0          0      0        0             0      0   \n",
       "\n",
       "       Navi Mumbai  \n",
       "0                0  \n",
       "3                0  \n",
       "8                0  \n",
       "9                0  \n",
       "13               0  \n",
       "...            ...  \n",
       "12677            0  \n",
       "12682            0  \n",
       "12684            0  \n",
       "12685            0  \n",
       "12689            0  \n",
       "\n",
       "[4769 rows x 38 columns]"
      ]
     },
     "execution_count": 134,
     "metadata": {},
     "output_type": "execute_result"
    }
   ],
   "source": [
    "#Treating Outliers\n",
    "from scipy.stats import zscore\n",
    "import numpy as np\n",
    "z = np.abs(zscore(Train_data))\n",
    "threshold =3\n",
    "new_df = Train_data[(z<3).all(axis=1)]\n",
    "new_df"
   ]
  },
  {
   "cell_type": "code",
   "execution_count": 135,
   "metadata": {},
   "outputs": [
    {
     "data": {
      "text/plain": [
       "(12690, 38)"
      ]
     },
     "execution_count": 135,
     "metadata": {},
     "output_type": "execute_result"
    }
   ],
   "source": [
    "Train_data.shape"
   ]
  },
  {
   "cell_type": "raw",
   "metadata": {},
   "source": [
    "Here we can see that there is heavy data loss while removing outliers by Zscore method."
   ]
  },
  {
   "cell_type": "code",
   "execution_count": 136,
   "metadata": {},
   "outputs": [
    {
     "name": "stdout",
     "output_type": "stream",
     "text": [
      "RATING              0.60\n",
      "VOTES             365.75\n",
      "COST              500.00\n",
      "QUICK BITES         1.00\n",
      "CASUAL DINING       1.00\n",
      "CAFÉ                0.00\n",
      "BAR                 0.00\n",
      "DESSERT PARLOR      0.00\n",
      "BAKERY              0.00\n",
      "FINE DINING         0.00\n",
      "BEVERAGE SHOP       0.00\n",
      "LOUNGE              0.00\n",
      "SWEET SHOP          0.00\n",
      "North Indian        1.00\n",
      "Chinese             1.00\n",
      "South Indian        0.00\n",
      "Fast Food           0.00\n",
      "Continental         0.00\n",
      "Biryani             0.00\n",
      "Desserts            0.00\n",
      "Italian             0.00\n",
      "Beverages           0.00\n",
      "Cafe                0.00\n",
      "Mughlai             0.00\n",
      "Street Food         0.00\n",
      "Bakery              0.00\n",
      "Seafood             0.00\n",
      "Kerala              0.00\n",
      "Chennai             0.00\n",
      "Bangalore           0.00\n",
      "Hyderabad           0.00\n",
      "Mumbai              0.00\n",
      "New Delhi           0.00\n",
      "Kochi               0.00\n",
      "Gurgaon             0.00\n",
      "Secunderabad        0.00\n",
      "Noida               0.00\n",
      "Navi Mumbai         0.00\n",
      "dtype: float64\n"
     ]
    }
   ],
   "source": [
    "#IQR Method\n",
    "\n",
    "Q1 = Train_data.quantile(0.25)\n",
    "Q3 = Train_data.quantile(0.75)\n",
    "IQR = Q3-Q1\n",
    "print(IQR)"
   ]
  },
  {
   "cell_type": "code",
   "execution_count": 137,
   "metadata": {},
   "outputs": [
    {
     "name": "stdout",
     "output_type": "stream",
     "text": [
      "(220, 38)\n"
     ]
    }
   ],
   "source": [
    "df_new1 = Train_data[~((Train_data<(Q1-1.5*IQR)) | (Train_data> (Q3+1.5*IQR))).any(axis=1)]\n",
    "print(df_new1.shape)"
   ]
  },
  {
   "cell_type": "raw",
   "metadata": {},
   "source": [
    "Ther is huge data loss while removing outliers, For now i will continue without deleting outliers and check performance"
   ]
  },
  {
   "cell_type": "code",
   "execution_count": 168,
   "metadata": {},
   "outputs": [
    {
     "data": {
      "text/plain": [
       "RATING            -2.214271\n",
       "VOTES             14.522617\n",
       "COST               3.978801\n",
       "QUICK BITES        0.572878\n",
       "CASUAL DINING      0.651855\n",
       "CAFÉ               3.482442\n",
       "BAR                3.958224\n",
       "DESSERT PARLOR     4.201886\n",
       "BAKERY             4.571879\n",
       "FINE DINING        5.699442\n",
       "BEVERAGE SHOP      6.927858\n",
       "LOUNGE             7.756587\n",
       "SWEET SHOP         8.882679\n",
       "North Indian       0.306814\n",
       "Chinese            0.655893\n",
       "South Indian       1.673157\n",
       "Fast Food          1.784506\n",
       "Continental        2.293625\n",
       "Biryani            2.680180\n",
       "Desserts           2.859109\n",
       "Italian            2.860783\n",
       "Beverages          3.194990\n",
       "Cafe               3.515972\n",
       "Mughlai            3.707084\n",
       "Street Food        4.024826\n",
       "Bakery             4.053684\n",
       "Seafood            4.316784\n",
       "Kerala             4.657060\n",
       "Chennai            1.744884\n",
       "Bangalore          1.763428\n",
       "Hyderabad          2.035845\n",
       "Mumbai             2.127771\n",
       "New Delhi          2.593095\n",
       "Kochi              2.652463\n",
       "Gurgaon            5.524568\n",
       "Secunderabad       6.161940\n",
       "Noida              7.561257\n",
       "Navi Mumbai        8.598822\n",
       "dtype: float64"
      ]
     },
     "execution_count": 168,
     "metadata": {},
     "output_type": "execute_result"
    }
   ],
   "source": [
    "#Checking skewness\n",
    "df=Train_data\n",
    "df.skew()"
   ]
  },
  {
   "cell_type": "code",
   "execution_count": 169,
   "metadata": {},
   "outputs": [],
   "source": [
    "x= df.drop(\"COST\",axis=1)\n",
    "y= df[\"COST\"] #Target variable"
   ]
  },
  {
   "cell_type": "code",
   "execution_count": 170,
   "metadata": {},
   "outputs": [],
   "source": [
    "#Removing Skewness\n",
    "from sklearn.preprocessing import power_transform\n",
    "x= power_transform(x,method=\"yeo-johnson\")"
   ]
  },
  {
   "cell_type": "code",
   "execution_count": 171,
   "metadata": {},
   "outputs": [
    {
     "data": {
      "text/plain": [
       "(12690, 37)"
      ]
     },
     "execution_count": 171,
     "metadata": {},
     "output_type": "execute_result"
    }
   ],
   "source": [
    "x.shape"
   ]
  },
  {
   "cell_type": "code",
   "execution_count": 173,
   "metadata": {},
   "outputs": [
    {
     "data": {
      "text/plain": [
       "(12690, 1)"
      ]
     },
     "execution_count": 173,
     "metadata": {},
     "output_type": "execute_result"
    }
   ],
   "source": [
    "y=y.values.reshape(-1,1)\n",
    "y.shape"
   ]
  },
  {
   "cell_type": "markdown",
   "metadata": {},
   "source": [
    "# Preparing Dataset For Model Training"
   ]
  },
  {
   "cell_type": "raw",
   "metadata": {},
   "source": [
    "Linear Regression"
   ]
  },
  {
   "cell_type": "code",
   "execution_count": 174,
   "metadata": {},
   "outputs": [],
   "source": [
    "from sklearn.preprocessing import StandardScaler\n",
    "sc = StandardScaler()\n",
    "x_t = sc.fit_transform(x)\n",
    "from sklearn.model_selection import train_test_split\n",
    "from sklearn.linear_model import LinearRegression\n",
    "lr=LinearRegression()\n",
    "from sklearn.metrics import r2_score"
   ]
  },
  {
   "cell_type": "code",
   "execution_count": 175,
   "metadata": {},
   "outputs": [
    {
     "name": "stdout",
     "output_type": "stream",
     "text": [
      "At random_state  239  The model performs very well\n",
      "At random_state:- 239\n",
      "Training r2_score is:- 65.63078141703397\n",
      "Testing r2_score is:- 65.62989467088697\n"
     ]
    }
   ],
   "source": [
    "#Finding best random state\n",
    "\n",
    "max_scr = 0\n",
    "for i in range(0,1000):\n",
    "    x_train,x_test,y_train,y_test = train_test_split(x_t,y,random_state=i,test_size = 0.20)\n",
    "    lr.fit(x_train,y_train)\n",
    "    pred_train = lr.predict(x_train)\n",
    "    pred_test = lr.predict(x_test)\n",
    "    if round(r2_score(y_train,pred_train)*100,2)==round(r2_score(y_test,pred_test)*100,2):\n",
    "        print(\"At random_state \",i,\" The model performs very well\")\n",
    "        print(\"At random_state:-\",i)\n",
    "        print(\"Training r2_score is:-\",r2_score(y_train,pred_train)*100)\n",
    "        print(\"Testing r2_score is:-\",r2_score(y_test,pred_test)*100)"
   ]
  },
  {
   "cell_type": "code",
   "execution_count": 176,
   "metadata": {},
   "outputs": [
    {
     "name": "stdout",
     "output_type": "stream",
     "text": [
      "Best Accuracy 71.41796699958198 found on random_state 112\n"
     ]
    }
   ],
   "source": [
    "#Finding best random state by other method\n",
    "from sklearn.model_selection import train_test_split\n",
    "from sklearn.linear_model import LinearRegression\n",
    "from sklearn.model_selection import cross_val_score\n",
    "from sklearn.metrics import r2_score\n",
    "\n",
    "best_rstate=0\n",
    "accu=0\n",
    "\n",
    "for i in range(30,200):\n",
    "    x_train,x_test,y_train,y_test = train_test_split(x_t,y,test_size = .25,random_state=i)\n",
    "    mod = LinearRegression()\n",
    "    mod.fit(x_train,y_train)\n",
    "    y_pred = mod.predict(x_test)\n",
    "    tempaccu = r2_score(y_test,y_pred)\n",
    "    \n",
    "    if tempaccu>accu:\n",
    "        accu = tempaccu\n",
    "        best_rstate = i\n",
    "        \n",
    "        \n",
    "        \n",
    "print(f\"Best Accuracy {accu*100} found on random_state {best_rstate}\")\n",
    "    \n",
    "\n"
   ]
  },
  {
   "cell_type": "code",
   "execution_count": 177,
   "metadata": {},
   "outputs": [],
   "source": [
    "x_train_b,x_test_b,y_train_b,y_test_b = train_test_split(x_t,y,random_state=112,test_size=0.25)"
   ]
  },
  {
   "cell_type": "code",
   "execution_count": 178,
   "metadata": {},
   "outputs": [],
   "source": [
    "from sklearn.model_selection import GridSearchCV\n",
    "from sklearn.model_selection import cross_val_score\n",
    "import warnings\n",
    "warnings.filterwarnings('ignore')"
   ]
  },
  {
   "cell_type": "raw",
   "metadata": {},
   "source": [
    "Linear Regression"
   ]
  },
  {
   "cell_type": "code",
   "execution_count": 159,
   "metadata": {},
   "outputs": [
    {
     "name": "stdout",
     "output_type": "stream",
     "text": [
      "Accuracy = 71.41796699958198,Cross_val_score=63.54700484998167 & difference = 7.8709621496003095\n"
     ]
    }
   ],
   "source": [
    "from sklearn.linear_model import LinearRegression\n",
    "LR = LinearRegression()\n",
    "LR.fit(x_train_b,y_train_b)\n",
    "y_pred = LR.predict(x_test_b)\n",
    "r2score = r2_score(y_test_b,y_pred)\n",
    "cvscore = cross_val_score(LinearRegression(),x_train_b,y_train_b,cv=5).mean()\n",
    "print(f\"Accuracy = {r2score*100},Cross_val_score={cvscore*100} & difference = {(r2score*100)-(cvscore*100)}\")"
   ]
  },
  {
   "cell_type": "code",
   "execution_count": 179,
   "metadata": {},
   "outputs": [],
   "source": [
    "from sklearn.linear_model import Lasso\n",
    "from sklearn.linear_model import Ridge\n",
    "from sklearn.svm import SVR\n",
    "from sklearn.tree import DecisionTreeRegressor\n",
    "from sklearn.neighbors import KNeighborsRegressor\n",
    "from sklearn.metrics import mean_absolute_error\n",
    "from sklearn.metrics import mean_squared_error\n",
    "import numpy as np\n"
   ]
  },
  {
   "cell_type": "code",
   "execution_count": 163,
   "metadata": {},
   "outputs": [
    {
     "name": "stdout",
     "output_type": "stream",
     "text": [
      "Accuracy Score Of  LinearRegression() is :\n",
      "R2-Score=  71.41796699958198\n",
      "Cross Val Score=  65.70726188599265\n",
      "Error:\n",
      "Mean Absolute Error:=  211.4509687174293\n",
      "Mean Squared Error:=  107931.22648503695\n",
      "Root Mean Square Error;=  328.5288822691803\n",
      "**************************************************************************************************************\n",
      "\n",
      "\n",
      "Accuracy Score Of  Lasso() is :\n",
      "R2-Score=  71.38944297599838\n",
      "Cross Val Score=  65.70403382652985\n",
      "Error:\n",
      "Mean Absolute Error:=  211.11934706342535\n",
      "Mean Squared Error:=  108038.9386568626\n",
      "Root Mean Square Error;=  328.69277244390787\n",
      "**************************************************************************************************************\n",
      "\n",
      "\n",
      "Accuracy Score Of  Ridge() is :\n",
      "R2-Score=  71.4171430864811\n",
      "Cross Val Score=  65.70738750297768\n",
      "Error:\n",
      "Mean Absolute Error:=  211.45383161627663\n",
      "Mean Squared Error:=  107934.3377385819\n",
      "Root Mean Square Error;=  328.5336173644668\n",
      "**************************************************************************************************************\n",
      "\n",
      "\n",
      "Accuracy Score Of  DecisionTreeRegressor() is :\n",
      "R2-Score=  15.09925285782141\n",
      "Cross Val Score=  37.30264222058018\n",
      "Error:\n",
      "Mean Absolute Error:=  262.58279503517696\n",
      "Mean Squared Error:=  320601.46905635844\n",
      "Root Mean Square Error;=  566.216803933227\n",
      "**************************************************************************************************************\n",
      "\n",
      "\n",
      "Accuracy Score Of  SVR() is :\n",
      "R2-Score=  11.59083040011466\n",
      "Cross Val Score=  13.177547206621368\n",
      "Error:\n",
      "Mean Absolute Error:=  293.39071057530555\n",
      "Mean Squared Error:=  333849.9436796436\n",
      "Root Mean Square Error;=  577.7974936598839\n",
      "**************************************************************************************************************\n",
      "\n",
      "\n",
      "Accuracy Score Of  KNeighborsRegressor() is :\n",
      "R2-Score=  72.21358202352648\n",
      "Cross Val Score=  66.35824131594588\n",
      "Error:\n",
      "Mean Absolute Error:=  199.3955247399937\n",
      "Mean Squared Error:=  104926.83189410654\n",
      "Root Mean Square Error;=  323.92411440660993\n",
      "**************************************************************************************************************\n",
      "\n",
      "\n"
     ]
    }
   ],
   "source": [
    "#All algorithm by using for loop\n",
    "model = [LinearRegression(),Lasso(),Ridge(),DecisionTreeRegressor(),SVR(),KNeighborsRegressor()]\n",
    "\n",
    "for m in model:\n",
    "    m.fit(x_train_b,y_train_b)\n",
    "    m.score(x_train_b,y_train_b)\n",
    "    predm = m.predict(x_test_b)\n",
    "    rds= r2_score(y_test_b,predm)\n",
    "    print(\"Accuracy Score Of \",m,\"is :\")    \n",
    "    print(\"R2-Score= \",rds*100)\n",
    "    rdscore = cross_val_score(m,x_t,y,cv=10)\n",
    "    rdc=rdscore.mean()\n",
    "    print(\"Cross Val Score= \",rdc*100)\n",
    "    print(\"Error:\")\n",
    "    print('Mean Absolute Error:= ',mean_absolute_error(y_test_b,predm))\n",
    "    print('Mean Squared Error:= ',mean_squared_error(y_test_b,predm))\n",
    "    print(\"Root Mean Square Error;= \",np.sqrt(mean_squared_error(y_test_b,predm)))    \n",
    "    print(\"**************************************************************************************************************\")\n",
    "    print('\\n')\n",
    "    \n",
    "    "
   ]
  },
  {
   "cell_type": "markdown",
   "metadata": {},
   "source": [
    "As of now we can see that KNeighborsRegressor is giving best score and performing well however i will use ensemble technique\n",
    "to boost the score."
   ]
  },
  {
   "cell_type": "raw",
   "metadata": {},
   "source": [
    "Using Ensemble Technique To Boostup Our Score"
   ]
  },
  {
   "cell_type": "code",
   "execution_count": 180,
   "metadata": {},
   "outputs": [],
   "source": [
    "from sklearn.ensemble import RandomForestRegressor\n",
    "from sklearn.ensemble import AdaBoostRegressor\n",
    "from sklearn.ensemble import GradientBoostingRegressor\n",
    "from sklearn.linear_model import SGDRegressor\n"
   ]
  },
  {
   "cell_type": "code",
   "execution_count": 165,
   "metadata": {},
   "outputs": [
    {
     "name": "stdout",
     "output_type": "stream",
     "text": [
      "Accuracy Score Of  RandomForestRegressor() is :\n",
      "R2-Score=  71.20168024778894\n",
      "Cross Val Score=  67.1893708996619\n",
      "Error:\n",
      "Mean Absolute Error:=  197.3018583535505\n",
      "Mean Squared Error:=  108747.96665160054\n",
      "Root Mean Square Error;=  329.7695659875249\n",
      "**************************************************************************************************************\n",
      "\n",
      "\n",
      "Accuracy Score Of  AdaBoostRegressor() is :\n",
      "R2-Score=  -58.25042177502038\n",
      "Cross Val Score=  -67.21271303798724\n",
      "Error:\n",
      "Mean Absolute Error:=  693.0456417015646\n",
      "Mean Squared Error:=  597583.8777354483\n",
      "Root Mean Square Error;=  773.0354957797529\n",
      "**************************************************************************************************************\n",
      "\n",
      "\n",
      "Accuracy Score Of  GradientBoostingRegressor() is :\n",
      "R2-Score=  74.63590196728262\n",
      "Cross Val Score=  69.37418281449223\n",
      "Error:\n",
      "Mean Absolute Error:=  192.58997617876358\n",
      "Mean Squared Error:=  95779.6882159454\n",
      "Root Mean Square Error;=  309.4829368736593\n",
      "**************************************************************************************************************\n",
      "\n",
      "\n",
      "Accuracy Score Of  SGDRegressor() is :\n",
      "R2-Score=  71.42839079675598\n",
      "Cross Val Score=  65.24829581192212\n",
      "Error:\n",
      "Mean Absolute Error:=  211.44288627501805\n",
      "Mean Squared Error:=  107891.86423205781\n",
      "Root Mean Square Error;=  328.4689699683332\n",
      "**************************************************************************************************************\n",
      "\n",
      "\n"
     ]
    }
   ],
   "source": [
    "model = [RandomForestRegressor(),AdaBoostRegressor(),GradientBoostingRegressor(),SGDRegressor()]\n",
    "\n",
    "for m in model:\n",
    "    m.fit(x_train_b,y_train_b)\n",
    "    m.score(x_train_b,y_train_b)\n",
    "    predm = m.predict(x_test_b)\n",
    "    rds= r2_score(y_test_b,predm)\n",
    "    print(\"Accuracy Score Of \",m,\"is :\")    \n",
    "    print(\"R2-Score= \",rds*100)\n",
    "    rdscore = cross_val_score(m,x_t,y,cv=3)\n",
    "    rdc=rdscore.mean()\n",
    "    print(\"Cross Val Score= \",rdc*100)\n",
    "    print(\"Error:\")\n",
    "    print('Mean Absolute Error:= ',mean_absolute_error(y_test_b,predm))\n",
    "    print('Mean Squared Error:= ',mean_squared_error(y_test_b,predm))\n",
    "    print(\"Root Mean Square Error;= \",np.sqrt(mean_squared_error(y_test_b,predm)))\n",
    "    print(\"**************************************************************************************************************\")\n",
    "    print('\\n')\n",
    "    \n",
    "    "
   ]
  },
  {
   "cell_type": "markdown",
   "metadata": {},
   "source": [
    "Observation:-\n",
    "    \n",
    "After using of all techniques i found that GradientBoostingRegressor() is performing better with:-\n",
    "  \n",
    "R2-Score=  74.63590196728262\n",
    "Cross Val Score=  69.37418281449223\n",
    "Difference = 5.261719152790391\n",
    "\n",
    "However  I will use Hyperparameter Tuning To boost the score"
   ]
  },
  {
   "cell_type": "raw",
   "metadata": {},
   "source": [
    "HyperTuning using GridsearchCV"
   ]
  },
  {
   "cell_type": "code",
   "execution_count": 181,
   "metadata": {},
   "outputs": [
    {
     "name": "stdout",
     "output_type": "stream",
     "text": [
      "{'criterion': 'friedman_mse', 'loss': 'ls','n_estimators'=100}\n"
     ]
    }
   ],
   "source": [
    "from sklearn.ensemble import GradientBoostingRegressor\n",
    "parameters= {'loss':['ls', 'lad', 'huber', 'quantile'],'criterion':['friedman_mse', 'mse', 'mae'],'n_estimator':[50,100,150]}\n",
    "gbr=GradientBoostingRegressor()\n",
    "clf = GridSearchCV(gbr,parameters)\n",
    "clf.fit(x_train_b,y_train_b)\n",
    "print(clf.best_params_)\n"
   ]
  },
  {
   "cell_type": "code",
   "execution_count": 183,
   "metadata": {},
   "outputs": [
    {
     "name": "stdout",
     "output_type": "stream",
     "text": [
      "Accuracy Score Of  GradientBoostingRegressor() is :\n",
      "R2-Score=  74.64169497120206\n",
      "Cross Val Score=  69.36780523331146\n",
      "Error:\n",
      "Mean Absolute Error:=  192.56584026518567\n",
      "Mean Squared Error:=  95757.81272451174\n",
      "Root Mean Square Error;=  309.44759285622456\n",
      "**************************************************************************************************************\n",
      "\n",
      "\n"
     ]
    }
   ],
   "source": [
    "gbr = GradientBoostingRegressor(criterion='friedman_mse',loss='ls',n_estimators=100)\n",
    "gbr.fit(x_train_b,y_train_b)\n",
    "gbr.score(x_train_b,y_train_b)\n",
    "predgbr = gbr.predict(x_test_b)\n",
    "rds= r2_score(y_test_b,predgbr)\n",
    "print(\"Accuracy Score Of \",gbr,\"is :\")    \n",
    "print(\"R2-Score= \",rds*100)\n",
    "rdscore = cross_val_score(gbr,x_t,y,cv=3)\n",
    "rdc=rdscore.mean()\n",
    "print(\"Cross Val Score= \",rdc*100)\n",
    "print(\"Error:\")\n",
    "print('Mean Absolute Error:= ',mean_absolute_error(y_test_b,predgbr))\n",
    "print('Mean Squared Error:= ',mean_squared_error(y_test_b,predgbr))\n",
    "print(\"Root Mean Square Error;= \",np.sqrt(mean_squared_error(y_test_b,predgbr)))\n",
    "print(\"**************************************************************************************************************\")\n",
    "print('\\n')\n",
    "    \n",
    "    "
   ]
  },
  {
   "cell_type": "markdown",
   "metadata": {},
   "source": [
    "# Model Saving"
   ]
  },
  {
   "cell_type": "code",
   "execution_count": 184,
   "metadata": {},
   "outputs": [
    {
     "data": {
      "text/plain": [
       "['gbrfile.obj']"
      ]
     },
     "execution_count": 184,
     "metadata": {},
     "output_type": "execute_result"
    }
   ],
   "source": [
    "#Model Saving with best model RandomForestRegressor\n",
    "import joblib \n",
    "\n",
    "joblib.dump(gbr,'gbrfile.obj')"
   ]
  },
  {
   "cell_type": "code",
   "execution_count": 185,
   "metadata": {},
   "outputs": [
    {
     "data": {
      "text/plain": [
       "GradientBoostingRegressor()"
      ]
     },
     "execution_count": 185,
     "metadata": {},
     "output_type": "execute_result"
    }
   ],
   "source": [
    "#Loading to see my model\n",
    "gbr_from_joblib = joblib.load('gbrfile.obj')\n",
    "gbr_from_joblib"
   ]
  },
  {
   "cell_type": "raw",
   "metadata": {},
   "source": [
    "Prediction For Test_data"
   ]
  },
  {
   "cell_type": "code",
   "execution_count": 199,
   "metadata": {},
   "outputs": [],
   "source": [
    "Test_data['RATING'] = np.where(Test_data['RATING']==\"NEW\",0, Test_data['RATING'])#Converting new into 0\n",
    "Test_data['RATING'] = np.where(Test_data['RATING']==\"-\",0, Test_data['RATING'])#Converting _ into 0\n",
    "Test_data['VOTES']= Test_data['VOTES'].str.replace(' votes', '')#Removing votes string from VOTES column\n"
   ]
  },
  {
   "cell_type": "code",
   "execution_count": 195,
   "metadata": {},
   "outputs": [],
   "source": [
    "x=Test_data"
   ]
  },
  {
   "cell_type": "code",
   "execution_count": 196,
   "metadata": {},
   "outputs": [
    {
     "data": {
      "text/plain": [
       "(4229, 37)"
      ]
     },
     "execution_count": 196,
     "metadata": {},
     "output_type": "execute_result"
    }
   ],
   "source": [
    "x.shape\n"
   ]
  },
  {
   "cell_type": "code",
   "execution_count": 200,
   "metadata": {},
   "outputs": [],
   "source": [
    "from sklearn.preprocessing import StandardScaler\n",
    "stdsc = StandardScaler()\n",
    "X = stdsc.fit_transform(x)"
   ]
  },
  {
   "cell_type": "code",
   "execution_count": 201,
   "metadata": {},
   "outputs": [
    {
     "data": {
      "text/plain": [
       "array([822.04697186, 327.29067631, 713.69960575, ..., 431.07185742,\n",
       "       412.76885114, 430.21523134])"
      ]
     },
     "execution_count": 201,
     "metadata": {},
     "output_type": "execute_result"
    }
   ],
   "source": [
    "x_predict=gbr_from_joblib.predict(X)\n",
    "x_predict"
   ]
  },
  {
   "cell_type": "code",
   "execution_count": 202,
   "metadata": {},
   "outputs": [],
   "source": [
    "# Saving The predictions in csv file\n",
    "import numpy as np\n",
    "import pandas as pd\n",
    "prediction = pd.DataFrame(x_predict, columns=['Result']).to_csv('FoodCost_Prediction.csv')"
   ]
  },
  {
   "cell_type": "code",
   "execution_count": 203,
   "metadata": {},
   "outputs": [
    {
     "data": {
      "text/html": [
       "<div>\n",
       "<style scoped>\n",
       "    .dataframe tbody tr th:only-of-type {\n",
       "        vertical-align: middle;\n",
       "    }\n",
       "\n",
       "    .dataframe tbody tr th {\n",
       "        vertical-align: top;\n",
       "    }\n",
       "\n",
       "    .dataframe thead th {\n",
       "        text-align: right;\n",
       "    }\n",
       "</style>\n",
       "<table border=\"1\" class=\"dataframe\">\n",
       "  <thead>\n",
       "    <tr style=\"text-align: right;\">\n",
       "      <th></th>\n",
       "      <th>Unnamed: 0</th>\n",
       "      <th>Result</th>\n",
       "    </tr>\n",
       "  </thead>\n",
       "  <tbody>\n",
       "    <tr>\n",
       "      <th>0</th>\n",
       "      <td>0</td>\n",
       "      <td>822.0</td>\n",
       "    </tr>\n",
       "    <tr>\n",
       "      <th>1</th>\n",
       "      <td>1</td>\n",
       "      <td>327.0</td>\n",
       "    </tr>\n",
       "    <tr>\n",
       "      <th>2</th>\n",
       "      <td>2</td>\n",
       "      <td>714.0</td>\n",
       "    </tr>\n",
       "    <tr>\n",
       "      <th>3</th>\n",
       "      <td>3</td>\n",
       "      <td>611.0</td>\n",
       "    </tr>\n",
       "    <tr>\n",
       "      <th>4</th>\n",
       "      <td>4</td>\n",
       "      <td>238.0</td>\n",
       "    </tr>\n",
       "  </tbody>\n",
       "</table>\n",
       "</div>"
      ],
      "text/plain": [
       "   Unnamed: 0  Result\n",
       "0           0   822.0\n",
       "1           1   327.0\n",
       "2           2   714.0\n",
       "3           3   611.0\n",
       "4           4   238.0"
      ]
     },
     "execution_count": 203,
     "metadata": {},
     "output_type": "execute_result"
    }
   ],
   "source": [
    "Predicted = pd.read_csv('FoodCost_Prediction.csv')\n",
    "Predicted.head().round()"
   ]
  },
  {
   "cell_type": "markdown",
   "metadata": {},
   "source": [
    "# END OF PROJECT"
   ]
  }
 ],
 "metadata": {
  "kernelspec": {
   "display_name": "Python 3",
   "language": "python",
   "name": "python3"
  },
  "language_info": {
   "codemirror_mode": {
    "name": "ipython",
    "version": 3
   },
   "file_extension": ".py",
   "mimetype": "text/x-python",
   "name": "python",
   "nbconvert_exporter": "python",
   "pygments_lexer": "ipython3",
   "version": "3.8.3"
  }
 },
 "nbformat": 4,
 "nbformat_minor": 4
}
